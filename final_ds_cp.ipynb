{
  "cells": [
    {
      "cell_type": "markdown",
      "metadata": {
        "id": "yJn3EcuCaE4D"
      },
      "source": [
        "## Installing required packages"
      ]
    },
    {
      "cell_type": "code",
      "execution_count": 1,
      "metadata": {
        "colab": {
          "base_uri": "https://localhost:8080/",
          "height": 687
        },
        "id": "zBpX62rZZ8wI",
        "outputId": "68c551c3-88d1-4643-cc2c-622dad36eb4a",
        "vscode": {
          "languageId": "r"
        }
      },
      "outputs": [
        {
          "name": "stderr",
          "output_type": "stream",
          "text": [
            "Installing packages into 'C:/Users/sruja/AppData/Local/R/win-library/4.3'\n",
            "(as 'lib' is unspecified)\n",
            "\n"
          ]
        },
        {
          "name": "stdout",
          "output_type": "stream",
          "text": [
            "package 'caret' successfully unpacked and MD5 sums checked\n"
          ]
        },
        {
          "name": "stderr",
          "output_type": "stream",
          "text": [
            "Warning message:\n",
            "\"cannot remove prior installation of package 'caret'\"\n",
            "Warning message in file.copy(savedcopy, lib, recursive = TRUE):\n",
            "\"problem copying C:\\Users\\sruja\\AppData\\Local\\R\\win-library\\4.3\\00LOCK\\caret\\libs\\x64\\caret.dll to C:\\Users\\sruja\\AppData\\Local\\R\\win-library\\4.3\\caret\\libs\\x64\\caret.dll: Permission denied\"\n",
            "Warning message:\n",
            "\"restored 'caret'\"\n"
          ]
        },
        {
          "name": "stdout",
          "output_type": "stream",
          "text": [
            "package 'randomForest' successfully unpacked and MD5 sums checked\n"
          ]
        },
        {
          "name": "stderr",
          "output_type": "stream",
          "text": [
            "Warning message:\n",
            "\"cannot remove prior installation of package 'randomForest'\"\n",
            "Warning message in file.copy(savedcopy, lib, recursive = TRUE):\n",
            "\"problem copying C:\\Users\\sruja\\AppData\\Local\\R\\win-library\\4.3\\00LOCK\\randomForest\\libs\\x64\\randomForest.dll to C:\\Users\\sruja\\AppData\\Local\\R\\win-library\\4.3\\randomForest\\libs\\x64\\randomForest.dll: Permission denied\"\n",
            "Warning message:\n",
            "\"restored 'randomForest'\"\n"
          ]
        },
        {
          "name": "stdout",
          "output_type": "stream",
          "text": [
            "package 'e1071' successfully unpacked and MD5 sums checked\n"
          ]
        },
        {
          "name": "stderr",
          "output_type": "stream",
          "text": [
            "Warning message:\n",
            "\"cannot remove prior installation of package 'e1071'\"\n",
            "Warning message in file.copy(savedcopy, lib, recursive = TRUE):\n",
            "\"problem copying C:\\Users\\sruja\\AppData\\Local\\R\\win-library\\4.3\\00LOCK\\e1071\\libs\\x64\\e1071.dll to C:\\Users\\sruja\\AppData\\Local\\R\\win-library\\4.3\\e1071\\libs\\x64\\e1071.dll: Permission denied\"\n",
            "Warning message:\n",
            "\"restored 'e1071'\"\n"
          ]
        },
        {
          "name": "stdout",
          "output_type": "stream",
          "text": [
            "package 'kernlab' successfully unpacked and MD5 sums checked\n"
          ]
        },
        {
          "name": "stderr",
          "output_type": "stream",
          "text": [
            "Warning message:\n",
            "\"cannot remove prior installation of package 'kernlab'\"\n",
            "Warning message in file.copy(savedcopy, lib, recursive = TRUE):\n",
            "\"problem copying C:\\Users\\sruja\\AppData\\Local\\R\\win-library\\4.3\\00LOCK\\kernlab\\libs\\x64\\kernlab.dll to C:\\Users\\sruja\\AppData\\Local\\R\\win-library\\4.3\\kernlab\\libs\\x64\\kernlab.dll: Permission denied\"\n",
            "Warning message:\n",
            "\"restored 'kernlab'\"\n"
          ]
        },
        {
          "name": "stdout",
          "output_type": "stream",
          "text": [
            "package 'class' successfully unpacked and MD5 sums checked\n"
          ]
        },
        {
          "name": "stderr",
          "output_type": "stream",
          "text": [
            "Warning message:\n",
            "\"cannot remove prior installation of package 'class'\"\n",
            "Warning message in file.copy(savedcopy, lib, recursive = TRUE):\n",
            "\"problem copying C:\\Users\\sruja\\AppData\\Local\\R\\win-library\\4.3\\00LOCK\\class\\libs\\x64\\class.dll to C:\\Users\\sruja\\AppData\\Local\\R\\win-library\\4.3\\class\\libs\\x64\\class.dll: Permission denied\"\n",
            "Warning message:\n",
            "\"restored 'class'\"\n"
          ]
        },
        {
          "name": "stdout",
          "output_type": "stream",
          "text": [
            "\n",
            "The downloaded binary packages are in\n",
            "\tC:\\Users\\sruja\\AppData\\Local\\Temp\\RtmpoD2e6r\\downloaded_packages\n"
          ]
        },
        {
          "name": "stderr",
          "output_type": "stream",
          "text": [
            "Warning message:\n",
            "\"package 'caret' was built under R version 4.3.3\"\n",
            "Loading required package: ggplot2\n",
            "\n",
            "Loading required package: lattice\n",
            "\n",
            "Warning message:\n",
            "\"package 'randomForest' was built under R version 4.3.3\"\n",
            "randomForest 4.7-1.1\n",
            "\n",
            "Type rfNews() to see new features/changes/bug fixes.\n",
            "\n",
            "\n",
            "Attaching package: 'randomForest'\n",
            "\n",
            "\n",
            "The following object is masked from 'package:ggplot2':\n",
            "\n",
            "    margin\n",
            "\n",
            "\n",
            "Warning message:\n",
            "\"package 'e1071' was built under R version 4.3.3\"\n",
            "\n",
            "Attaching package: 'kernlab'\n",
            "\n",
            "\n",
            "The following object is masked from 'package:ggplot2':\n",
            "\n",
            "    alpha\n",
            "\n",
            "\n",
            "Warning message:\n",
            "\"package 'class' was built under R version 4.3.3\"\n"
          ]
        },
        {
          "data": {
            "text/html": [
              "<ol>\n",
              "\t<li><style>\n",
              ".list-inline {list-style: none; margin:0; padding: 0}\n",
              ".list-inline>li {display: inline-block}\n",
              ".list-inline>li:not(:last-child)::after {content: \"\\00b7\"; padding: 0 .5ex}\n",
              "</style>\n",
              "<ol class=list-inline><li>'caret'</li><li>'lattice'</li><li>'ggplot2'</li><li>'stats'</li><li>'graphics'</li><li>'grDevices'</li><li>'utils'</li><li>'datasets'</li><li>'methods'</li><li>'base'</li></ol>\n",
              "</li>\n",
              "\t<li><style>\n",
              ".list-inline {list-style: none; margin:0; padding: 0}\n",
              ".list-inline>li {display: inline-block}\n",
              ".list-inline>li:not(:last-child)::after {content: \"\\00b7\"; padding: 0 .5ex}\n",
              "</style>\n",
              "<ol class=list-inline><li>'randomForest'</li><li>'caret'</li><li>'lattice'</li><li>'ggplot2'</li><li>'stats'</li><li>'graphics'</li><li>'grDevices'</li><li>'utils'</li><li>'datasets'</li><li>'methods'</li><li>'base'</li></ol>\n",
              "</li>\n",
              "\t<li><style>\n",
              ".list-inline {list-style: none; margin:0; padding: 0}\n",
              ".list-inline>li {display: inline-block}\n",
              ".list-inline>li:not(:last-child)::after {content: \"\\00b7\"; padding: 0 .5ex}\n",
              "</style>\n",
              "<ol class=list-inline><li>'e1071'</li><li>'randomForest'</li><li>'caret'</li><li>'lattice'</li><li>'ggplot2'</li><li>'stats'</li><li>'graphics'</li><li>'grDevices'</li><li>'utils'</li><li>'datasets'</li><li>'methods'</li><li>'base'</li></ol>\n",
              "</li>\n",
              "\t<li><style>\n",
              ".list-inline {list-style: none; margin:0; padding: 0}\n",
              ".list-inline>li {display: inline-block}\n",
              ".list-inline>li:not(:last-child)::after {content: \"\\00b7\"; padding: 0 .5ex}\n",
              "</style>\n",
              "<ol class=list-inline><li>'kernlab'</li><li>'e1071'</li><li>'randomForest'</li><li>'caret'</li><li>'lattice'</li><li>'ggplot2'</li><li>'stats'</li><li>'graphics'</li><li>'grDevices'</li><li>'utils'</li><li>'datasets'</li><li>'methods'</li><li>'base'</li></ol>\n",
              "</li>\n",
              "\t<li><style>\n",
              ".list-inline {list-style: none; margin:0; padding: 0}\n",
              ".list-inline>li {display: inline-block}\n",
              ".list-inline>li:not(:last-child)::after {content: \"\\00b7\"; padding: 0 .5ex}\n",
              "</style>\n",
              "<ol class=list-inline><li>'class'</li><li>'kernlab'</li><li>'e1071'</li><li>'randomForest'</li><li>'caret'</li><li>'lattice'</li><li>'ggplot2'</li><li>'stats'</li><li>'graphics'</li><li>'grDevices'</li><li>'utils'</li><li>'datasets'</li><li>'methods'</li><li>'base'</li></ol>\n",
              "</li>\n",
              "</ol>\n"
            ],
            "text/latex": [
              "\\begin{enumerate}\n",
              "\\item \\begin{enumerate*}\n",
              "\\item 'caret'\n",
              "\\item 'lattice'\n",
              "\\item 'ggplot2'\n",
              "\\item 'stats'\n",
              "\\item 'graphics'\n",
              "\\item 'grDevices'\n",
              "\\item 'utils'\n",
              "\\item 'datasets'\n",
              "\\item 'methods'\n",
              "\\item 'base'\n",
              "\\end{enumerate*}\n",
              "\n",
              "\\item \\begin{enumerate*}\n",
              "\\item 'randomForest'\n",
              "\\item 'caret'\n",
              "\\item 'lattice'\n",
              "\\item 'ggplot2'\n",
              "\\item 'stats'\n",
              "\\item 'graphics'\n",
              "\\item 'grDevices'\n",
              "\\item 'utils'\n",
              "\\item 'datasets'\n",
              "\\item 'methods'\n",
              "\\item 'base'\n",
              "\\end{enumerate*}\n",
              "\n",
              "\\item \\begin{enumerate*}\n",
              "\\item 'e1071'\n",
              "\\item 'randomForest'\n",
              "\\item 'caret'\n",
              "\\item 'lattice'\n",
              "\\item 'ggplot2'\n",
              "\\item 'stats'\n",
              "\\item 'graphics'\n",
              "\\item 'grDevices'\n",
              "\\item 'utils'\n",
              "\\item 'datasets'\n",
              "\\item 'methods'\n",
              "\\item 'base'\n",
              "\\end{enumerate*}\n",
              "\n",
              "\\item \\begin{enumerate*}\n",
              "\\item 'kernlab'\n",
              "\\item 'e1071'\n",
              "\\item 'randomForest'\n",
              "\\item 'caret'\n",
              "\\item 'lattice'\n",
              "\\item 'ggplot2'\n",
              "\\item 'stats'\n",
              "\\item 'graphics'\n",
              "\\item 'grDevices'\n",
              "\\item 'utils'\n",
              "\\item 'datasets'\n",
              "\\item 'methods'\n",
              "\\item 'base'\n",
              "\\end{enumerate*}\n",
              "\n",
              "\\item \\begin{enumerate*}\n",
              "\\item 'class'\n",
              "\\item 'kernlab'\n",
              "\\item 'e1071'\n",
              "\\item 'randomForest'\n",
              "\\item 'caret'\n",
              "\\item 'lattice'\n",
              "\\item 'ggplot2'\n",
              "\\item 'stats'\n",
              "\\item 'graphics'\n",
              "\\item 'grDevices'\n",
              "\\item 'utils'\n",
              "\\item 'datasets'\n",
              "\\item 'methods'\n",
              "\\item 'base'\n",
              "\\end{enumerate*}\n",
              "\n",
              "\\end{enumerate}\n"
            ],
            "text/markdown": [
              "1. 1. 'caret'\n",
              "2. 'lattice'\n",
              "3. 'ggplot2'\n",
              "4. 'stats'\n",
              "5. 'graphics'\n",
              "6. 'grDevices'\n",
              "7. 'utils'\n",
              "8. 'datasets'\n",
              "9. 'methods'\n",
              "10. 'base'\n",
              "\n",
              "\n",
              "\n",
              "2. 1. 'randomForest'\n",
              "2. 'caret'\n",
              "3. 'lattice'\n",
              "4. 'ggplot2'\n",
              "5. 'stats'\n",
              "6. 'graphics'\n",
              "7. 'grDevices'\n",
              "8. 'utils'\n",
              "9. 'datasets'\n",
              "10. 'methods'\n",
              "11. 'base'\n",
              "\n",
              "\n",
              "\n",
              "3. 1. 'e1071'\n",
              "2. 'randomForest'\n",
              "3. 'caret'\n",
              "4. 'lattice'\n",
              "5. 'ggplot2'\n",
              "6. 'stats'\n",
              "7. 'graphics'\n",
              "8. 'grDevices'\n",
              "9. 'utils'\n",
              "10. 'datasets'\n",
              "11. 'methods'\n",
              "12. 'base'\n",
              "\n",
              "\n",
              "\n",
              "4. 1. 'kernlab'\n",
              "2. 'e1071'\n",
              "3. 'randomForest'\n",
              "4. 'caret'\n",
              "5. 'lattice'\n",
              "6. 'ggplot2'\n",
              "7. 'stats'\n",
              "8. 'graphics'\n",
              "9. 'grDevices'\n",
              "10. 'utils'\n",
              "11. 'datasets'\n",
              "12. 'methods'\n",
              "13. 'base'\n",
              "\n",
              "\n",
              "\n",
              "5. 1. 'class'\n",
              "2. 'kernlab'\n",
              "3. 'e1071'\n",
              "4. 'randomForest'\n",
              "5. 'caret'\n",
              "6. 'lattice'\n",
              "7. 'ggplot2'\n",
              "8. 'stats'\n",
              "9. 'graphics'\n",
              "10. 'grDevices'\n",
              "11. 'utils'\n",
              "12. 'datasets'\n",
              "13. 'methods'\n",
              "14. 'base'\n",
              "\n",
              "\n",
              "\n",
              "\n",
              "\n"
            ],
            "text/plain": [
              "[[1]]\n",
              " [1] \"caret\"     \"lattice\"   \"ggplot2\"   \"stats\"     \"graphics\"  \"grDevices\"\n",
              " [7] \"utils\"     \"datasets\"  \"methods\"   \"base\"     \n",
              "\n",
              "[[2]]\n",
              " [1] \"randomForest\" \"caret\"        \"lattice\"      \"ggplot2\"      \"stats\"       \n",
              " [6] \"graphics\"     \"grDevices\"    \"utils\"        \"datasets\"     \"methods\"     \n",
              "[11] \"base\"        \n",
              "\n",
              "[[3]]\n",
              " [1] \"e1071\"        \"randomForest\" \"caret\"        \"lattice\"      \"ggplot2\"     \n",
              " [6] \"stats\"        \"graphics\"     \"grDevices\"    \"utils\"        \"datasets\"    \n",
              "[11] \"methods\"      \"base\"        \n",
              "\n",
              "[[4]]\n",
              " [1] \"kernlab\"      \"e1071\"        \"randomForest\" \"caret\"        \"lattice\"     \n",
              " [6] \"ggplot2\"      \"stats\"        \"graphics\"     \"grDevices\"    \"utils\"       \n",
              "[11] \"datasets\"     \"methods\"      \"base\"        \n",
              "\n",
              "[[5]]\n",
              " [1] \"class\"        \"kernlab\"      \"e1071\"        \"randomForest\" \"caret\"       \n",
              " [6] \"lattice\"      \"ggplot2\"      \"stats\"        \"graphics\"     \"grDevices\"   \n",
              "[11] \"utils\"        \"datasets\"     \"methods\"      \"base\"        \n"
            ]
          },
          "metadata": {},
          "output_type": "display_data"
        }
      ],
      "source": [
        "packages <- c(\"caret\", \"randomForest\", \"e1071\", \"kernlab\", \"class\")\n",
        "install.packages(packages, dependencies = TRUE)\n",
        "lapply(packages, library, character.only = TRUE)\n",
        "\n",
        "# setting the seed\n",
        "set.seed(123)"
      ]
    },
    {
      "cell_type": "markdown",
      "metadata": {
        "id": "Sr1v1yVxaWDp"
      },
      "source": [
        "## Read the data"
      ]
    },
    {
      "cell_type": "code",
      "execution_count": 2,
      "metadata": {
        "colab": {
          "base_uri": "https://localhost:8080/"
        },
        "id": "V7AAVTxtaf2A",
        "outputId": "a091a09a-61bc-4f7d-fce5-39b1fec25352",
        "vscode": {
          "languageId": "r"
        }
      },
      "outputs": [
        {
          "name": "stdout",
          "output_type": "stream",
          "text": [
            "[1] \"Data loaded successfully.\"\n"
          ]
        }
      ],
      "source": [
        "data <- read.csv(\"CardiacPrediction.csv\")\n",
        "print(\"Data loaded successfully.\")\n",
        "\n",
        "data$CoronaryHeartDisease <- factor(data$CoronaryHeartDisease)"
      ]
    },
    {
      "cell_type": "markdown",
      "metadata": {
        "id": "71rXgEOZeU38"
      },
      "source": [
        "## Equalizing the classes"
      ]
    },
    {
      "cell_type": "code",
      "execution_count": 3,
      "metadata": {
        "id": "r4lOayoUeXIO",
        "vscode": {
          "languageId": "r"
        }
      },
      "outputs": [],
      "source": [
        "class_1 <- subset(data, CoronaryHeartDisease == 1)\n",
        "class_0 <- subset(data, CoronaryHeartDisease == 0)\n",
        "class_0_sample <- class_0[sample(nrow(class_0), 1508), ]\n",
        "\n",
        "balanced_data <- rbind(class_1, class_0_sample)\n",
        "balanced_data <-  balanced_data[sample(nrow(balanced_data)), ]"
      ]
    },
    {
      "cell_type": "markdown",
      "metadata": {
        "id": "sr6XGS3cej4n"
      },
      "source": [
        "## Splitting the data"
      ]
    },
    {
      "cell_type": "code",
      "execution_count": 4,
      "metadata": {
        "id": "QCLQtv47el9F",
        "vscode": {
          "languageId": "r"
        }
      },
      "outputs": [],
      "source": [
        "train_index <- createDataPartition(balanced_data$CoronaryHeartDisease, p = 0.75, list = FALSE)\n",
        "train_data <- balanced_data[train_index, ]\n",
        "test_data <- balanced_data[-train_index, ]"
      ]
    },
    {
      "cell_type": "markdown",
      "metadata": {
        "id": "A2zH2aV6erCZ"
      },
      "source": [
        "## Cross Validation"
      ]
    },
    {
      "cell_type": "code",
      "execution_count": 5,
      "metadata": {
        "id": "m2W1v2C7eqDL",
        "vscode": {
          "languageId": "r"
        }
      },
      "outputs": [],
      "source": [
        "ctrl <- trainControl(method = \"cv\", number = 10)"
      ]
    },
    {
      "cell_type": "markdown",
      "metadata": {
        "id": "7w4wsNf-fMRo"
      },
      "source": [
        "## Training and Evaluation"
      ]
    },
    {
      "cell_type": "markdown",
      "metadata": {
        "id": "veb842ttfhRI"
      },
      "source": [
        "### Logistic Regression"
      ]
    },
    {
      "cell_type": "code",
      "execution_count": null,
      "metadata": {
        "id": "ELa8Ba61fLHc",
        "vscode": {
          "languageId": "r"
        }
      },
      "outputs": [],
      "source": [
        "model <- train(CoronaryHeartDisease ~ ., data = train_data, method = \"glm\", trControl = ctrl, metric = \"Accuracy\")"
      ]
    },
    {
      "cell_type": "code",
      "execution_count": null,
      "metadata": {
        "colab": {
          "base_uri": "https://localhost:8080/",
          "height": 485
        },
        "id": "Z_JUVpodfVDp",
        "outputId": "f62c8540-e064-4322-a00c-4d4afa1b0edf",
        "vscode": {
          "languageId": "r"
        }
      },
      "outputs": [
        {
          "data": {
            "text/plain": [
              "Confusion Matrix and Statistics\n",
              "\n",
              "          Reference\n",
              "Prediction   0   1\n",
              "         0 275  70\n",
              "         1 102 307\n",
              "                                          \n",
              "               Accuracy : 0.7719          \n",
              "                 95% CI : (0.7402, 0.8014)\n",
              "    No Information Rate : 0.5             \n",
              "    P-Value [Acc > NIR] : < 2e-16         \n",
              "                                          \n",
              "                  Kappa : 0.5438          \n",
              "                                          \n",
              " Mcnemar's Test P-Value : 0.01809         \n",
              "                                          \n",
              "            Sensitivity : 0.7294          \n",
              "            Specificity : 0.8143          \n",
              "         Pos Pred Value : 0.7971          \n",
              "         Neg Pred Value : 0.7506          \n",
              "             Prevalence : 0.5000          \n",
              "         Detection Rate : 0.3647          \n",
              "   Detection Prevalence : 0.4576          \n",
              "      Balanced Accuracy : 0.7719          \n",
              "                                          \n",
              "       'Positive' Class : 0               \n",
              "                                          "
            ]
          },
          "metadata": {},
          "output_type": "display_data"
        }
      ],
      "source": [
        "predictions <- predict(model, newdata = test_data)\n",
        "conf_matrix <- confusionMatrix(predictions, test_data$CoronaryHeartDisease)\n",
        "conf_matrix"
      ]
    },
    {
      "cell_type": "markdown",
      "metadata": {
        "id": "E77EocaKgBhY"
      },
      "source": [
        "### XGBoost"
      ]
    },
    {
      "cell_type": "code",
      "execution_count": null,
      "metadata": {
        "colab": {
          "base_uri": "https://localhost:8080/"
        },
        "id": "mSFmz6pCgMu3",
        "outputId": "4900a001-24a2-4375-d2bc-9a5c93b7045b",
        "vscode": {
          "languageId": "r"
        }
      },
      "outputs": [
        {
          "name": "stderr",
          "output_type": "stream",
          "text": [
            "Installing package into ‘/usr/local/lib/R/site-library’\n",
            "(as ‘lib’ is unspecified)\n",
            "\n"
          ]
        }
      ],
      "source": [
        "install.packages('xgboost')"
      ]
    },
    {
      "cell_type": "code",
      "execution_count": null,
      "metadata": {
        "colab": {
          "base_uri": "https://localhost:8080/"
        },
        "id": "qZQ-lA8wgHEy",
        "outputId": "36efaab4-201a-4ee3-9c1e-9d4b11fbe2ca",
        "vscode": {
          "languageId": "r"
        }
      },
      "outputs": [
        {
          "name": "stdout",
          "output_type": "stream",
          "text": [
            "[03:35:35] WARNING: src/c_api/c_api.cc:935: `ntree_limit` is deprecated, use `iteration_range` instead.\n",
            "[03:35:35] WARNING: src/c_api/c_api.cc:935: `ntree_limit` is deprecated, use `iteration_range` instead.\n",
            "[03:35:35] WARNING: src/c_api/c_api.cc:935: `ntree_limit` is deprecated, use `iteration_range` instead.\n",
            "[03:35:35] WARNING: src/c_api/c_api.cc:935: `ntree_limit` is deprecated, use `iteration_range` instead.\n",
            "[03:35:35] WARNING: src/c_api/c_api.cc:935: `ntree_limit` is deprecated, use `iteration_range` instead.\n",
            "[03:35:35] WARNING: src/c_api/c_api.cc:935: `ntree_limit` is deprecated, use `iteration_range` instead.\n",
            "[03:35:35] WARNING: src/c_api/c_api.cc:935: `ntree_limit` is deprecated, use `iteration_range` instead.\n",
            "[03:35:35] WARNING: src/c_api/c_api.cc:935: `ntree_limit` is deprecated, use `iteration_range` instead.\n",
            "[03:35:35] WARNING: src/c_api/c_api.cc:935: `ntree_limit` is deprecated, use `iteration_range` instead.\n",
            "[03:35:35] WARNING: src/c_api/c_api.cc:935: `ntree_limit` is deprecated, use `iteration_range` instead.\n",
            "[03:35:35] WARNING: src/c_api/c_api.cc:935: `ntree_limit` is deprecated, use `iteration_range` instead.\n",
            "[03:35:35] WARNING: src/c_api/c_api.cc:935: `ntree_limit` is deprecated, use `iteration_range` instead.\n",
            "[03:35:36] WARNING: src/c_api/c_api.cc:935: `ntree_limit` is deprecated, use `iteration_range` instead.\n",
            "[03:35:36] WARNING: src/c_api/c_api.cc:935: `ntree_limit` is deprecated, use `iteration_range` instead.\n",
            "[03:35:36] WARNING: src/c_api/c_api.cc:935: `ntree_limit` is deprecated, use `iteration_range` instead.\n",
            "[03:35:36] WARNING: src/c_api/c_api.cc:935: `ntree_limit` is deprecated, use `iteration_range` instead.\n",
            "[03:35:36] WARNING: src/c_api/c_api.cc:935: `ntree_limit` is deprecated, use `iteration_range` instead.\n",
            "[03:35:36] WARNING: src/c_api/c_api.cc:935: `ntree_limit` is deprecated, use `iteration_range` instead.\n",
            "[03:35:36] WARNING: src/c_api/c_api.cc:935: `ntree_limit` is deprecated, use `iteration_range` instead.\n",
            "[03:35:36] WARNING: src/c_api/c_api.cc:935: `ntree_limit` is deprecated, use `iteration_range` instead.\n",
            "[03:35:37] WARNING: src/c_api/c_api.cc:935: `ntree_limit` is deprecated, use `iteration_range` instead.\n",
            "[03:35:37] WARNING: src/c_api/c_api.cc:935: `ntree_limit` is deprecated, use `iteration_range` instead.\n",
            "[03:35:37] WARNING: src/c_api/c_api.cc:935: `ntree_limit` is deprecated, use `iteration_range` instead.\n",
            "[03:35:37] WARNING: src/c_api/c_api.cc:935: `ntree_limit` is deprecated, use `iteration_range` instead.\n",
            "[03:35:37] WARNING: src/c_api/c_api.cc:935: `ntree_limit` is deprecated, use `iteration_range` instead.\n",
            "[03:35:37] WARNING: src/c_api/c_api.cc:935: `ntree_limit` is deprecated, use `iteration_range` instead.\n",
            "[03:35:37] WARNING: src/c_api/c_api.cc:935: `ntree_limit` is deprecated, use `iteration_range` instead.\n",
            "[03:35:37] WARNING: src/c_api/c_api.cc:935: `ntree_limit` is deprecated, use `iteration_range` instead.\n",
            "[03:35:38] WARNING: src/c_api/c_api.cc:935: `ntree_limit` is deprecated, use `iteration_range` instead.\n",
            "[03:35:38] WARNING: src/c_api/c_api.cc:935: `ntree_limit` is deprecated, use `iteration_range` instead.\n",
            "[03:35:38] WARNING: src/c_api/c_api.cc:935: `ntree_limit` is deprecated, use `iteration_range` instead.\n",
            "[03:35:38] WARNING: src/c_api/c_api.cc:935: `ntree_limit` is deprecated, use `iteration_range` instead.\n",
            "[03:35:39] WARNING: src/c_api/c_api.cc:935: `ntree_limit` is deprecated, use `iteration_range` instead.\n",
            "[03:35:39] WARNING: src/c_api/c_api.cc:935: `ntree_limit` is deprecated, use `iteration_range` instead.\n",
            "[03:35:39] WARNING: src/c_api/c_api.cc:935: `ntree_limit` is deprecated, use `iteration_range` instead.\n",
            "[03:35:39] WARNING: src/c_api/c_api.cc:935: `ntree_limit` is deprecated, use `iteration_range` instead.\n",
            "[03:35:39] WARNING: src/c_api/c_api.cc:935: `ntree_limit` is deprecated, use `iteration_range` instead.\n",
            "[03:35:39] WARNING: src/c_api/c_api.cc:935: `ntree_limit` is deprecated, use `iteration_range` instead.\n",
            "[03:35:39] WARNING: src/c_api/c_api.cc:935: `ntree_limit` is deprecated, use `iteration_range` instead.\n",
            "[03:35:39] WARNING: src/c_api/c_api.cc:935: `ntree_limit` is deprecated, use `iteration_range` instead.\n",
            "[03:35:39] WARNING: src/c_api/c_api.cc:935: `ntree_limit` is deprecated, use `iteration_range` instead.\n",
            "[03:35:39] WARNING: src/c_api/c_api.cc:935: `ntree_limit` is deprecated, use `iteration_range` instead.\n",
            "[03:35:39] WARNING: src/c_api/c_api.cc:935: `ntree_limit` is deprecated, use `iteration_range` instead.\n",
            "[03:35:39] WARNING: src/c_api/c_api.cc:935: `ntree_limit` is deprecated, use `iteration_range` instead.\n",
            "[03:35:40] WARNING: src/c_api/c_api.cc:935: `ntree_limit` is deprecated, use `iteration_range` instead.\n",
            "[03:35:40] WARNING: src/c_api/c_api.cc:935: `ntree_limit` is deprecated, use `iteration_range` instead.\n",
            "[03:35:40] WARNING: src/c_api/c_api.cc:935: `ntree_limit` is deprecated, use `iteration_range` instead.\n",
            "[03:35:40] WARNING: src/c_api/c_api.cc:935: `ntree_limit` is deprecated, use `iteration_range` instead.\n",
            "[03:35:40] WARNING: src/c_api/c_api.cc:935: `ntree_limit` is deprecated, use `iteration_range` instead.\n",
            "[03:35:40] WARNING: src/c_api/c_api.cc:935: `ntree_limit` is deprecated, use `iteration_range` instead.\n",
            "[03:35:41] WARNING: src/c_api/c_api.cc:935: `ntree_limit` is deprecated, use `iteration_range` instead.\n",
            "[03:35:41] WARNING: src/c_api/c_api.cc:935: `ntree_limit` is deprecated, use `iteration_range` instead.\n",
            "[03:35:42] WARNING: src/c_api/c_api.cc:935: `ntree_limit` is deprecated, use `iteration_range` instead.\n",
            "[03:35:42] WARNING: src/c_api/c_api.cc:935: `ntree_limit` is deprecated, use `iteration_range` instead.\n",
            "[03:35:42] WARNING: src/c_api/c_api.cc:935: `ntree_limit` is deprecated, use `iteration_range` instead.\n",
            "[03:35:42] WARNING: src/c_api/c_api.cc:935: `ntree_limit` is deprecated, use `iteration_range` instead.\n",
            "[03:35:42] WARNING: src/c_api/c_api.cc:935: `ntree_limit` is deprecated, use `iteration_range` instead.\n",
            "[03:35:42] WARNING: src/c_api/c_api.cc:935: `ntree_limit` is deprecated, use `iteration_range` instead.\n",
            "[03:35:42] WARNING: src/c_api/c_api.cc:935: `ntree_limit` is deprecated, use `iteration_range` instead.\n",
            "[03:35:42] WARNING: src/c_api/c_api.cc:935: `ntree_limit` is deprecated, use `iteration_range` instead.\n",
            "[03:35:43] WARNING: src/c_api/c_api.cc:935: `ntree_limit` is deprecated, use `iteration_range` instead.\n",
            "[03:35:43] WARNING: src/c_api/c_api.cc:935: `ntree_limit` is deprecated, use `iteration_range` instead.\n",
            "[03:35:43] WARNING: src/c_api/c_api.cc:935: `ntree_limit` is deprecated, use `iteration_range` instead.\n",
            "[03:35:43] WARNING: src/c_api/c_api.cc:935: `ntree_limit` is deprecated, use `iteration_range` instead.\n",
            "[03:35:43] WARNING: src/c_api/c_api.cc:935: `ntree_limit` is deprecated, use `iteration_range` instead.\n",
            "[03:35:43] WARNING: src/c_api/c_api.cc:935: `ntree_limit` is deprecated, use `iteration_range` instead.\n",
            "[03:35:44] WARNING: src/c_api/c_api.cc:935: `ntree_limit` is deprecated, use `iteration_range` instead.\n",
            "[03:35:44] WARNING: src/c_api/c_api.cc:935: `ntree_limit` is deprecated, use `iteration_range` instead.\n",
            "[03:35:44] WARNING: src/c_api/c_api.cc:935: `ntree_limit` is deprecated, use `iteration_range` instead.\n",
            "[03:35:44] WARNING: src/c_api/c_api.cc:935: `ntree_limit` is deprecated, use `iteration_range` instead.\n",
            "[03:35:44] WARNING: src/c_api/c_api.cc:935: `ntree_limit` is deprecated, use `iteration_range` instead.\n",
            "[03:35:44] WARNING: src/c_api/c_api.cc:935: `ntree_limit` is deprecated, use `iteration_range` instead.\n",
            "[03:35:45] WARNING: src/c_api/c_api.cc:935: `ntree_limit` is deprecated, use `iteration_range` instead.\n",
            "[03:35:45] WARNING: src/c_api/c_api.cc:935: `ntree_limit` is deprecated, use `iteration_range` instead.\n",
            "[03:35:45] WARNING: src/c_api/c_api.cc:935: `ntree_limit` is deprecated, use `iteration_range` instead.\n",
            "[03:35:45] WARNING: src/c_api/c_api.cc:935: `ntree_limit` is deprecated, use `iteration_range` instead.\n",
            "[03:35:45] WARNING: src/c_api/c_api.cc:935: `ntree_limit` is deprecated, use `iteration_range` instead.\n",
            "[03:35:45] WARNING: src/c_api/c_api.cc:935: `ntree_limit` is deprecated, use `iteration_range` instead.\n",
            "[03:35:45] WARNING: src/c_api/c_api.cc:935: `ntree_limit` is deprecated, use `iteration_range` instead.\n",
            "[03:35:45] WARNING: src/c_api/c_api.cc:935: `ntree_limit` is deprecated, use `iteration_range` instead.\n",
            "[03:35:45] WARNING: src/c_api/c_api.cc:935: `ntree_limit` is deprecated, use `iteration_range` instead.\n",
            "[03:35:45] WARNING: src/c_api/c_api.cc:935: `ntree_limit` is deprecated, use `iteration_range` instead.\n",
            "[03:35:45] WARNING: src/c_api/c_api.cc:935: `ntree_limit` is deprecated, use `iteration_range` instead.\n",
            "[03:35:45] WARNING: src/c_api/c_api.cc:935: `ntree_limit` is deprecated, use `iteration_range` instead.\n",
            "[03:35:45] WARNING: src/c_api/c_api.cc:935: `ntree_limit` is deprecated, use `iteration_range` instead.\n",
            "[03:35:45] WARNING: src/c_api/c_api.cc:935: `ntree_limit` is deprecated, use `iteration_range` instead.\n",
            "[03:35:46] WARNING: src/c_api/c_api.cc:935: `ntree_limit` is deprecated, use `iteration_range` instead.\n",
            "[03:35:46] WARNING: src/c_api/c_api.cc:935: `ntree_limit` is deprecated, use `iteration_range` instead.\n",
            "[03:35:46] WARNING: src/c_api/c_api.cc:935: `ntree_limit` is deprecated, use `iteration_range` instead.\n",
            "[03:35:46] WARNING: src/c_api/c_api.cc:935: `ntree_limit` is deprecated, use `iteration_range` instead.\n",
            "[03:35:46] WARNING: src/c_api/c_api.cc:935: `ntree_limit` is deprecated, use `iteration_range` instead.\n",
            "[03:35:46] WARNING: src/c_api/c_api.cc:935: `ntree_limit` is deprecated, use `iteration_range` instead.\n",
            "[03:35:46] WARNING: src/c_api/c_api.cc:935: `ntree_limit` is deprecated, use `iteration_range` instead.\n",
            "[03:35:46] WARNING: src/c_api/c_api.cc:935: `ntree_limit` is deprecated, use `iteration_range` instead.\n",
            "[03:35:47] WARNING: src/c_api/c_api.cc:935: `ntree_limit` is deprecated, use `iteration_range` instead.\n",
            "[03:35:47] WARNING: src/c_api/c_api.cc:935: `ntree_limit` is deprecated, use `iteration_range` instead.\n",
            "[03:35:47] WARNING: src/c_api/c_api.cc:935: `ntree_limit` is deprecated, use `iteration_range` instead.\n",
            "[03:35:47] WARNING: src/c_api/c_api.cc:935: `ntree_limit` is deprecated, use `iteration_range` instead.\n",
            "[03:35:47] WARNING: src/c_api/c_api.cc:935: `ntree_limit` is deprecated, use `iteration_range` instead.\n",
            "[03:35:47] WARNING: src/c_api/c_api.cc:935: `ntree_limit` is deprecated, use `iteration_range` instead.\n",
            "[03:35:48] WARNING: src/c_api/c_api.cc:935: `ntree_limit` is deprecated, use `iteration_range` instead.\n",
            "[03:35:48] WARNING: src/c_api/c_api.cc:935: `ntree_limit` is deprecated, use `iteration_range` instead.\n",
            "[03:35:48] WARNING: src/c_api/c_api.cc:935: `ntree_limit` is deprecated, use `iteration_range` instead.\n",
            "[03:35:48] WARNING: src/c_api/c_api.cc:935: `ntree_limit` is deprecated, use `iteration_range` instead.\n",
            "[03:35:48] WARNING: src/c_api/c_api.cc:935: `ntree_limit` is deprecated, use `iteration_range` instead.\n",
            "[03:35:48] WARNING: src/c_api/c_api.cc:935: `ntree_limit` is deprecated, use `iteration_range` instead.\n",
            "[03:35:49] WARNING: src/c_api/c_api.cc:935: `ntree_limit` is deprecated, use `iteration_range` instead.\n",
            "[03:35:49] WARNING: src/c_api/c_api.cc:935: `ntree_limit` is deprecated, use `iteration_range` instead.\n",
            "[03:35:49] WARNING: src/c_api/c_api.cc:935: `ntree_limit` is deprecated, use `iteration_range` instead.\n",
            "[03:35:49] WARNING: src/c_api/c_api.cc:935: `ntree_limit` is deprecated, use `iteration_range` instead.\n",
            "[03:35:49] WARNING: src/c_api/c_api.cc:935: `ntree_limit` is deprecated, use `iteration_range` instead.\n",
            "[03:35:49] WARNING: src/c_api/c_api.cc:935: `ntree_limit` is deprecated, use `iteration_range` instead.\n",
            "[03:35:49] WARNING: src/c_api/c_api.cc:935: `ntree_limit` is deprecated, use `iteration_range` instead.\n",
            "[03:35:49] WARNING: src/c_api/c_api.cc:935: `ntree_limit` is deprecated, use `iteration_range` instead.\n",
            "[03:35:49] WARNING: src/c_api/c_api.cc:935: `ntree_limit` is deprecated, use `iteration_range` instead.\n",
            "[03:35:49] WARNING: src/c_api/c_api.cc:935: `ntree_limit` is deprecated, use `iteration_range` instead.\n",
            "[03:35:49] WARNING: src/c_api/c_api.cc:935: `ntree_limit` is deprecated, use `iteration_range` instead.\n",
            "[03:35:49] WARNING: src/c_api/c_api.cc:935: `ntree_limit` is deprecated, use `iteration_range` instead.\n",
            "[03:35:50] WARNING: src/c_api/c_api.cc:935: `ntree_limit` is deprecated, use `iteration_range` instead.\n",
            "[03:35:50] WARNING: src/c_api/c_api.cc:935: `ntree_limit` is deprecated, use `iteration_range` instead.\n",
            "[03:35:50] WARNING: src/c_api/c_api.cc:935: `ntree_limit` is deprecated, use `iteration_range` instead.\n",
            "[03:35:50] WARNING: src/c_api/c_api.cc:935: `ntree_limit` is deprecated, use `iteration_range` instead.\n",
            "[03:35:50] WARNING: src/c_api/c_api.cc:935: `ntree_limit` is deprecated, use `iteration_range` instead.\n",
            "[03:35:50] WARNING: src/c_api/c_api.cc:935: `ntree_limit` is deprecated, use `iteration_range` instead.\n",
            "[03:35:50] WARNING: src/c_api/c_api.cc:935: `ntree_limit` is deprecated, use `iteration_range` instead.\n",
            "[03:35:50] WARNING: src/c_api/c_api.cc:935: `ntree_limit` is deprecated, use `iteration_range` instead.\n",
            "[03:35:50] WARNING: src/c_api/c_api.cc:935: `ntree_limit` is deprecated, use `iteration_range` instead.\n",
            "[03:35:50] WARNING: src/c_api/c_api.cc:935: `ntree_limit` is deprecated, use `iteration_range` instead.\n",
            "[03:35:51] WARNING: src/c_api/c_api.cc:935: `ntree_limit` is deprecated, use `iteration_range` instead.\n",
            "[03:35:51] WARNING: src/c_api/c_api.cc:935: `ntree_limit` is deprecated, use `iteration_range` instead.\n",
            "[03:35:51] WARNING: src/c_api/c_api.cc:935: `ntree_limit` is deprecated, use `iteration_range` instead.\n",
            "[03:35:51] WARNING: src/c_api/c_api.cc:935: `ntree_limit` is deprecated, use `iteration_range` instead.\n",
            "[03:35:51] WARNING: src/c_api/c_api.cc:935: `ntree_limit` is deprecated, use `iteration_range` instead.\n",
            "[03:35:51] WARNING: src/c_api/c_api.cc:935: `ntree_limit` is deprecated, use `iteration_range` instead.\n",
            "[03:35:52] WARNING: src/c_api/c_api.cc:935: `ntree_limit` is deprecated, use `iteration_range` instead.\n",
            "[03:35:52] WARNING: src/c_api/c_api.cc:935: `ntree_limit` is deprecated, use `iteration_range` instead.\n",
            "[03:35:53] WARNING: src/c_api/c_api.cc:935: `ntree_limit` is deprecated, use `iteration_range` instead.\n",
            "[03:35:53] WARNING: src/c_api/c_api.cc:935: `ntree_limit` is deprecated, use `iteration_range` instead.\n",
            "[03:35:53] WARNING: src/c_api/c_api.cc:935: `ntree_limit` is deprecated, use `iteration_range` instead.\n",
            "[03:35:53] WARNING: src/c_api/c_api.cc:935: `ntree_limit` is deprecated, use `iteration_range` instead.\n",
            "[03:35:54] WARNING: src/c_api/c_api.cc:935: `ntree_limit` is deprecated, use `iteration_range` instead.\n",
            "[03:35:54] WARNING: src/c_api/c_api.cc:935: `ntree_limit` is deprecated, use `iteration_range` instead.\n",
            "[03:35:54] WARNING: src/c_api/c_api.cc:935: `ntree_limit` is deprecated, use `iteration_range` instead.\n",
            "[03:35:54] WARNING: src/c_api/c_api.cc:935: `ntree_limit` is deprecated, use `iteration_range` instead.\n",
            "[03:35:54] WARNING: src/c_api/c_api.cc:935: `ntree_limit` is deprecated, use `iteration_range` instead.\n",
            "[03:35:54] WARNING: src/c_api/c_api.cc:935: `ntree_limit` is deprecated, use `iteration_range` instead.\n",
            "[03:35:54] WARNING: src/c_api/c_api.cc:935: `ntree_limit` is deprecated, use `iteration_range` instead.\n",
            "[03:35:54] WARNING: src/c_api/c_api.cc:935: `ntree_limit` is deprecated, use `iteration_range` instead.\n",
            "[03:35:54] WARNING: src/c_api/c_api.cc:935: `ntree_limit` is deprecated, use `iteration_range` instead.\n",
            "[03:35:54] WARNING: src/c_api/c_api.cc:935: `ntree_limit` is deprecated, use `iteration_range` instead.\n",
            "[03:35:54] WARNING: src/c_api/c_api.cc:935: `ntree_limit` is deprecated, use `iteration_range` instead.\n",
            "[03:35:54] WARNING: src/c_api/c_api.cc:935: `ntree_limit` is deprecated, use `iteration_range` instead.\n",
            "[03:35:55] WARNING: src/c_api/c_api.cc:935: `ntree_limit` is deprecated, use `iteration_range` instead.\n",
            "[03:35:55] WARNING: src/c_api/c_api.cc:935: `ntree_limit` is deprecated, use `iteration_range` instead.\n",
            "[03:35:55] WARNING: src/c_api/c_api.cc:935: `ntree_limit` is deprecated, use `iteration_range` instead.\n",
            "[03:35:55] WARNING: src/c_api/c_api.cc:935: `ntree_limit` is deprecated, use `iteration_range` instead.\n",
            "[03:35:55] WARNING: src/c_api/c_api.cc:935: `ntree_limit` is deprecated, use `iteration_range` instead.\n",
            "[03:35:55] WARNING: src/c_api/c_api.cc:935: `ntree_limit` is deprecated, use `iteration_range` instead.\n",
            "[03:35:55] WARNING: src/c_api/c_api.cc:935: `ntree_limit` is deprecated, use `iteration_range` instead.\n",
            "[03:35:55] WARNING: src/c_api/c_api.cc:935: `ntree_limit` is deprecated, use `iteration_range` instead.\n",
            "[03:35:55] WARNING: src/c_api/c_api.cc:935: `ntree_limit` is deprecated, use `iteration_range` instead.\n",
            "[03:35:55] WARNING: src/c_api/c_api.cc:935: `ntree_limit` is deprecated, use `iteration_range` instead.\n",
            "[03:35:56] WARNING: src/c_api/c_api.cc:935: `ntree_limit` is deprecated, use `iteration_range` instead.\n",
            "[03:35:56] WARNING: src/c_api/c_api.cc:935: `ntree_limit` is deprecated, use `iteration_range` instead.\n",
            "[03:35:56] WARNING: src/c_api/c_api.cc:935: `ntree_limit` is deprecated, use `iteration_range` instead.\n",
            "[03:35:56] WARNING: src/c_api/c_api.cc:935: `ntree_limit` is deprecated, use `iteration_range` instead.\n",
            "[03:35:56] WARNING: src/c_api/c_api.cc:935: `ntree_limit` is deprecated, use `iteration_range` instead.\n",
            "[03:35:56] WARNING: src/c_api/c_api.cc:935: `ntree_limit` is deprecated, use `iteration_range` instead.\n",
            "[03:35:56] WARNING: src/c_api/c_api.cc:935: `ntree_limit` is deprecated, use `iteration_range` instead.\n",
            "[03:35:56] WARNING: src/c_api/c_api.cc:935: `ntree_limit` is deprecated, use `iteration_range` instead.\n",
            "[03:35:57] WARNING: src/c_api/c_api.cc:935: `ntree_limit` is deprecated, use `iteration_range` instead.\n",
            "[03:35:57] WARNING: src/c_api/c_api.cc:935: `ntree_limit` is deprecated, use `iteration_range` instead.\n",
            "[03:35:57] WARNING: src/c_api/c_api.cc:935: `ntree_limit` is deprecated, use `iteration_range` instead.\n",
            "[03:35:57] WARNING: src/c_api/c_api.cc:935: `ntree_limit` is deprecated, use `iteration_range` instead.\n",
            "[03:35:57] WARNING: src/c_api/c_api.cc:935: `ntree_limit` is deprecated, use `iteration_range` instead.\n",
            "[03:35:57] WARNING: src/c_api/c_api.cc:935: `ntree_limit` is deprecated, use `iteration_range` instead.\n",
            "[03:35:58] WARNING: src/c_api/c_api.cc:935: `ntree_limit` is deprecated, use `iteration_range` instead.\n",
            "[03:35:58] WARNING: src/c_api/c_api.cc:935: `ntree_limit` is deprecated, use `iteration_range` instead.\n",
            "[03:35:58] WARNING: src/c_api/c_api.cc:935: `ntree_limit` is deprecated, use `iteration_range` instead.\n",
            "[03:35:58] WARNING: src/c_api/c_api.cc:935: `ntree_limit` is deprecated, use `iteration_range` instead.\n",
            "[03:35:58] WARNING: src/c_api/c_api.cc:935: `ntree_limit` is deprecated, use `iteration_range` instead.\n",
            "[03:35:58] WARNING: src/c_api/c_api.cc:935: `ntree_limit` is deprecated, use `iteration_range` instead.\n",
            "[03:35:58] WARNING: src/c_api/c_api.cc:935: `ntree_limit` is deprecated, use `iteration_range` instead.\n",
            "[03:35:58] WARNING: src/c_api/c_api.cc:935: `ntree_limit` is deprecated, use `iteration_range` instead.\n",
            "[03:35:59] WARNING: src/c_api/c_api.cc:935: `ntree_limit` is deprecated, use `iteration_range` instead.\n",
            "[03:35:59] WARNING: src/c_api/c_api.cc:935: `ntree_limit` is deprecated, use `iteration_range` instead.\n",
            "[03:35:59] WARNING: src/c_api/c_api.cc:935: `ntree_limit` is deprecated, use `iteration_range` instead.\n",
            "[03:35:59] WARNING: src/c_api/c_api.cc:935: `ntree_limit` is deprecated, use `iteration_range` instead.\n",
            "[03:35:59] WARNING: src/c_api/c_api.cc:935: `ntree_limit` is deprecated, use `iteration_range` instead.\n",
            "[03:35:59] WARNING: src/c_api/c_api.cc:935: `ntree_limit` is deprecated, use `iteration_range` instead.\n",
            "[03:35:59] WARNING: src/c_api/c_api.cc:935: `ntree_limit` is deprecated, use `iteration_range` instead.\n",
            "[03:35:59] WARNING: src/c_api/c_api.cc:935: `ntree_limit` is deprecated, use `iteration_range` instead.\n",
            "[03:35:59] WARNING: src/c_api/c_api.cc:935: `ntree_limit` is deprecated, use `iteration_range` instead.\n",
            "[03:35:59] WARNING: src/c_api/c_api.cc:935: `ntree_limit` is deprecated, use `iteration_range` instead.\n",
            "[03:35:59] WARNING: src/c_api/c_api.cc:935: `ntree_limit` is deprecated, use `iteration_range` instead.\n",
            "[03:35:59] WARNING: src/c_api/c_api.cc:935: `ntree_limit` is deprecated, use `iteration_range` instead.\n",
            "[03:36:00] WARNING: src/c_api/c_api.cc:935: `ntree_limit` is deprecated, use `iteration_range` instead.\n",
            "[03:36:00] WARNING: src/c_api/c_api.cc:935: `ntree_limit` is deprecated, use `iteration_range` instead.\n",
            "[03:36:00] WARNING: src/c_api/c_api.cc:935: `ntree_limit` is deprecated, use `iteration_range` instead.\n",
            "[03:36:00] WARNING: src/c_api/c_api.cc:935: `ntree_limit` is deprecated, use `iteration_range` instead.\n",
            "[03:36:00] WARNING: src/c_api/c_api.cc:935: `ntree_limit` is deprecated, use `iteration_range` instead.\n",
            "[03:36:00] WARNING: src/c_api/c_api.cc:935: `ntree_limit` is deprecated, use `iteration_range` instead.\n",
            "[03:36:00] WARNING: src/c_api/c_api.cc:935: `ntree_limit` is deprecated, use `iteration_range` instead.\n",
            "[03:36:00] WARNING: src/c_api/c_api.cc:935: `ntree_limit` is deprecated, use `iteration_range` instead.\n",
            "[03:36:01] WARNING: src/c_api/c_api.cc:935: `ntree_limit` is deprecated, use `iteration_range` instead.\n",
            "[03:36:01] WARNING: src/c_api/c_api.cc:935: `ntree_limit` is deprecated, use `iteration_range` instead.\n",
            "[03:36:01] WARNING: src/c_api/c_api.cc:935: `ntree_limit` is deprecated, use `iteration_range` instead.\n",
            "[03:36:01] WARNING: src/c_api/c_api.cc:935: `ntree_limit` is deprecated, use `iteration_range` instead.\n",
            "[03:36:01] WARNING: src/c_api/c_api.cc:935: `ntree_limit` is deprecated, use `iteration_range` instead.\n",
            "[03:36:01] WARNING: src/c_api/c_api.cc:935: `ntree_limit` is deprecated, use `iteration_range` instead.\n",
            "[03:36:02] WARNING: src/c_api/c_api.cc:935: `ntree_limit` is deprecated, use `iteration_range` instead.\n",
            "[03:36:02] WARNING: src/c_api/c_api.cc:935: `ntree_limit` is deprecated, use `iteration_range` instead.\n",
            "[03:36:02] WARNING: src/c_api/c_api.cc:935: `ntree_limit` is deprecated, use `iteration_range` instead.\n",
            "[03:36:02] WARNING: src/c_api/c_api.cc:935: `ntree_limit` is deprecated, use `iteration_range` instead.\n",
            "[03:36:03] WARNING: src/c_api/c_api.cc:935: `ntree_limit` is deprecated, use `iteration_range` instead.\n",
            "[03:36:03] WARNING: src/c_api/c_api.cc:935: `ntree_limit` is deprecated, use `iteration_range` instead.\n",
            "[03:36:03] WARNING: src/c_api/c_api.cc:935: `ntree_limit` is deprecated, use `iteration_range` instead.\n",
            "[03:36:03] WARNING: src/c_api/c_api.cc:935: `ntree_limit` is deprecated, use `iteration_range` instead.\n",
            "[03:36:03] WARNING: src/c_api/c_api.cc:935: `ntree_limit` is deprecated, use `iteration_range` instead.\n",
            "[03:36:03] WARNING: src/c_api/c_api.cc:935: `ntree_limit` is deprecated, use `iteration_range` instead.\n",
            "[03:36:04] WARNING: src/c_api/c_api.cc:935: `ntree_limit` is deprecated, use `iteration_range` instead.\n",
            "[03:36:04] WARNING: src/c_api/c_api.cc:935: `ntree_limit` is deprecated, use `iteration_range` instead.\n",
            "[03:36:04] WARNING: src/c_api/c_api.cc:935: `ntree_limit` is deprecated, use `iteration_range` instead.\n",
            "[03:36:04] WARNING: src/c_api/c_api.cc:935: `ntree_limit` is deprecated, use `iteration_range` instead.\n",
            "[03:36:04] WARNING: src/c_api/c_api.cc:935: `ntree_limit` is deprecated, use `iteration_range` instead.\n",
            "[03:36:04] WARNING: src/c_api/c_api.cc:935: `ntree_limit` is deprecated, use `iteration_range` instead.\n",
            "[03:36:04] WARNING: src/c_api/c_api.cc:935: `ntree_limit` is deprecated, use `iteration_range` instead.\n",
            "[03:36:04] WARNING: src/c_api/c_api.cc:935: `ntree_limit` is deprecated, use `iteration_range` instead.\n",
            "[03:36:04] WARNING: src/c_api/c_api.cc:935: `ntree_limit` is deprecated, use `iteration_range` instead.\n",
            "[03:36:04] WARNING: src/c_api/c_api.cc:935: `ntree_limit` is deprecated, use `iteration_range` instead.\n",
            "[03:36:05] WARNING: src/c_api/c_api.cc:935: `ntree_limit` is deprecated, use `iteration_range` instead.\n",
            "[03:36:05] WARNING: src/c_api/c_api.cc:935: `ntree_limit` is deprecated, use `iteration_range` instead.\n",
            "[03:36:05] WARNING: src/c_api/c_api.cc:935: `ntree_limit` is deprecated, use `iteration_range` instead.\n",
            "[03:36:05] WARNING: src/c_api/c_api.cc:935: `ntree_limit` is deprecated, use `iteration_range` instead.\n",
            "[03:36:05] WARNING: src/c_api/c_api.cc:935: `ntree_limit` is deprecated, use `iteration_range` instead.\n",
            "[03:36:05] WARNING: src/c_api/c_api.cc:935: `ntree_limit` is deprecated, use `iteration_range` instead.\n",
            "[03:36:05] WARNING: src/c_api/c_api.cc:935: `ntree_limit` is deprecated, use `iteration_range` instead.\n",
            "[03:36:05] WARNING: src/c_api/c_api.cc:935: `ntree_limit` is deprecated, use `iteration_range` instead.\n",
            "[03:36:06] WARNING: src/c_api/c_api.cc:935: `ntree_limit` is deprecated, use `iteration_range` instead.\n",
            "[03:36:06] WARNING: src/c_api/c_api.cc:935: `ntree_limit` is deprecated, use `iteration_range` instead.\n",
            "[03:36:06] WARNING: src/c_api/c_api.cc:935: `ntree_limit` is deprecated, use `iteration_range` instead.\n",
            "[03:36:06] WARNING: src/c_api/c_api.cc:935: `ntree_limit` is deprecated, use `iteration_range` instead.\n",
            "[03:36:06] WARNING: src/c_api/c_api.cc:935: `ntree_limit` is deprecated, use `iteration_range` instead.\n",
            "[03:36:06] WARNING: src/c_api/c_api.cc:935: `ntree_limit` is deprecated, use `iteration_range` instead.\n",
            "[03:36:07] WARNING: src/c_api/c_api.cc:935: `ntree_limit` is deprecated, use `iteration_range` instead.\n",
            "[03:36:07] WARNING: src/c_api/c_api.cc:935: `ntree_limit` is deprecated, use `iteration_range` instead.\n",
            "[03:36:07] WARNING: src/c_api/c_api.cc:935: `ntree_limit` is deprecated, use `iteration_range` instead.\n",
            "[03:36:07] WARNING: src/c_api/c_api.cc:935: `ntree_limit` is deprecated, use `iteration_range` instead.\n",
            "[03:36:07] WARNING: src/c_api/c_api.cc:935: `ntree_limit` is deprecated, use `iteration_range` instead.\n",
            "[03:36:07] WARNING: src/c_api/c_api.cc:935: `ntree_limit` is deprecated, use `iteration_range` instead.\n",
            "[03:36:08] WARNING: src/c_api/c_api.cc:935: `ntree_limit` is deprecated, use `iteration_range` instead.\n",
            "[03:36:08] WARNING: src/c_api/c_api.cc:935: `ntree_limit` is deprecated, use `iteration_range` instead.\n",
            "[03:36:08] WARNING: src/c_api/c_api.cc:935: `ntree_limit` is deprecated, use `iteration_range` instead.\n",
            "[03:36:08] WARNING: src/c_api/c_api.cc:935: `ntree_limit` is deprecated, use `iteration_range` instead.\n",
            "[03:36:08] WARNING: src/c_api/c_api.cc:935: `ntree_limit` is deprecated, use `iteration_range` instead.\n",
            "[03:36:08] WARNING: src/c_api/c_api.cc:935: `ntree_limit` is deprecated, use `iteration_range` instead.\n",
            "[03:36:08] WARNING: src/c_api/c_api.cc:935: `ntree_limit` is deprecated, use `iteration_range` instead.\n",
            "[03:36:08] WARNING: src/c_api/c_api.cc:935: `ntree_limit` is deprecated, use `iteration_range` instead.\n",
            "[03:36:08] WARNING: src/c_api/c_api.cc:935: `ntree_limit` is deprecated, use `iteration_range` instead.\n",
            "[03:36:08] WARNING: src/c_api/c_api.cc:935: `ntree_limit` is deprecated, use `iteration_range` instead.\n",
            "[03:36:08] WARNING: src/c_api/c_api.cc:935: `ntree_limit` is deprecated, use `iteration_range` instead.\n",
            "[03:36:08] WARNING: src/c_api/c_api.cc:935: `ntree_limit` is deprecated, use `iteration_range` instead.\n",
            "[03:36:09] WARNING: src/c_api/c_api.cc:935: `ntree_limit` is deprecated, use `iteration_range` instead.\n",
            "[03:36:09] WARNING: src/c_api/c_api.cc:935: `ntree_limit` is deprecated, use `iteration_range` instead.\n",
            "[03:36:09] WARNING: src/c_api/c_api.cc:935: `ntree_limit` is deprecated, use `iteration_range` instead.\n",
            "[03:36:09] WARNING: src/c_api/c_api.cc:935: `ntree_limit` is deprecated, use `iteration_range` instead.\n",
            "[03:36:09] WARNING: src/c_api/c_api.cc:935: `ntree_limit` is deprecated, use `iteration_range` instead.\n",
            "[03:36:09] WARNING: src/c_api/c_api.cc:935: `ntree_limit` is deprecated, use `iteration_range` instead.\n",
            "[03:36:09] WARNING: src/c_api/c_api.cc:935: `ntree_limit` is deprecated, use `iteration_range` instead.\n",
            "[03:36:09] WARNING: src/c_api/c_api.cc:935: `ntree_limit` is deprecated, use `iteration_range` instead.\n",
            "[03:36:09] WARNING: src/c_api/c_api.cc:935: `ntree_limit` is deprecated, use `iteration_range` instead.\n",
            "[03:36:09] WARNING: src/c_api/c_api.cc:935: `ntree_limit` is deprecated, use `iteration_range` instead.\n",
            "[03:36:10] WARNING: src/c_api/c_api.cc:935: `ntree_limit` is deprecated, use `iteration_range` instead.\n",
            "[03:36:10] WARNING: src/c_api/c_api.cc:935: `ntree_limit` is deprecated, use `iteration_range` instead.\n",
            "[03:36:10] WARNING: src/c_api/c_api.cc:935: `ntree_limit` is deprecated, use `iteration_range` instead.\n",
            "[03:36:10] WARNING: src/c_api/c_api.cc:935: `ntree_limit` is deprecated, use `iteration_range` instead.\n",
            "[03:36:10] WARNING: src/c_api/c_api.cc:935: `ntree_limit` is deprecated, use `iteration_range` instead.\n",
            "[03:36:10] WARNING: src/c_api/c_api.cc:935: `ntree_limit` is deprecated, use `iteration_range` instead.\n",
            "[03:36:11] WARNING: src/c_api/c_api.cc:935: `ntree_limit` is deprecated, use `iteration_range` instead.\n",
            "[03:36:11] WARNING: src/c_api/c_api.cc:935: `ntree_limit` is deprecated, use `iteration_range` instead.\n",
            "[03:36:11] WARNING: src/c_api/c_api.cc:935: `ntree_limit` is deprecated, use `iteration_range` instead.\n",
            "[03:36:11] WARNING: src/c_api/c_api.cc:935: `ntree_limit` is deprecated, use `iteration_range` instead.\n",
            "[03:36:11] WARNING: src/c_api/c_api.cc:935: `ntree_limit` is deprecated, use `iteration_range` instead.\n",
            "[03:36:11] WARNING: src/c_api/c_api.cc:935: `ntree_limit` is deprecated, use `iteration_range` instead.\n",
            "[03:36:12] WARNING: src/c_api/c_api.cc:935: `ntree_limit` is deprecated, use `iteration_range` instead.\n",
            "[03:36:12] WARNING: src/c_api/c_api.cc:935: `ntree_limit` is deprecated, use `iteration_range` instead.\n",
            "[03:36:12] WARNING: src/c_api/c_api.cc:935: `ntree_limit` is deprecated, use `iteration_range` instead.\n",
            "[03:36:12] WARNING: src/c_api/c_api.cc:935: `ntree_limit` is deprecated, use `iteration_range` instead.\n",
            "[03:36:12] WARNING: src/c_api/c_api.cc:935: `ntree_limit` is deprecated, use `iteration_range` instead.\n",
            "[03:36:12] WARNING: src/c_api/c_api.cc:935: `ntree_limit` is deprecated, use `iteration_range` instead.\n",
            "[03:36:12] WARNING: src/c_api/c_api.cc:935: `ntree_limit` is deprecated, use `iteration_range` instead.\n",
            "[03:36:12] WARNING: src/c_api/c_api.cc:935: `ntree_limit` is deprecated, use `iteration_range` instead.\n",
            "[03:36:12] WARNING: src/c_api/c_api.cc:935: `ntree_limit` is deprecated, use `iteration_range` instead.\n",
            "[03:36:12] WARNING: src/c_api/c_api.cc:935: `ntree_limit` is deprecated, use `iteration_range` instead.\n",
            "[03:36:13] WARNING: src/c_api/c_api.cc:935: `ntree_limit` is deprecated, use `iteration_range` instead.\n",
            "[03:36:13] WARNING: src/c_api/c_api.cc:935: `ntree_limit` is deprecated, use `iteration_range` instead.\n",
            "[03:36:13] WARNING: src/c_api/c_api.cc:935: `ntree_limit` is deprecated, use `iteration_range` instead.\n",
            "[03:36:13] WARNING: src/c_api/c_api.cc:935: `ntree_limit` is deprecated, use `iteration_range` instead.\n",
            "[03:36:13] WARNING: src/c_api/c_api.cc:935: `ntree_limit` is deprecated, use `iteration_range` instead.\n",
            "[03:36:13] WARNING: src/c_api/c_api.cc:935: `ntree_limit` is deprecated, use `iteration_range` instead.\n",
            "[03:36:13] WARNING: src/c_api/c_api.cc:935: `ntree_limit` is deprecated, use `iteration_range` instead.\n",
            "[03:36:13] WARNING: src/c_api/c_api.cc:935: `ntree_limit` is deprecated, use `iteration_range` instead.\n",
            "[03:36:13] WARNING: src/c_api/c_api.cc:935: `ntree_limit` is deprecated, use `iteration_range` instead.\n",
            "[03:36:13] WARNING: src/c_api/c_api.cc:935: `ntree_limit` is deprecated, use `iteration_range` instead.\n",
            "[03:36:14] WARNING: src/c_api/c_api.cc:935: `ntree_limit` is deprecated, use `iteration_range` instead.\n",
            "[03:36:14] WARNING: src/c_api/c_api.cc:935: `ntree_limit` is deprecated, use `iteration_range` instead.\n",
            "[03:36:14] WARNING: src/c_api/c_api.cc:935: `ntree_limit` is deprecated, use `iteration_range` instead.\n",
            "[03:36:14] WARNING: src/c_api/c_api.cc:935: `ntree_limit` is deprecated, use `iteration_range` instead.\n",
            "[03:36:15] WARNING: src/c_api/c_api.cc:935: `ntree_limit` is deprecated, use `iteration_range` instead.\n",
            "[03:36:15] WARNING: src/c_api/c_api.cc:935: `ntree_limit` is deprecated, use `iteration_range` instead.\n",
            "[03:36:15] WARNING: src/c_api/c_api.cc:935: `ntree_limit` is deprecated, use `iteration_range` instead.\n",
            "[03:36:15] WARNING: src/c_api/c_api.cc:935: `ntree_limit` is deprecated, use `iteration_range` instead.\n",
            "[03:36:15] WARNING: src/c_api/c_api.cc:935: `ntree_limit` is deprecated, use `iteration_range` instead.\n",
            "[03:36:15] WARNING: src/c_api/c_api.cc:935: `ntree_limit` is deprecated, use `iteration_range` instead.\n",
            "[03:36:16] WARNING: src/c_api/c_api.cc:935: `ntree_limit` is deprecated, use `iteration_range` instead.\n",
            "[03:36:16] WARNING: src/c_api/c_api.cc:935: `ntree_limit` is deprecated, use `iteration_range` instead.\n",
            "[03:36:16] WARNING: src/c_api/c_api.cc:935: `ntree_limit` is deprecated, use `iteration_range` instead.\n",
            "[03:36:16] WARNING: src/c_api/c_api.cc:935: `ntree_limit` is deprecated, use `iteration_range` instead.\n",
            "[03:36:16] WARNING: src/c_api/c_api.cc:935: `ntree_limit` is deprecated, use `iteration_range` instead.\n",
            "[03:36:16] WARNING: src/c_api/c_api.cc:935: `ntree_limit` is deprecated, use `iteration_range` instead.\n",
            "[03:36:17] WARNING: src/c_api/c_api.cc:935: `ntree_limit` is deprecated, use `iteration_range` instead.\n",
            "[03:36:17] WARNING: src/c_api/c_api.cc:935: `ntree_limit` is deprecated, use `iteration_range` instead.\n",
            "[03:36:17] WARNING: src/c_api/c_api.cc:935: `ntree_limit` is deprecated, use `iteration_range` instead.\n",
            "[03:36:17] WARNING: src/c_api/c_api.cc:935: `ntree_limit` is deprecated, use `iteration_range` instead.\n",
            "[03:36:17] WARNING: src/c_api/c_api.cc:935: `ntree_limit` is deprecated, use `iteration_range` instead.\n",
            "[03:36:17] WARNING: src/c_api/c_api.cc:935: `ntree_limit` is deprecated, use `iteration_range` instead.\n",
            "[03:36:17] WARNING: src/c_api/c_api.cc:935: `ntree_limit` is deprecated, use `iteration_range` instead.\n",
            "[03:36:17] WARNING: src/c_api/c_api.cc:935: `ntree_limit` is deprecated, use `iteration_range` instead.\n",
            "[03:36:18] WARNING: src/c_api/c_api.cc:935: `ntree_limit` is deprecated, use `iteration_range` instead.\n",
            "[03:36:18] WARNING: src/c_api/c_api.cc:935: `ntree_limit` is deprecated, use `iteration_range` instead.\n",
            "[03:36:18] WARNING: src/c_api/c_api.cc:935: `ntree_limit` is deprecated, use `iteration_range` instead.\n",
            "[03:36:18] WARNING: src/c_api/c_api.cc:935: `ntree_limit` is deprecated, use `iteration_range` instead.\n",
            "[03:36:18] WARNING: src/c_api/c_api.cc:935: `ntree_limit` is deprecated, use `iteration_range` instead.\n",
            "[03:36:18] WARNING: src/c_api/c_api.cc:935: `ntree_limit` is deprecated, use `iteration_range` instead.\n",
            "[03:36:18] WARNING: src/c_api/c_api.cc:935: `ntree_limit` is deprecated, use `iteration_range` instead.\n",
            "[03:36:18] WARNING: src/c_api/c_api.cc:935: `ntree_limit` is deprecated, use `iteration_range` instead.\n",
            "[03:36:18] WARNING: src/c_api/c_api.cc:935: `ntree_limit` is deprecated, use `iteration_range` instead.\n",
            "[03:36:18] WARNING: src/c_api/c_api.cc:935: `ntree_limit` is deprecated, use `iteration_range` instead.\n",
            "[03:36:18] WARNING: src/c_api/c_api.cc:935: `ntree_limit` is deprecated, use `iteration_range` instead.\n",
            "[03:36:18] WARNING: src/c_api/c_api.cc:935: `ntree_limit` is deprecated, use `iteration_range` instead.\n",
            "[03:36:19] WARNING: src/c_api/c_api.cc:935: `ntree_limit` is deprecated, use `iteration_range` instead.\n",
            "[03:36:19] WARNING: src/c_api/c_api.cc:935: `ntree_limit` is deprecated, use `iteration_range` instead.\n",
            "[03:36:19] WARNING: src/c_api/c_api.cc:935: `ntree_limit` is deprecated, use `iteration_range` instead.\n",
            "[03:36:19] WARNING: src/c_api/c_api.cc:935: `ntree_limit` is deprecated, use `iteration_range` instead.\n",
            "[03:36:19] WARNING: src/c_api/c_api.cc:935: `ntree_limit` is deprecated, use `iteration_range` instead.\n",
            "[03:36:19] WARNING: src/c_api/c_api.cc:935: `ntree_limit` is deprecated, use `iteration_range` instead.\n",
            "[03:36:19] WARNING: src/c_api/c_api.cc:935: `ntree_limit` is deprecated, use `iteration_range` instead.\n",
            "[03:36:19] WARNING: src/c_api/c_api.cc:935: `ntree_limit` is deprecated, use `iteration_range` instead.\n",
            "[03:36:20] WARNING: src/c_api/c_api.cc:935: `ntree_limit` is deprecated, use `iteration_range` instead.\n",
            "[03:36:20] WARNING: src/c_api/c_api.cc:935: `ntree_limit` is deprecated, use `iteration_range` instead.\n",
            "[03:36:20] WARNING: src/c_api/c_api.cc:935: `ntree_limit` is deprecated, use `iteration_range` instead.\n",
            "[03:36:20] WARNING: src/c_api/c_api.cc:935: `ntree_limit` is deprecated, use `iteration_range` instead.\n",
            "[03:36:20] WARNING: src/c_api/c_api.cc:935: `ntree_limit` is deprecated, use `iteration_range` instead.\n",
            "[03:36:20] WARNING: src/c_api/c_api.cc:935: `ntree_limit` is deprecated, use `iteration_range` instead.\n",
            "[03:36:21] WARNING: src/c_api/c_api.cc:935: `ntree_limit` is deprecated, use `iteration_range` instead.\n",
            "[03:36:21] WARNING: src/c_api/c_api.cc:935: `ntree_limit` is deprecated, use `iteration_range` instead.\n",
            "[03:36:21] WARNING: src/c_api/c_api.cc:935: `ntree_limit` is deprecated, use `iteration_range` instead.\n",
            "[03:36:21] WARNING: src/c_api/c_api.cc:935: `ntree_limit` is deprecated, use `iteration_range` instead.\n",
            "[03:36:22] WARNING: src/c_api/c_api.cc:935: `ntree_limit` is deprecated, use `iteration_range` instead.\n",
            "[03:36:22] WARNING: src/c_api/c_api.cc:935: `ntree_limit` is deprecated, use `iteration_range` instead.\n",
            "[03:36:22] WARNING: src/c_api/c_api.cc:935: `ntree_limit` is deprecated, use `iteration_range` instead.\n",
            "[03:36:22] WARNING: src/c_api/c_api.cc:935: `ntree_limit` is deprecated, use `iteration_range` instead.\n",
            "[03:36:22] WARNING: src/c_api/c_api.cc:935: `ntree_limit` is deprecated, use `iteration_range` instead.\n",
            "[03:36:22] WARNING: src/c_api/c_api.cc:935: `ntree_limit` is deprecated, use `iteration_range` instead.\n",
            "[03:36:22] WARNING: src/c_api/c_api.cc:935: `ntree_limit` is deprecated, use `iteration_range` instead.\n",
            "[03:36:22] WARNING: src/c_api/c_api.cc:935: `ntree_limit` is deprecated, use `iteration_range` instead.\n",
            "[03:36:22] WARNING: src/c_api/c_api.cc:935: `ntree_limit` is deprecated, use `iteration_range` instead.\n",
            "[03:36:22] WARNING: src/c_api/c_api.cc:935: `ntree_limit` is deprecated, use `iteration_range` instead.\n",
            "[03:36:22] WARNING: src/c_api/c_api.cc:935: `ntree_limit` is deprecated, use `iteration_range` instead.\n",
            "[03:36:22] WARNING: src/c_api/c_api.cc:935: `ntree_limit` is deprecated, use `iteration_range` instead.\n",
            "[03:36:22] WARNING: src/c_api/c_api.cc:935: `ntree_limit` is deprecated, use `iteration_range` instead.\n",
            "[03:36:22] WARNING: src/c_api/c_api.cc:935: `ntree_limit` is deprecated, use `iteration_range` instead.\n",
            "[03:36:23] WARNING: src/c_api/c_api.cc:935: `ntree_limit` is deprecated, use `iteration_range` instead.\n",
            "[03:36:23] WARNING: src/c_api/c_api.cc:935: `ntree_limit` is deprecated, use `iteration_range` instead.\n",
            "[03:36:23] WARNING: src/c_api/c_api.cc:935: `ntree_limit` is deprecated, use `iteration_range` instead.\n",
            "[03:36:23] WARNING: src/c_api/c_api.cc:935: `ntree_limit` is deprecated, use `iteration_range` instead.\n",
            "[03:36:23] WARNING: src/c_api/c_api.cc:935: `ntree_limit` is deprecated, use `iteration_range` instead.\n",
            "[03:36:23] WARNING: src/c_api/c_api.cc:935: `ntree_limit` is deprecated, use `iteration_range` instead.\n",
            "[03:36:23] WARNING: src/c_api/c_api.cc:935: `ntree_limit` is deprecated, use `iteration_range` instead.\n",
            "[03:36:23] WARNING: src/c_api/c_api.cc:935: `ntree_limit` is deprecated, use `iteration_range` instead.\n",
            "[03:36:24] WARNING: src/c_api/c_api.cc:935: `ntree_limit` is deprecated, use `iteration_range` instead.\n",
            "[03:36:24] WARNING: src/c_api/c_api.cc:935: `ntree_limit` is deprecated, use `iteration_range` instead.\n",
            "[03:36:24] WARNING: src/c_api/c_api.cc:935: `ntree_limit` is deprecated, use `iteration_range` instead.\n",
            "[03:36:24] WARNING: src/c_api/c_api.cc:935: `ntree_limit` is deprecated, use `iteration_range` instead.\n",
            "[03:36:24] WARNING: src/c_api/c_api.cc:935: `ntree_limit` is deprecated, use `iteration_range` instead.\n",
            "[03:36:24] WARNING: src/c_api/c_api.cc:935: `ntree_limit` is deprecated, use `iteration_range` instead.\n",
            "[03:36:24] WARNING: src/c_api/c_api.cc:935: `ntree_limit` is deprecated, use `iteration_range` instead.\n",
            "[03:36:24] WARNING: src/c_api/c_api.cc:935: `ntree_limit` is deprecated, use `iteration_range` instead.\n",
            "[03:36:25] WARNING: src/c_api/c_api.cc:935: `ntree_limit` is deprecated, use `iteration_range` instead.\n",
            "[03:36:25] WARNING: src/c_api/c_api.cc:935: `ntree_limit` is deprecated, use `iteration_range` instead.\n",
            "[03:36:26] WARNING: src/c_api/c_api.cc:935: `ntree_limit` is deprecated, use `iteration_range` instead.\n",
            "[03:36:26] WARNING: src/c_api/c_api.cc:935: `ntree_limit` is deprecated, use `iteration_range` instead.\n",
            "[03:36:26] WARNING: src/c_api/c_api.cc:935: `ntree_limit` is deprecated, use `iteration_range` instead.\n",
            "[03:36:26] WARNING: src/c_api/c_api.cc:935: `ntree_limit` is deprecated, use `iteration_range` instead.\n",
            "[03:36:27] WARNING: src/c_api/c_api.cc:935: `ntree_limit` is deprecated, use `iteration_range` instead.\n",
            "[03:36:27] WARNING: src/c_api/c_api.cc:935: `ntree_limit` is deprecated, use `iteration_range` instead.\n",
            "[03:36:27] WARNING: src/c_api/c_api.cc:935: `ntree_limit` is deprecated, use `iteration_range` instead.\n",
            "[03:36:27] WARNING: src/c_api/c_api.cc:935: `ntree_limit` is deprecated, use `iteration_range` instead.\n",
            "[03:36:27] WARNING: src/c_api/c_api.cc:935: `ntree_limit` is deprecated, use `iteration_range` instead.\n",
            "[03:36:27] WARNING: src/c_api/c_api.cc:935: `ntree_limit` is deprecated, use `iteration_range` instead.\n",
            "[03:36:27] WARNING: src/c_api/c_api.cc:935: `ntree_limit` is deprecated, use `iteration_range` instead.\n",
            "[03:36:27] WARNING: src/c_api/c_api.cc:935: `ntree_limit` is deprecated, use `iteration_range` instead.\n",
            "[03:36:27] WARNING: src/c_api/c_api.cc:935: `ntree_limit` is deprecated, use `iteration_range` instead.\n",
            "[03:36:27] WARNING: src/c_api/c_api.cc:935: `ntree_limit` is deprecated, use `iteration_range` instead.\n",
            "[03:36:27] WARNING: src/c_api/c_api.cc:935: `ntree_limit` is deprecated, use `iteration_range` instead.\n",
            "[03:36:27] WARNING: src/c_api/c_api.cc:935: `ntree_limit` is deprecated, use `iteration_range` instead.\n",
            "[03:36:28] WARNING: src/c_api/c_api.cc:935: `ntree_limit` is deprecated, use `iteration_range` instead.\n",
            "[03:36:28] WARNING: src/c_api/c_api.cc:935: `ntree_limit` is deprecated, use `iteration_range` instead.\n",
            "[03:36:28] WARNING: src/c_api/c_api.cc:935: `ntree_limit` is deprecated, use `iteration_range` instead.\n",
            "[03:36:28] WARNING: src/c_api/c_api.cc:935: `ntree_limit` is deprecated, use `iteration_range` instead.\n",
            "[03:36:28] WARNING: src/c_api/c_api.cc:935: `ntree_limit` is deprecated, use `iteration_range` instead.\n",
            "[03:36:28] WARNING: src/c_api/c_api.cc:935: `ntree_limit` is deprecated, use `iteration_range` instead.\n",
            "[03:36:28] WARNING: src/c_api/c_api.cc:935: `ntree_limit` is deprecated, use `iteration_range` instead.\n",
            "[03:36:28] WARNING: src/c_api/c_api.cc:935: `ntree_limit` is deprecated, use `iteration_range` instead.\n",
            "[03:36:28] WARNING: src/c_api/c_api.cc:935: `ntree_limit` is deprecated, use `iteration_range` instead.\n",
            "[03:36:28] WARNING: src/c_api/c_api.cc:935: `ntree_limit` is deprecated, use `iteration_range` instead.\n",
            "[03:36:29] WARNING: src/c_api/c_api.cc:935: `ntree_limit` is deprecated, use `iteration_range` instead.\n",
            "[03:36:29] WARNING: src/c_api/c_api.cc:935: `ntree_limit` is deprecated, use `iteration_range` instead.\n",
            "[03:36:29] WARNING: src/c_api/c_api.cc:935: `ntree_limit` is deprecated, use `iteration_range` instead.\n",
            "[03:36:29] WARNING: src/c_api/c_api.cc:935: `ntree_limit` is deprecated, use `iteration_range` instead.\n",
            "[03:36:29] WARNING: src/c_api/c_api.cc:935: `ntree_limit` is deprecated, use `iteration_range` instead.\n",
            "[03:36:29] WARNING: src/c_api/c_api.cc:935: `ntree_limit` is deprecated, use `iteration_range` instead.\n",
            "[03:36:30] WARNING: src/c_api/c_api.cc:935: `ntree_limit` is deprecated, use `iteration_range` instead.\n",
            "[03:36:30] WARNING: src/c_api/c_api.cc:935: `ntree_limit` is deprecated, use `iteration_range` instead.\n",
            "[03:36:30] WARNING: src/c_api/c_api.cc:935: `ntree_limit` is deprecated, use `iteration_range` instead.\n",
            "[03:36:30] WARNING: src/c_api/c_api.cc:935: `ntree_limit` is deprecated, use `iteration_range` instead.\n",
            "[03:36:30] WARNING: src/c_api/c_api.cc:935: `ntree_limit` is deprecated, use `iteration_range` instead.\n",
            "[03:36:30] WARNING: src/c_api/c_api.cc:935: `ntree_limit` is deprecated, use `iteration_range` instead.\n",
            "[03:36:31] WARNING: src/c_api/c_api.cc:935: `ntree_limit` is deprecated, use `iteration_range` instead.\n",
            "[03:36:31] WARNING: src/c_api/c_api.cc:935: `ntree_limit` is deprecated, use `iteration_range` instead.\n",
            "[03:36:31] WARNING: src/c_api/c_api.cc:935: `ntree_limit` is deprecated, use `iteration_range` instead.\n",
            "[03:36:31] WARNING: src/c_api/c_api.cc:935: `ntree_limit` is deprecated, use `iteration_range` instead.\n",
            "[03:36:31] WARNING: src/c_api/c_api.cc:935: `ntree_limit` is deprecated, use `iteration_range` instead.\n",
            "[03:36:31] WARNING: src/c_api/c_api.cc:935: `ntree_limit` is deprecated, use `iteration_range` instead.\n",
            "[03:36:31] WARNING: src/c_api/c_api.cc:935: `ntree_limit` is deprecated, use `iteration_range` instead.\n",
            "[03:36:31] WARNING: src/c_api/c_api.cc:935: `ntree_limit` is deprecated, use `iteration_range` instead.\n",
            "[03:36:31] WARNING: src/c_api/c_api.cc:935: `ntree_limit` is deprecated, use `iteration_range` instead.\n",
            "[03:36:31] WARNING: src/c_api/c_api.cc:935: `ntree_limit` is deprecated, use `iteration_range` instead.\n",
            "[03:36:32] WARNING: src/c_api/c_api.cc:935: `ntree_limit` is deprecated, use `iteration_range` instead.\n",
            "[03:36:32] WARNING: src/c_api/c_api.cc:935: `ntree_limit` is deprecated, use `iteration_range` instead.\n",
            "[03:36:32] WARNING: src/c_api/c_api.cc:935: `ntree_limit` is deprecated, use `iteration_range` instead.\n",
            "[03:36:32] WARNING: src/c_api/c_api.cc:935: `ntree_limit` is deprecated, use `iteration_range` instead.\n",
            "[03:36:32] WARNING: src/c_api/c_api.cc:935: `ntree_limit` is deprecated, use `iteration_range` instead.\n",
            "[03:36:32] WARNING: src/c_api/c_api.cc:935: `ntree_limit` is deprecated, use `iteration_range` instead.\n",
            "[03:36:32] WARNING: src/c_api/c_api.cc:935: `ntree_limit` is deprecated, use `iteration_range` instead.\n",
            "[03:36:32] WARNING: src/c_api/c_api.cc:935: `ntree_limit` is deprecated, use `iteration_range` instead.\n",
            "[03:36:32] WARNING: src/c_api/c_api.cc:935: `ntree_limit` is deprecated, use `iteration_range` instead.\n",
            "[03:36:32] WARNING: src/c_api/c_api.cc:935: `ntree_limit` is deprecated, use `iteration_range` instead.\n",
            "[03:36:33] WARNING: src/c_api/c_api.cc:935: `ntree_limit` is deprecated, use `iteration_range` instead.\n",
            "[03:36:33] WARNING: src/c_api/c_api.cc:935: `ntree_limit` is deprecated, use `iteration_range` instead.\n",
            "[03:36:33] WARNING: src/c_api/c_api.cc:935: `ntree_limit` is deprecated, use `iteration_range` instead.\n",
            "[03:36:33] WARNING: src/c_api/c_api.cc:935: `ntree_limit` is deprecated, use `iteration_range` instead.\n",
            "[03:36:33] WARNING: src/c_api/c_api.cc:935: `ntree_limit` is deprecated, use `iteration_range` instead.\n",
            "[03:36:33] WARNING: src/c_api/c_api.cc:935: `ntree_limit` is deprecated, use `iteration_range` instead.\n",
            "[03:36:33] WARNING: src/c_api/c_api.cc:935: `ntree_limit` is deprecated, use `iteration_range` instead.\n",
            "[03:36:33] WARNING: src/c_api/c_api.cc:935: `ntree_limit` is deprecated, use `iteration_range` instead.\n",
            "[03:36:34] WARNING: src/c_api/c_api.cc:935: `ntree_limit` is deprecated, use `iteration_range` instead.\n",
            "[03:36:34] WARNING: src/c_api/c_api.cc:935: `ntree_limit` is deprecated, use `iteration_range` instead.\n",
            "[03:36:34] WARNING: src/c_api/c_api.cc:935: `ntree_limit` is deprecated, use `iteration_range` instead.\n",
            "[03:36:34] WARNING: src/c_api/c_api.cc:935: `ntree_limit` is deprecated, use `iteration_range` instead.\n",
            "[03:36:34] WARNING: src/c_api/c_api.cc:935: `ntree_limit` is deprecated, use `iteration_range` instead.\n",
            "[03:36:34] WARNING: src/c_api/c_api.cc:935: `ntree_limit` is deprecated, use `iteration_range` instead.\n",
            "[03:36:35] WARNING: src/c_api/c_api.cc:935: `ntree_limit` is deprecated, use `iteration_range` instead.\n",
            "[03:36:35] WARNING: src/c_api/c_api.cc:935: `ntree_limit` is deprecated, use `iteration_range` instead.\n",
            "[03:36:35] WARNING: src/c_api/c_api.cc:935: `ntree_limit` is deprecated, use `iteration_range` instead.\n",
            "[03:36:35] WARNING: src/c_api/c_api.cc:935: `ntree_limit` is deprecated, use `iteration_range` instead.\n",
            "[03:36:35] WARNING: src/c_api/c_api.cc:935: `ntree_limit` is deprecated, use `iteration_range` instead.\n",
            "[03:36:35] WARNING: src/c_api/c_api.cc:935: `ntree_limit` is deprecated, use `iteration_range` instead.\n",
            "[03:36:35] WARNING: src/c_api/c_api.cc:935: `ntree_limit` is deprecated, use `iteration_range` instead.\n",
            "[03:36:35] WARNING: src/c_api/c_api.cc:935: `ntree_limit` is deprecated, use `iteration_range` instead.\n",
            "[03:36:36] WARNING: src/c_api/c_api.cc:935: `ntree_limit` is deprecated, use `iteration_range` instead.\n",
            "[03:36:36] WARNING: src/c_api/c_api.cc:935: `ntree_limit` is deprecated, use `iteration_range` instead.\n",
            "[03:36:36] WARNING: src/c_api/c_api.cc:935: `ntree_limit` is deprecated, use `iteration_range` instead.\n",
            "[03:36:36] WARNING: src/c_api/c_api.cc:935: `ntree_limit` is deprecated, use `iteration_range` instead.\n",
            "[03:36:36] WARNING: src/c_api/c_api.cc:935: `ntree_limit` is deprecated, use `iteration_range` instead.\n",
            "[03:36:36] WARNING: src/c_api/c_api.cc:935: `ntree_limit` is deprecated, use `iteration_range` instead.\n",
            "[03:36:36] WARNING: src/c_api/c_api.cc:935: `ntree_limit` is deprecated, use `iteration_range` instead.\n",
            "[03:36:36] WARNING: src/c_api/c_api.cc:935: `ntree_limit` is deprecated, use `iteration_range` instead.\n",
            "[03:36:37] WARNING: src/c_api/c_api.cc:935: `ntree_limit` is deprecated, use `iteration_range` instead.\n",
            "[03:36:37] WARNING: src/c_api/c_api.cc:935: `ntree_limit` is deprecated, use `iteration_range` instead.\n",
            "[03:36:37] WARNING: src/c_api/c_api.cc:935: `ntree_limit` is deprecated, use `iteration_range` instead.\n",
            "[03:36:37] WARNING: src/c_api/c_api.cc:935: `ntree_limit` is deprecated, use `iteration_range` instead.\n",
            "[03:36:37] WARNING: src/c_api/c_api.cc:935: `ntree_limit` is deprecated, use `iteration_range` instead.\n",
            "[03:36:37] WARNING: src/c_api/c_api.cc:935: `ntree_limit` is deprecated, use `iteration_range` instead.\n",
            "[03:36:38] WARNING: src/c_api/c_api.cc:935: `ntree_limit` is deprecated, use `iteration_range` instead.\n",
            "[03:36:38] WARNING: src/c_api/c_api.cc:935: `ntree_limit` is deprecated, use `iteration_range` instead.\n",
            "[03:36:38] WARNING: src/c_api/c_api.cc:935: `ntree_limit` is deprecated, use `iteration_range` instead.\n",
            "[03:36:38] WARNING: src/c_api/c_api.cc:935: `ntree_limit` is deprecated, use `iteration_range` instead.\n",
            "[03:36:38] WARNING: src/c_api/c_api.cc:935: `ntree_limit` is deprecated, use `iteration_range` instead.\n",
            "[03:36:38] WARNING: src/c_api/c_api.cc:935: `ntree_limit` is deprecated, use `iteration_range` instead.\n",
            "[03:36:38] WARNING: src/c_api/c_api.cc:935: `ntree_limit` is deprecated, use `iteration_range` instead.\n",
            "[03:36:38] WARNING: src/c_api/c_api.cc:935: `ntree_limit` is deprecated, use `iteration_range` instead.\n",
            "[03:36:39] WARNING: src/c_api/c_api.cc:935: `ntree_limit` is deprecated, use `iteration_range` instead.\n",
            "[03:36:39] WARNING: src/c_api/c_api.cc:935: `ntree_limit` is deprecated, use `iteration_range` instead.\n",
            "[03:36:39] WARNING: src/c_api/c_api.cc:935: `ntree_limit` is deprecated, use `iteration_range` instead.\n",
            "[03:36:39] WARNING: src/c_api/c_api.cc:935: `ntree_limit` is deprecated, use `iteration_range` instead.\n",
            "[03:36:39] WARNING: src/c_api/c_api.cc:935: `ntree_limit` is deprecated, use `iteration_range` instead.\n",
            "[03:36:39] WARNING: src/c_api/c_api.cc:935: `ntree_limit` is deprecated, use `iteration_range` instead.\n",
            "[03:36:40] WARNING: src/c_api/c_api.cc:935: `ntree_limit` is deprecated, use `iteration_range` instead.\n",
            "[03:36:40] WARNING: src/c_api/c_api.cc:935: `ntree_limit` is deprecated, use `iteration_range` instead.\n",
            "[03:36:40] WARNING: src/c_api/c_api.cc:935: `ntree_limit` is deprecated, use `iteration_range` instead.\n",
            "[03:36:40] WARNING: src/c_api/c_api.cc:935: `ntree_limit` is deprecated, use `iteration_range` instead.\n",
            "[03:36:40] WARNING: src/c_api/c_api.cc:935: `ntree_limit` is deprecated, use `iteration_range` instead.\n",
            "[03:36:40] WARNING: src/c_api/c_api.cc:935: `ntree_limit` is deprecated, use `iteration_range` instead.\n",
            "[03:36:41] WARNING: src/c_api/c_api.cc:935: `ntree_limit` is deprecated, use `iteration_range` instead.\n",
            "[03:36:41] WARNING: src/c_api/c_api.cc:935: `ntree_limit` is deprecated, use `iteration_range` instead.\n",
            "[03:36:41] WARNING: src/c_api/c_api.cc:935: `ntree_limit` is deprecated, use `iteration_range` instead.\n",
            "[03:36:41] WARNING: src/c_api/c_api.cc:935: `ntree_limit` is deprecated, use `iteration_range` instead.\n",
            "[03:36:41] WARNING: src/c_api/c_api.cc:935: `ntree_limit` is deprecated, use `iteration_range` instead.\n",
            "[03:36:41] WARNING: src/c_api/c_api.cc:935: `ntree_limit` is deprecated, use `iteration_range` instead.\n",
            "[03:36:41] WARNING: src/c_api/c_api.cc:935: `ntree_limit` is deprecated, use `iteration_range` instead.\n",
            "[03:36:41] WARNING: src/c_api/c_api.cc:935: `ntree_limit` is deprecated, use `iteration_range` instead.\n",
            "[03:36:41] WARNING: src/c_api/c_api.cc:935: `ntree_limit` is deprecated, use `iteration_range` instead.\n",
            "[03:36:41] WARNING: src/c_api/c_api.cc:935: `ntree_limit` is deprecated, use `iteration_range` instead.\n",
            "[03:36:41] WARNING: src/c_api/c_api.cc:935: `ntree_limit` is deprecated, use `iteration_range` instead.\n",
            "[03:36:41] WARNING: src/c_api/c_api.cc:935: `ntree_limit` is deprecated, use `iteration_range` instead.\n",
            "[03:36:42] WARNING: src/c_api/c_api.cc:935: `ntree_limit` is deprecated, use `iteration_range` instead.\n",
            "[03:36:42] WARNING: src/c_api/c_api.cc:935: `ntree_limit` is deprecated, use `iteration_range` instead.\n",
            "[03:36:42] WARNING: src/c_api/c_api.cc:935: `ntree_limit` is deprecated, use `iteration_range` instead.\n",
            "[03:36:42] WARNING: src/c_api/c_api.cc:935: `ntree_limit` is deprecated, use `iteration_range` instead.\n",
            "[03:36:42] WARNING: src/c_api/c_api.cc:935: `ntree_limit` is deprecated, use `iteration_range` instead.\n",
            "[03:36:42] WARNING: src/c_api/c_api.cc:935: `ntree_limit` is deprecated, use `iteration_range` instead.\n",
            "[03:36:42] WARNING: src/c_api/c_api.cc:935: `ntree_limit` is deprecated, use `iteration_range` instead.\n",
            "[03:36:42] WARNING: src/c_api/c_api.cc:935: `ntree_limit` is deprecated, use `iteration_range` instead.\n",
            "[03:36:42] WARNING: src/c_api/c_api.cc:935: `ntree_limit` is deprecated, use `iteration_range` instead.\n",
            "[03:36:42] WARNING: src/c_api/c_api.cc:935: `ntree_limit` is deprecated, use `iteration_range` instead.\n",
            "[03:36:43] WARNING: src/c_api/c_api.cc:935: `ntree_limit` is deprecated, use `iteration_range` instead.\n",
            "[03:36:43] WARNING: src/c_api/c_api.cc:935: `ntree_limit` is deprecated, use `iteration_range` instead.\n",
            "[03:36:43] WARNING: src/c_api/c_api.cc:935: `ntree_limit` is deprecated, use `iteration_range` instead.\n",
            "[03:36:43] WARNING: src/c_api/c_api.cc:935: `ntree_limit` is deprecated, use `iteration_range` instead.\n",
            "[03:36:43] WARNING: src/c_api/c_api.cc:935: `ntree_limit` is deprecated, use `iteration_range` instead.\n",
            "[03:36:43] WARNING: src/c_api/c_api.cc:935: `ntree_limit` is deprecated, use `iteration_range` instead.\n",
            "[03:36:44] WARNING: src/c_api/c_api.cc:935: `ntree_limit` is deprecated, use `iteration_range` instead.\n",
            "[03:36:44] WARNING: src/c_api/c_api.cc:935: `ntree_limit` is deprecated, use `iteration_range` instead.\n",
            "[03:36:44] WARNING: src/c_api/c_api.cc:935: `ntree_limit` is deprecated, use `iteration_range` instead.\n",
            "[03:36:44] WARNING: src/c_api/c_api.cc:935: `ntree_limit` is deprecated, use `iteration_range` instead.\n",
            "[03:36:44] WARNING: src/c_api/c_api.cc:935: `ntree_limit` is deprecated, use `iteration_range` instead.\n",
            "[03:36:44] WARNING: src/c_api/c_api.cc:935: `ntree_limit` is deprecated, use `iteration_range` instead.\n",
            "[03:36:45] WARNING: src/c_api/c_api.cc:935: `ntree_limit` is deprecated, use `iteration_range` instead.\n",
            "[03:36:45] WARNING: src/c_api/c_api.cc:935: `ntree_limit` is deprecated, use `iteration_range` instead.\n",
            "[03:36:45] WARNING: src/c_api/c_api.cc:935: `ntree_limit` is deprecated, use `iteration_range` instead.\n",
            "[03:36:45] WARNING: src/c_api/c_api.cc:935: `ntree_limit` is deprecated, use `iteration_range` instead.\n",
            "[03:36:45] WARNING: src/c_api/c_api.cc:935: `ntree_limit` is deprecated, use `iteration_range` instead.\n",
            "[03:36:45] WARNING: src/c_api/c_api.cc:935: `ntree_limit` is deprecated, use `iteration_range` instead.\n",
            "[03:36:45] WARNING: src/c_api/c_api.cc:935: `ntree_limit` is deprecated, use `iteration_range` instead.\n",
            "[03:36:45] WARNING: src/c_api/c_api.cc:935: `ntree_limit` is deprecated, use `iteration_range` instead.\n",
            "[03:36:45] WARNING: src/c_api/c_api.cc:935: `ntree_limit` is deprecated, use `iteration_range` instead.\n",
            "[03:36:45] WARNING: src/c_api/c_api.cc:935: `ntree_limit` is deprecated, use `iteration_range` instead.\n",
            "[03:36:45] WARNING: src/c_api/c_api.cc:935: `ntree_limit` is deprecated, use `iteration_range` instead.\n",
            "[03:36:45] WARNING: src/c_api/c_api.cc:935: `ntree_limit` is deprecated, use `iteration_range` instead.\n",
            "[03:36:46] WARNING: src/c_api/c_api.cc:935: `ntree_limit` is deprecated, use `iteration_range` instead.\n",
            "[03:36:46] WARNING: src/c_api/c_api.cc:935: `ntree_limit` is deprecated, use `iteration_range` instead.\n",
            "[03:36:46] WARNING: src/c_api/c_api.cc:935: `ntree_limit` is deprecated, use `iteration_range` instead.\n",
            "[03:36:46] WARNING: src/c_api/c_api.cc:935: `ntree_limit` is deprecated, use `iteration_range` instead.\n",
            "[03:36:46] WARNING: src/c_api/c_api.cc:935: `ntree_limit` is deprecated, use `iteration_range` instead.\n",
            "[03:36:46] WARNING: src/c_api/c_api.cc:935: `ntree_limit` is deprecated, use `iteration_range` instead.\n",
            "[03:36:46] WARNING: src/c_api/c_api.cc:935: `ntree_limit` is deprecated, use `iteration_range` instead.\n",
            "[03:36:46] WARNING: src/c_api/c_api.cc:935: `ntree_limit` is deprecated, use `iteration_range` instead.\n",
            "[03:36:47] WARNING: src/c_api/c_api.cc:935: `ntree_limit` is deprecated, use `iteration_range` instead.\n",
            "[03:36:47] WARNING: src/c_api/c_api.cc:935: `ntree_limit` is deprecated, use `iteration_range` instead.\n",
            "[03:36:47] WARNING: src/c_api/c_api.cc:935: `ntree_limit` is deprecated, use `iteration_range` instead.\n",
            "[03:36:47] WARNING: src/c_api/c_api.cc:935: `ntree_limit` is deprecated, use `iteration_range` instead.\n",
            "[03:36:47] WARNING: src/c_api/c_api.cc:935: `ntree_limit` is deprecated, use `iteration_range` instead.\n",
            "[03:36:47] WARNING: src/c_api/c_api.cc:935: `ntree_limit` is deprecated, use `iteration_range` instead.\n",
            "[03:36:48] WARNING: src/c_api/c_api.cc:935: `ntree_limit` is deprecated, use `iteration_range` instead.\n",
            "[03:36:48] WARNING: src/c_api/c_api.cc:935: `ntree_limit` is deprecated, use `iteration_range` instead.\n",
            "[03:36:48] WARNING: src/c_api/c_api.cc:935: `ntree_limit` is deprecated, use `iteration_range` instead.\n",
            "[03:36:48] WARNING: src/c_api/c_api.cc:935: `ntree_limit` is deprecated, use `iteration_range` instead.\n",
            "[03:36:49] WARNING: src/c_api/c_api.cc:935: `ntree_limit` is deprecated, use `iteration_range` instead.\n",
            "[03:36:49] WARNING: src/c_api/c_api.cc:935: `ntree_limit` is deprecated, use `iteration_range` instead.\n",
            "[03:36:49] WARNING: src/c_api/c_api.cc:935: `ntree_limit` is deprecated, use `iteration_range` instead.\n",
            "[03:36:49] WARNING: src/c_api/c_api.cc:935: `ntree_limit` is deprecated, use `iteration_range` instead.\n",
            "[03:36:50] WARNING: src/c_api/c_api.cc:935: `ntree_limit` is deprecated, use `iteration_range` instead.\n",
            "[03:36:50] WARNING: src/c_api/c_api.cc:935: `ntree_limit` is deprecated, use `iteration_range` instead.\n",
            "[03:36:50] WARNING: src/c_api/c_api.cc:935: `ntree_limit` is deprecated, use `iteration_range` instead.\n",
            "[03:36:50] WARNING: src/c_api/c_api.cc:935: `ntree_limit` is deprecated, use `iteration_range` instead.\n",
            "[03:36:50] WARNING: src/c_api/c_api.cc:935: `ntree_limit` is deprecated, use `iteration_range` instead.\n",
            "[03:36:50] WARNING: src/c_api/c_api.cc:935: `ntree_limit` is deprecated, use `iteration_range` instead.\n",
            "[03:36:50] WARNING: src/c_api/c_api.cc:935: `ntree_limit` is deprecated, use `iteration_range` instead.\n",
            "[03:36:50] WARNING: src/c_api/c_api.cc:935: `ntree_limit` is deprecated, use `iteration_range` instead.\n",
            "[03:36:50] WARNING: src/c_api/c_api.cc:935: `ntree_limit` is deprecated, use `iteration_range` instead.\n",
            "[03:36:50] WARNING: src/c_api/c_api.cc:935: `ntree_limit` is deprecated, use `iteration_range` instead.\n",
            "[03:36:50] WARNING: src/c_api/c_api.cc:935: `ntree_limit` is deprecated, use `iteration_range` instead.\n",
            "[03:36:50] WARNING: src/c_api/c_api.cc:935: `ntree_limit` is deprecated, use `iteration_range` instead.\n",
            "[03:36:51] WARNING: src/c_api/c_api.cc:935: `ntree_limit` is deprecated, use `iteration_range` instead.\n",
            "[03:36:51] WARNING: src/c_api/c_api.cc:935: `ntree_limit` is deprecated, use `iteration_range` instead.\n",
            "[03:36:51] WARNING: src/c_api/c_api.cc:935: `ntree_limit` is deprecated, use `iteration_range` instead.\n",
            "[03:36:51] WARNING: src/c_api/c_api.cc:935: `ntree_limit` is deprecated, use `iteration_range` instead.\n",
            "[03:36:51] WARNING: src/c_api/c_api.cc:935: `ntree_limit` is deprecated, use `iteration_range` instead.\n",
            "[03:36:51] WARNING: src/c_api/c_api.cc:935: `ntree_limit` is deprecated, use `iteration_range` instead.\n",
            "[03:36:51] WARNING: src/c_api/c_api.cc:935: `ntree_limit` is deprecated, use `iteration_range` instead.\n",
            "[03:36:51] WARNING: src/c_api/c_api.cc:935: `ntree_limit` is deprecated, use `iteration_range` instead.\n",
            "[03:36:51] WARNING: src/c_api/c_api.cc:935: `ntree_limit` is deprecated, use `iteration_range` instead.\n",
            "[03:36:51] WARNING: src/c_api/c_api.cc:935: `ntree_limit` is deprecated, use `iteration_range` instead.\n",
            "[03:36:52] WARNING: src/c_api/c_api.cc:935: `ntree_limit` is deprecated, use `iteration_range` instead.\n",
            "[03:36:52] WARNING: src/c_api/c_api.cc:935: `ntree_limit` is deprecated, use `iteration_range` instead.\n",
            "[03:36:52] WARNING: src/c_api/c_api.cc:935: `ntree_limit` is deprecated, use `iteration_range` instead.\n",
            "[03:36:52] WARNING: src/c_api/c_api.cc:935: `ntree_limit` is deprecated, use `iteration_range` instead.\n",
            "[03:36:52] WARNING: src/c_api/c_api.cc:935: `ntree_limit` is deprecated, use `iteration_range` instead.\n",
            "[03:36:52] WARNING: src/c_api/c_api.cc:935: `ntree_limit` is deprecated, use `iteration_range` instead.\n",
            "[03:36:53] WARNING: src/c_api/c_api.cc:935: `ntree_limit` is deprecated, use `iteration_range` instead.\n",
            "[03:36:53] WARNING: src/c_api/c_api.cc:935: `ntree_limit` is deprecated, use `iteration_range` instead.\n",
            "[03:36:53] WARNING: src/c_api/c_api.cc:935: `ntree_limit` is deprecated, use `iteration_range` instead.\n",
            "[03:36:53] WARNING: src/c_api/c_api.cc:935: `ntree_limit` is deprecated, use `iteration_range` instead.\n",
            "[03:36:53] WARNING: src/c_api/c_api.cc:935: `ntree_limit` is deprecated, use `iteration_range` instead.\n",
            "[03:36:53] WARNING: src/c_api/c_api.cc:935: `ntree_limit` is deprecated, use `iteration_range` instead.\n",
            "[03:36:53] WARNING: src/c_api/c_api.cc:935: `ntree_limit` is deprecated, use `iteration_range` instead.\n",
            "[03:36:53] WARNING: src/c_api/c_api.cc:935: `ntree_limit` is deprecated, use `iteration_range` instead.\n",
            "[03:36:54] WARNING: src/c_api/c_api.cc:935: `ntree_limit` is deprecated, use `iteration_range` instead.\n",
            "[03:36:54] WARNING: src/c_api/c_api.cc:935: `ntree_limit` is deprecated, use `iteration_range` instead.\n",
            "[03:36:54] WARNING: src/c_api/c_api.cc:935: `ntree_limit` is deprecated, use `iteration_range` instead.\n",
            "[03:36:54] WARNING: src/c_api/c_api.cc:935: `ntree_limit` is deprecated, use `iteration_range` instead.\n",
            "[03:36:54] WARNING: src/c_api/c_api.cc:935: `ntree_limit` is deprecated, use `iteration_range` instead.\n",
            "[03:36:54] WARNING: src/c_api/c_api.cc:935: `ntree_limit` is deprecated, use `iteration_range` instead.\n",
            "[03:36:55] WARNING: src/c_api/c_api.cc:935: `ntree_limit` is deprecated, use `iteration_range` instead.\n",
            "[03:36:55] WARNING: src/c_api/c_api.cc:935: `ntree_limit` is deprecated, use `iteration_range` instead.\n",
            "[03:36:55] WARNING: src/c_api/c_api.cc:935: `ntree_limit` is deprecated, use `iteration_range` instead.\n",
            "[03:36:55] WARNING: src/c_api/c_api.cc:935: `ntree_limit` is deprecated, use `iteration_range` instead.\n",
            "[03:36:55] WARNING: src/c_api/c_api.cc:935: `ntree_limit` is deprecated, use `iteration_range` instead.\n",
            "[03:36:55] WARNING: src/c_api/c_api.cc:935: `ntree_limit` is deprecated, use `iteration_range` instead.\n",
            "[03:36:55] WARNING: src/c_api/c_api.cc:935: `ntree_limit` is deprecated, use `iteration_range` instead.\n",
            "[03:36:55] WARNING: src/c_api/c_api.cc:935: `ntree_limit` is deprecated, use `iteration_range` instead.\n",
            "[03:36:55] WARNING: src/c_api/c_api.cc:935: `ntree_limit` is deprecated, use `iteration_range` instead.\n",
            "[03:36:55] WARNING: src/c_api/c_api.cc:935: `ntree_limit` is deprecated, use `iteration_range` instead.\n",
            "[03:36:55] WARNING: src/c_api/c_api.cc:935: `ntree_limit` is deprecated, use `iteration_range` instead.\n",
            "[03:36:55] WARNING: src/c_api/c_api.cc:935: `ntree_limit` is deprecated, use `iteration_range` instead.\n",
            "[03:36:56] WARNING: src/c_api/c_api.cc:935: `ntree_limit` is deprecated, use `iteration_range` instead.\n",
            "[03:36:56] WARNING: src/c_api/c_api.cc:935: `ntree_limit` is deprecated, use `iteration_range` instead.\n",
            "[03:36:56] WARNING: src/c_api/c_api.cc:935: `ntree_limit` is deprecated, use `iteration_range` instead.\n",
            "[03:36:56] WARNING: src/c_api/c_api.cc:935: `ntree_limit` is deprecated, use `iteration_range` instead.\n",
            "[03:36:56] WARNING: src/c_api/c_api.cc:935: `ntree_limit` is deprecated, use `iteration_range` instead.\n",
            "[03:36:56] WARNING: src/c_api/c_api.cc:935: `ntree_limit` is deprecated, use `iteration_range` instead.\n",
            "[03:36:56] WARNING: src/c_api/c_api.cc:935: `ntree_limit` is deprecated, use `iteration_range` instead.\n",
            "[03:36:56] WARNING: src/c_api/c_api.cc:935: `ntree_limit` is deprecated, use `iteration_range` instead.\n",
            "[03:36:57] WARNING: src/c_api/c_api.cc:935: `ntree_limit` is deprecated, use `iteration_range` instead.\n",
            "[03:36:57] WARNING: src/c_api/c_api.cc:935: `ntree_limit` is deprecated, use `iteration_range` instead.\n",
            "[03:36:57] WARNING: src/c_api/c_api.cc:935: `ntree_limit` is deprecated, use `iteration_range` instead.\n",
            "[03:36:57] WARNING: src/c_api/c_api.cc:935: `ntree_limit` is deprecated, use `iteration_range` instead.\n",
            "[03:36:57] WARNING: src/c_api/c_api.cc:935: `ntree_limit` is deprecated, use `iteration_range` instead.\n",
            "[03:36:57] WARNING: src/c_api/c_api.cc:935: `ntree_limit` is deprecated, use `iteration_range` instead.\n",
            "[03:36:57] WARNING: src/c_api/c_api.cc:935: `ntree_limit` is deprecated, use `iteration_range` instead.\n",
            "[03:36:57] WARNING: src/c_api/c_api.cc:935: `ntree_limit` is deprecated, use `iteration_range` instead.\n",
            "[03:36:58] WARNING: src/c_api/c_api.cc:935: `ntree_limit` is deprecated, use `iteration_range` instead.\n",
            "[03:36:58] WARNING: src/c_api/c_api.cc:935: `ntree_limit` is deprecated, use `iteration_range` instead.\n",
            "[03:36:59] WARNING: src/c_api/c_api.cc:935: `ntree_limit` is deprecated, use `iteration_range` instead.\n",
            "[03:36:59] WARNING: src/c_api/c_api.cc:935: `ntree_limit` is deprecated, use `iteration_range` instead.\n",
            "[03:36:59] WARNING: src/c_api/c_api.cc:935: `ntree_limit` is deprecated, use `iteration_range` instead.\n",
            "[03:36:59] WARNING: src/c_api/c_api.cc:935: `ntree_limit` is deprecated, use `iteration_range` instead.\n",
            "[03:37:00] WARNING: src/c_api/c_api.cc:935: `ntree_limit` is deprecated, use `iteration_range` instead.\n",
            "[03:37:00] WARNING: src/c_api/c_api.cc:935: `ntree_limit` is deprecated, use `iteration_range` instead.\n",
            "[03:37:00] WARNING: src/c_api/c_api.cc:935: `ntree_limit` is deprecated, use `iteration_range` instead.\n",
            "[03:37:00] WARNING: src/c_api/c_api.cc:935: `ntree_limit` is deprecated, use `iteration_range` instead.\n",
            "[03:37:00] WARNING: src/c_api/c_api.cc:935: `ntree_limit` is deprecated, use `iteration_range` instead.\n",
            "[03:37:00] WARNING: src/c_api/c_api.cc:935: `ntree_limit` is deprecated, use `iteration_range` instead.\n",
            "[03:37:00] WARNING: src/c_api/c_api.cc:935: `ntree_limit` is deprecated, use `iteration_range` instead.\n",
            "[03:37:00] WARNING: src/c_api/c_api.cc:935: `ntree_limit` is deprecated, use `iteration_range` instead.\n",
            "[03:37:00] WARNING: src/c_api/c_api.cc:935: `ntree_limit` is deprecated, use `iteration_range` instead.\n",
            "[03:37:00] WARNING: src/c_api/c_api.cc:935: `ntree_limit` is deprecated, use `iteration_range` instead.\n",
            "[03:37:00] WARNING: src/c_api/c_api.cc:935: `ntree_limit` is deprecated, use `iteration_range` instead.\n",
            "[03:37:00] WARNING: src/c_api/c_api.cc:935: `ntree_limit` is deprecated, use `iteration_range` instead.\n",
            "[03:37:01] WARNING: src/c_api/c_api.cc:935: `ntree_limit` is deprecated, use `iteration_range` instead.\n",
            "[03:37:01] WARNING: src/c_api/c_api.cc:935: `ntree_limit` is deprecated, use `iteration_range` instead.\n",
            "[03:37:01] WARNING: src/c_api/c_api.cc:935: `ntree_limit` is deprecated, use `iteration_range` instead.\n",
            "[03:37:01] WARNING: src/c_api/c_api.cc:935: `ntree_limit` is deprecated, use `iteration_range` instead.\n",
            "[03:37:01] WARNING: src/c_api/c_api.cc:935: `ntree_limit` is deprecated, use `iteration_range` instead.\n",
            "[03:37:01] WARNING: src/c_api/c_api.cc:935: `ntree_limit` is deprecated, use `iteration_range` instead.\n",
            "[03:37:01] WARNING: src/c_api/c_api.cc:935: `ntree_limit` is deprecated, use `iteration_range` instead.\n",
            "[03:37:01] WARNING: src/c_api/c_api.cc:935: `ntree_limit` is deprecated, use `iteration_range` instead.\n",
            "[03:37:01] WARNING: src/c_api/c_api.cc:935: `ntree_limit` is deprecated, use `iteration_range` instead.\n",
            "[03:37:01] WARNING: src/c_api/c_api.cc:935: `ntree_limit` is deprecated, use `iteration_range` instead.\n",
            "[03:37:02] WARNING: src/c_api/c_api.cc:935: `ntree_limit` is deprecated, use `iteration_range` instead.\n",
            "[03:37:02] WARNING: src/c_api/c_api.cc:935: `ntree_limit` is deprecated, use `iteration_range` instead.\n",
            "[03:37:02] WARNING: src/c_api/c_api.cc:935: `ntree_limit` is deprecated, use `iteration_range` instead.\n",
            "[03:37:02] WARNING: src/c_api/c_api.cc:935: `ntree_limit` is deprecated, use `iteration_range` instead.\n",
            "[03:37:02] WARNING: src/c_api/c_api.cc:935: `ntree_limit` is deprecated, use `iteration_range` instead.\n",
            "[03:37:02] WARNING: src/c_api/c_api.cc:935: `ntree_limit` is deprecated, use `iteration_range` instead.\n",
            "[03:37:03] WARNING: src/c_api/c_api.cc:935: `ntree_limit` is deprecated, use `iteration_range` instead.\n",
            "[03:37:03] WARNING: src/c_api/c_api.cc:935: `ntree_limit` is deprecated, use `iteration_range` instead.\n",
            "[03:37:03] WARNING: src/c_api/c_api.cc:935: `ntree_limit` is deprecated, use `iteration_range` instead.\n",
            "[03:37:03] WARNING: src/c_api/c_api.cc:935: `ntree_limit` is deprecated, use `iteration_range` instead.\n",
            "[03:37:03] WARNING: src/c_api/c_api.cc:935: `ntree_limit` is deprecated, use `iteration_range` instead.\n",
            "[03:37:03] WARNING: src/c_api/c_api.cc:935: `ntree_limit` is deprecated, use `iteration_range` instead.\n",
            "[03:37:04] WARNING: src/c_api/c_api.cc:935: `ntree_limit` is deprecated, use `iteration_range` instead.\n",
            "[03:37:04] WARNING: src/c_api/c_api.cc:935: `ntree_limit` is deprecated, use `iteration_range` instead.\n",
            "[03:37:04] WARNING: src/c_api/c_api.cc:935: `ntree_limit` is deprecated, use `iteration_range` instead.\n",
            "[03:37:04] WARNING: src/c_api/c_api.cc:935: `ntree_limit` is deprecated, use `iteration_range` instead.\n",
            "[03:37:04] WARNING: src/c_api/c_api.cc:935: `ntree_limit` is deprecated, use `iteration_range` instead.\n",
            "[03:37:04] WARNING: src/c_api/c_api.cc:935: `ntree_limit` is deprecated, use `iteration_range` instead.\n",
            "[03:37:04] WARNING: src/c_api/c_api.cc:935: `ntree_limit` is deprecated, use `iteration_range` instead.\n",
            "[03:37:04] WARNING: src/c_api/c_api.cc:935: `ntree_limit` is deprecated, use `iteration_range` instead.\n",
            "[03:37:04] WARNING: src/c_api/c_api.cc:935: `ntree_limit` is deprecated, use `iteration_range` instead.\n",
            "[03:37:04] WARNING: src/c_api/c_api.cc:935: `ntree_limit` is deprecated, use `iteration_range` instead.\n",
            "[03:37:04] WARNING: src/c_api/c_api.cc:935: `ntree_limit` is deprecated, use `iteration_range` instead.\n",
            "[03:37:04] WARNING: src/c_api/c_api.cc:935: `ntree_limit` is deprecated, use `iteration_range` instead.\n",
            "[03:37:05] WARNING: src/c_api/c_api.cc:935: `ntree_limit` is deprecated, use `iteration_range` instead.\n",
            "[03:37:05] WARNING: src/c_api/c_api.cc:935: `ntree_limit` is deprecated, use `iteration_range` instead.\n",
            "[03:37:05] WARNING: src/c_api/c_api.cc:935: `ntree_limit` is deprecated, use `iteration_range` instead.\n",
            "[03:37:05] WARNING: src/c_api/c_api.cc:935: `ntree_limit` is deprecated, use `iteration_range` instead.\n",
            "[03:37:05] WARNING: src/c_api/c_api.cc:935: `ntree_limit` is deprecated, use `iteration_range` instead.\n",
            "[03:37:05] WARNING: src/c_api/c_api.cc:935: `ntree_limit` is deprecated, use `iteration_range` instead.\n",
            "[03:37:05] WARNING: src/c_api/c_api.cc:935: `ntree_limit` is deprecated, use `iteration_range` instead.\n",
            "[03:37:05] WARNING: src/c_api/c_api.cc:935: `ntree_limit` is deprecated, use `iteration_range` instead.\n",
            "[03:37:06] WARNING: src/c_api/c_api.cc:935: `ntree_limit` is deprecated, use `iteration_range` instead.\n",
            "[03:37:06] WARNING: src/c_api/c_api.cc:935: `ntree_limit` is deprecated, use `iteration_range` instead.\n",
            "[03:37:06] WARNING: src/c_api/c_api.cc:935: `ntree_limit` is deprecated, use `iteration_range` instead.\n",
            "[03:37:06] WARNING: src/c_api/c_api.cc:935: `ntree_limit` is deprecated, use `iteration_range` instead.\n",
            "[03:37:06] WARNING: src/c_api/c_api.cc:935: `ntree_limit` is deprecated, use `iteration_range` instead.\n",
            "[03:37:06] WARNING: src/c_api/c_api.cc:935: `ntree_limit` is deprecated, use `iteration_range` instead.\n",
            "[03:37:06] WARNING: src/c_api/c_api.cc:935: `ntree_limit` is deprecated, use `iteration_range` instead.\n",
            "[03:37:06] WARNING: src/c_api/c_api.cc:935: `ntree_limit` is deprecated, use `iteration_range` instead.\n",
            "[03:37:07] WARNING: src/c_api/c_api.cc:935: `ntree_limit` is deprecated, use `iteration_range` instead.\n",
            "[03:37:07] WARNING: src/c_api/c_api.cc:935: `ntree_limit` is deprecated, use `iteration_range` instead.\n",
            "[03:37:07] WARNING: src/c_api/c_api.cc:935: `ntree_limit` is deprecated, use `iteration_range` instead.\n",
            "[03:37:07] WARNING: src/c_api/c_api.cc:935: `ntree_limit` is deprecated, use `iteration_range` instead.\n",
            "[03:37:08] WARNING: src/c_api/c_api.cc:935: `ntree_limit` is deprecated, use `iteration_range` instead.\n",
            "[03:37:08] WARNING: src/c_api/c_api.cc:935: `ntree_limit` is deprecated, use `iteration_range` instead.\n",
            "[03:37:08] WARNING: src/c_api/c_api.cc:935: `ntree_limit` is deprecated, use `iteration_range` instead.\n",
            "[03:37:08] WARNING: src/c_api/c_api.cc:935: `ntree_limit` is deprecated, use `iteration_range` instead.\n",
            "[03:37:08] WARNING: src/c_api/c_api.cc:935: `ntree_limit` is deprecated, use `iteration_range` instead.\n",
            "[03:37:08] WARNING: src/c_api/c_api.cc:935: `ntree_limit` is deprecated, use `iteration_range` instead.\n"
          ]
        }
      ],
      "source": [
        "model <- train(CoronaryHeartDisease ~ ., data = train_data, method = \"xgbTree\", trControl = ctrl, metric = \"Accuracy\")"
      ]
    },
    {
      "cell_type": "code",
      "execution_count": null,
      "metadata": {
        "colab": {
          "base_uri": "https://localhost:8080/",
          "height": 485
        },
        "id": "Kd2aaZsfieNS",
        "outputId": "8daf6ecb-c5c4-4e2d-afde-0ce6d17c4c71",
        "vscode": {
          "languageId": "r"
        }
      },
      "outputs": [
        {
          "data": {
            "text/plain": [
              "Confusion Matrix and Statistics\n",
              "\n",
              "          Reference\n",
              "Prediction   0   1\n",
              "         0 279  65\n",
              "         1  98 312\n",
              "                                          \n",
              "               Accuracy : 0.7838          \n",
              "                 95% CI : (0.7527, 0.8127)\n",
              "    No Information Rate : 0.5             \n",
              "    P-Value [Acc > NIR] : <2e-16          \n",
              "                                          \n",
              "                  Kappa : 0.5676          \n",
              "                                          \n",
              " Mcnemar's Test P-Value : 0.0122          \n",
              "                                          \n",
              "            Sensitivity : 0.7401          \n",
              "            Specificity : 0.8276          \n",
              "         Pos Pred Value : 0.8110          \n",
              "         Neg Pred Value : 0.7610          \n",
              "             Prevalence : 0.5000          \n",
              "         Detection Rate : 0.3700          \n",
              "   Detection Prevalence : 0.4562          \n",
              "      Balanced Accuracy : 0.7838          \n",
              "                                          \n",
              "       'Positive' Class : 0               \n",
              "                                          "
            ]
          },
          "metadata": {},
          "output_type": "display_data"
        }
      ],
      "source": [
        "predictions <- predict(model, newdata = test_data)\n",
        "conf_matrix <- confusionMatrix(predictions, test_data$CoronaryHeartDisease)\n",
        "conf_matrix"
      ]
    },
    {
      "cell_type": "markdown",
      "metadata": {
        "id": "CchEOfspinkR"
      },
      "source": [
        "### SVM"
      ]
    },
    {
      "cell_type": "code",
      "execution_count": 7,
      "metadata": {
        "id": "rT6bCTYFij3N",
        "vscode": {
          "languageId": "r"
        }
      },
      "outputs": [],
      "source": [
        "model <- train(CoronaryHeartDisease ~ ., data = train_data, method = \"svmRadial\", trControl = ctrl, metric = \"Accuracy\")"
      ]
    },
    {
      "cell_type": "code",
      "execution_count": 8,
      "metadata": {
        "colab": {
          "base_uri": "https://localhost:8080/",
          "height": 485
        },
        "id": "rLNzxPx-iuNV",
        "outputId": "043edf6f-8b30-459e-d095-5298b170f6d2",
        "vscode": {
          "languageId": "r"
        }
      },
      "outputs": [
        {
          "data": {
            "text/plain": [
              "Confusion Matrix and Statistics\n",
              "\n",
              "          Reference\n",
              "Prediction   0   1\n",
              "         0 263  65\n",
              "         1 114 312\n",
              "                                          \n",
              "               Accuracy : 0.7626          \n",
              "                 95% CI : (0.7306, 0.7926)\n",
              "    No Information Rate : 0.5             \n",
              "    P-Value [Acc > NIR] : < 2.2e-16       \n",
              "                                          \n",
              "                  Kappa : 0.5252          \n",
              "                                          \n",
              " Mcnemar's Test P-Value : 0.0003336       \n",
              "                                          \n",
              "            Sensitivity : 0.6976          \n",
              "            Specificity : 0.8276          \n",
              "         Pos Pred Value : 0.8018          \n",
              "         Neg Pred Value : 0.7324          \n",
              "             Prevalence : 0.5000          \n",
              "         Detection Rate : 0.3488          \n",
              "   Detection Prevalence : 0.4350          \n",
              "      Balanced Accuracy : 0.7626          \n",
              "                                          \n",
              "       'Positive' Class : 0               \n",
              "                                          "
            ]
          },
          "metadata": {},
          "output_type": "display_data"
        }
      ],
      "source": [
        "predictions <- predict(model, newdata = test_data)\n",
        "conf_matrix <- confusionMatrix(predictions, test_data$CoronaryHeartDisease)\n",
        "conf_matrix"
      ]
    },
    {
      "cell_type": "code",
      "execution_count": 10,
      "metadata": {
        "vscode": {
          "languageId": "r"
        }
      },
      "outputs": [],
      "source": [
        "file_path <- \"model.rds\"\n",
        "saveRDS(model, file=file_path)\n"
      ]
    },
    {
      "cell_type": "markdown",
      "metadata": {
        "id": "jwBryJu1i1h3"
      },
      "source": [
        "### Random Forest"
      ]
    },
    {
      "cell_type": "code",
      "execution_count": 11,
      "metadata": {
        "id": "S3kF1YVLi4Vi",
        "vscode": {
          "languageId": "r"
        }
      },
      "outputs": [
        {
          "ename": "",
          "evalue": "",
          "output_type": "error",
          "traceback": [
            "\u001b[1;31mThe Kernel crashed while executing code in the current cell or a previous cell. \n",
            "\u001b[1;31mPlease review the code in the cell(s) to identify a possible cause of the failure. \n",
            "\u001b[1;31mClick <a href='https://aka.ms/vscodeJupyterKernelCrash'>here</a> for more info. \n",
            "\u001b[1;31mView Jupyter <a href='command:jupyter.viewOutput'>log</a> for further details."
          ]
        }
      ],
      "source": [
        "model <- train(CoronaryHeartDisease ~ ., data = train_data, method = \"rf\", trControl = ctrl, metric = \"Accuracy\")"
      ]
    },
    {
      "cell_type": "code",
      "execution_count": null,
      "metadata": {
        "colab": {
          "base_uri": "https://localhost:8080/",
          "height": 485
        },
        "id": "s20YCFmJjq7j",
        "outputId": "b3c1c9ed-2a13-497c-9ae4-f91187a40b3b",
        "vscode": {
          "languageId": "r"
        }
      },
      "outputs": [
        {
          "data": {
            "text/plain": [
              "Confusion Matrix and Statistics\n",
              "\n",
              "          Reference\n",
              "Prediction   0   1\n",
              "         0 262  56\n",
              "         1 115 321\n",
              "                                          \n",
              "               Accuracy : 0.7732          \n",
              "                 95% CI : (0.7416, 0.8026)\n",
              "    No Information Rate : 0.5             \n",
              "    P-Value [Acc > NIR] : < 2.2e-16       \n",
              "                                          \n",
              "                  Kappa : 0.5464          \n",
              "                                          \n",
              " Mcnemar's Test P-Value : 9.191e-06       \n",
              "                                          \n",
              "            Sensitivity : 0.6950          \n",
              "            Specificity : 0.8515          \n",
              "         Pos Pred Value : 0.8239          \n",
              "         Neg Pred Value : 0.7362          \n",
              "             Prevalence : 0.5000          \n",
              "         Detection Rate : 0.3475          \n",
              "   Detection Prevalence : 0.4218          \n",
              "      Balanced Accuracy : 0.7732          \n",
              "                                          \n",
              "       'Positive' Class : 0               \n",
              "                                          "
            ]
          },
          "metadata": {},
          "output_type": "display_data"
        }
      ],
      "source": [
        "predictions <- predict(model, newdata = test_data)\n",
        "conf_matrix <- confusionMatrix(predictions, test_data$CoronaryHeartDisease)\n",
        "conf_matrix"
      ]
    },
    {
      "cell_type": "markdown",
      "metadata": {
        "id": "sXw8UdvTkPSr"
      },
      "source": [
        "### KNN"
      ]
    },
    {
      "cell_type": "code",
      "execution_count": null,
      "metadata": {
        "id": "Lm8rdL0lkRJa",
        "vscode": {
          "languageId": "r"
        }
      },
      "outputs": [],
      "source": [
        "model <- train(CoronaryHeartDisease ~ ., data = train_data, method = \"knn\", trControl = ctrl, metric = \"Accuracy\")"
      ]
    },
    {
      "cell_type": "code",
      "execution_count": null,
      "metadata": {
        "colab": {
          "base_uri": "https://localhost:8080/",
          "height": 485
        },
        "id": "PMEbnqwHkVRW",
        "outputId": "71e409b8-60cc-4402-a3a2-4a19862f1df0",
        "vscode": {
          "languageId": "r"
        }
      },
      "outputs": [
        {
          "data": {
            "text/plain": [
              "Confusion Matrix and Statistics\n",
              "\n",
              "          Reference\n",
              "Prediction   0   1\n",
              "         0 211 176\n",
              "         1 166 201\n",
              "                                          \n",
              "               Accuracy : 0.5464          \n",
              "                 95% CI : (0.5101, 0.5824)\n",
              "    No Information Rate : 0.5             \n",
              "    P-Value [Acc > NIR] : 0.005963        \n",
              "                                          \n",
              "                  Kappa : 0.0928          \n",
              "                                          \n",
              " Mcnemar's Test P-Value : 0.626496        \n",
              "                                          \n",
              "            Sensitivity : 0.5597          \n",
              "            Specificity : 0.5332          \n",
              "         Pos Pred Value : 0.5452          \n",
              "         Neg Pred Value : 0.5477          \n",
              "             Prevalence : 0.5000          \n",
              "         Detection Rate : 0.2798          \n",
              "   Detection Prevalence : 0.5133          \n",
              "      Balanced Accuracy : 0.5464          \n",
              "                                          \n",
              "       'Positive' Class : 0               \n",
              "                                          "
            ]
          },
          "metadata": {},
          "output_type": "display_data"
        }
      ],
      "source": [
        "predictions <- predict(model, newdata = test_data)\n",
        "conf_matrix <- confusionMatrix(predictions, test_data$CoronaryHeartDisease)\n",
        "conf_matrix"
      ]
    },
    {
      "cell_type": "markdown",
      "metadata": {
        "id": "rt3KjIaGkcxD"
      },
      "source": [
        "## Feature Selection (Mean Decrease Gini Impurity)"
      ]
    },
    {
      "cell_type": "code",
      "execution_count": 11,
      "metadata": {
        "id": "kXwe41UTkfDx",
        "vscode": {
          "languageId": "r"
        }
      },
      "outputs": [],
      "source": [
        "rf_model <- randomForest(CoronaryHeartDisease ~ ., data = train_data, ntree = 100, mtry = 2)"
      ]
    },
    {
      "cell_type": "code",
      "execution_count": 13,
      "metadata": {
        "id": "L4n_GSr2kqe2",
        "vscode": {
          "languageId": "r"
        }
      },
      "outputs": [
        {
          "data": {
            "text/html": [
              "<table class=\"dataframe\">\n",
              "<caption>A data.frame: 2262 × 13</caption>\n",
              "<thead>\n",
              "\t<tr><th></th><th scope=col>CoronaryHeartDisease</th><th scope=col>Age</th><th scope=col>Systolic</th><th scope=col>Lymphocyte</th><th scope=col>Monocyte</th><th scope=col>Platelet.count</th><th scope=col>Red.Cell.Distribution.Width</th><th scope=col>Cholesterol</th><th scope=col>Creatinine</th><th scope=col>Glucose</th><th scope=col>LDH</th><th scope=col>Total.Cholesterol</th><th scope=col>Glycohemoglobin</th></tr>\n",
              "\t<tr><th></th><th scope=col>&lt;fct&gt;</th><th scope=col>&lt;int&gt;</th><th scope=col>&lt;int&gt;</th><th scope=col>&lt;dbl&gt;</th><th scope=col>&lt;dbl&gt;</th><th scope=col>&lt;dbl&gt;</th><th scope=col>&lt;dbl&gt;</th><th scope=col>&lt;dbl&gt;</th><th scope=col>&lt;dbl&gt;</th><th scope=col>&lt;dbl&gt;</th><th scope=col>&lt;int&gt;</th><th scope=col>&lt;dbl&gt;</th><th scope=col>&lt;dbl&gt;</th></tr>\n",
              "</thead>\n",
              "<tbody>\n",
              "\t<tr><th scope=row>21535</th><td>1</td><td>79</td><td>110</td><td>69.9</td><td> 3.3</td><td>137</td><td>14.0</td><td>2.405</td><td> 90.17</td><td> 7.110</td><td>172</td><td>2.56</td><td> 5.5</td></tr>\n",
              "\t<tr><th scope=row>4518</th><td>1</td><td>52</td><td>104</td><td>32.8</td><td>12.3</td><td>190</td><td>12.0</td><td>3.900</td><td> 97.24</td><td> 5.384</td><td> 88</td><td>3.93</td><td> 5.5</td></tr>\n",
              "\t<tr><th scope=row>8204</th><td>0</td><td>64</td><td>124</td><td>29.4</td><td> 8.5</td><td>228</td><td>12.3</td><td>5.431</td><td> 70.72</td><td> 4.660</td><td>136</td><td>4.99</td><td> 4.7</td></tr>\n",
              "\t<tr><th scope=row>1853</th><td>0</td><td>65</td><td>199</td><td>24.3</td><td> 5.8</td><td>267</td><td>12.6</td><td>5.250</td><td>132.60</td><td>10.991</td><td>155</td><td>5.20</td><td> 8.5</td></tr>\n",
              "\t<tr><th scope=row>30521</th><td>1</td><td>73</td><td>130</td><td>30.0</td><td> 7.5</td><td>217</td><td>13.1</td><td>5.043</td><td> 69.84</td><td> 4.880</td><td>102</td><td>4.16</td><td>10.1</td></tr>\n",
              "\t<tr><th scope=row>22929</th><td>1</td><td>78</td><td>124</td><td>20.8</td><td> 6.9</td><td>174</td><td>12.9</td><td>4.551</td><td> 91.94</td><td> 5.000</td><td>128</td><td>4.60</td><td> 5.6</td></tr>\n",
              "\t<tr><th scope=row>7090</th><td>0</td><td>73</td><td>117</td><td>36.8</td><td>15.5</td><td>342</td><td>30.5</td><td>4.160</td><td> 88.40</td><td> 5.773</td><td>129</td><td>3.98</td><td> 4.9</td></tr>\n",
              "\t<tr><th scope=row>29067</th><td>0</td><td>32</td><td>120</td><td>21.7</td><td> 8.2</td><td>252</td><td>12.5</td><td>4.655</td><td> 79.56</td><td> 4.940</td><td>110</td><td>4.78</td><td> 5.0</td></tr>\n",
              "\t<tr><th scope=row>29278</th><td>0</td><td>34</td><td>102</td><td>31.3</td><td> 5.6</td><td>160</td><td>11.9</td><td>6.491</td><td> 51.27</td><td> 4.720</td><td> 91</td><td>6.36</td><td> 4.9</td></tr>\n",
              "\t<tr><th scope=row>21504</th><td>1</td><td>64</td><td>116</td><td>29.0</td><td> 9.5</td><td>209</td><td>12.7</td><td>3.620</td><td> 84.86</td><td> 7.880</td><td>125</td><td>3.78</td><td> 5.6</td></tr>\n",
              "\t<tr><th scope=row>30612</th><td>1</td><td>80</td><td>140</td><td>19.3</td><td>15.6</td><td>238</td><td>12.3</td><td>3.750</td><td>117.57</td><td> 6.940</td><td>145</td><td>3.88</td><td> 6.0</td></tr>\n",
              "\t<tr><th scope=row>34509</th><td>1</td><td>52</td><td>122</td><td>38.0</td><td>10.2</td><td>239</td><td>12.9</td><td>3.724</td><td> 68.07</td><td> 4.830</td><td>133</td><td>3.57</td><td> 5.2</td></tr>\n",
              "\t<tr><th scope=row>27412</th><td>0</td><td>51</td><td>144</td><td>30.3</td><td> 6.0</td><td>191</td><td>12.2</td><td>7.137</td><td> 33.59</td><td>10.880</td><td>112</td><td>6.83</td><td>11.1</td></tr>\n",
              "\t<tr><th scope=row>34258</th><td>0</td><td>29</td><td>126</td><td>30.2</td><td> 5.4</td><td>223</td><td>14.7</td><td>4.319</td><td> 84.86</td><td> 5.270</td><td>132</td><td>4.14</td><td> 5.5</td></tr>\n",
              "\t<tr><th scope=row>24436</th><td>0</td><td>61</td><td>120</td><td>27.6</td><td> 9.1</td><td>241</td><td>13.9</td><td>5.120</td><td> 51.27</td><td> 4.610</td><td>161</td><td>5.22</td><td> 5.4</td></tr>\n",
              "\t<tr><th scope=row>34519</th><td>1</td><td>37</td><td>124</td><td>44.0</td><td> 7.5</td><td>249</td><td>13.4</td><td>4.060</td><td> 76.91</td><td> 4.500</td><td>131</td><td>3.98</td><td> 5.5</td></tr>\n",
              "\t<tr><th scope=row>8350</th><td>1</td><td>59</td><td>115</td><td>23.8</td><td> 6.1</td><td>322</td><td>12.5</td><td>6.258</td><td> 61.88</td><td> 7.270</td><td> 89</td><td>6.39</td><td> 7.1</td></tr>\n",
              "\t<tr><th scope=row>31096</th><td>0</td><td>35</td><td>114</td><td>31.3</td><td> 5.1</td><td>198</td><td>12.5</td><td>5.637</td><td> 80.44</td><td> 5.550</td><td>129</td><td>5.77</td><td> 5.1</td></tr>\n",
              "\t<tr><th scope=row>13366</th><td>1</td><td>77</td><td>138</td><td>24.8</td><td> 7.6</td><td>186</td><td>14.9</td><td>3.569</td><td>114.92</td><td> 7.880</td><td>211</td><td>3.52</td><td> 6.6</td></tr>\n",
              "\t<tr><th scope=row>217</th><td>0</td><td>62</td><td>131</td><td>48.8</td><td> 7.3</td><td>220</td><td>12.6</td><td>3.930</td><td> 44.20</td><td> 4.385</td><td>168</td><td>4.01</td><td> 7.3</td></tr>\n",
              "\t<tr><th scope=row>2738</th><td>1</td><td>65</td><td>135</td><td>35.0</td><td> 9.1</td><td>313</td><td>12.3</td><td>7.370</td><td> 44.20</td><td> 5.662</td><td>180</td><td>7.68</td><td> 5.3</td></tr>\n",
              "\t<tr><th scope=row>35178</th><td>0</td><td>30</td><td>116</td><td>29.3</td><td>10.5</td><td>276</td><td>13.1</td><td>3.543</td><td> 72.49</td><td> 5.270</td><td>119</td><td>3.49</td><td> 5.5</td></tr>\n",
              "\t<tr><th scope=row>4992</th><td>1</td><td>80</td><td>159</td><td>20.1</td><td> 7.1</td><td>292</td><td>13.6</td><td>5.950</td><td> 97.24</td><td> 6.495</td><td>110</td><td>6.15</td><td> 6.4</td></tr>\n",
              "\t<tr><th scope=row>32929</th><td>1</td><td>60</td><td>114</td><td>36.0</td><td> 8.9</td><td>162</td><td>13.6</td><td>4.655</td><td> 69.84</td><td> 5.830</td><td>113</td><td>4.81</td><td> 5.2</td></tr>\n",
              "\t<tr><th scope=row>20123</th><td>0</td><td>80</td><td>122</td><td>26.9</td><td> 7.6</td><td>171</td><td>11.9</td><td>6.827</td><td> 83.98</td><td> 6.330</td><td>121</td><td>6.96</td><td> 5.7</td></tr>\n",
              "\t<tr><th scope=row>14762</th><td>1</td><td>85</td><td>138</td><td>17.7</td><td> 9.1</td><td>263</td><td>13.4</td><td>5.637</td><td>203.32</td><td> 5.770</td><td>137</td><td>5.35</td><td> 5.6</td></tr>\n",
              "\t<tr><th scope=row>13824</th><td>0</td><td>47</td><td>128</td><td>20.8</td><td>10.1</td><td>271</td><td>12.9</td><td>5.844</td><td> 79.56</td><td> 5.770</td><td>115</td><td>5.56</td><td> 5.7</td></tr>\n",
              "\t<tr><th scope=row>21953</th><td>1</td><td>74</td><td> 80</td><td>44.7</td><td> 6.8</td><td>173</td><td>13.2</td><td>4.034</td><td> 84.86</td><td> 6.050</td><td>124</td><td>4.19</td><td> 6.7</td></tr>\n",
              "\t<tr><th scope=row>35616</th><td>0</td><td>54</td><td>136</td><td>27.5</td><td> 7.2</td><td>272</td><td>14.4</td><td>4.526</td><td> 57.46</td><td> 7.720</td><td>118</td><td>4.60</td><td> 7.4</td></tr>\n",
              "\t<tr><th scope=row>19373</th><td>0</td><td>48</td><td>116</td><td>27.8</td><td> 7.6</td><td>214</td><td>12.0</td><td>5.482</td><td> 96.36</td><td> 4.830</td><td>138</td><td>5.51</td><td> 5.4</td></tr>\n",
              "\t<tr><th scope=row>⋮</th><td>⋮</td><td>⋮</td><td>⋮</td><td>⋮</td><td>⋮</td><td>⋮</td><td>⋮</td><td>⋮</td><td>⋮</td><td>⋮</td><td>⋮</td><td>⋮</td><td>⋮</td></tr>\n",
              "\t<tr><th scope=row>21599</th><td>0</td><td>42</td><td>130</td><td>29.9</td><td> 5.4</td><td>249</td><td>11.9</td><td>5.793</td><td>102.54</td><td> 4.940</td><td>134</td><td>5.69</td><td> 5.5</td></tr>\n",
              "\t<tr><th scope=row>27660</th><td>1</td><td>80</td><td>134</td><td>55.6</td><td> 4.7</td><td>131</td><td>12.7</td><td>3.827</td><td>141.44</td><td> 4.770</td><td>122</td><td>3.90</td><td> 5.9</td></tr>\n",
              "\t<tr><th scope=row>22525</th><td>1</td><td>51</td><td>128</td><td>30.1</td><td> 5.6</td><td>178</td><td>13.8</td><td>4.655</td><td> 65.42</td><td> 4.330</td><td>104</td><td>4.76</td><td> 5.4</td></tr>\n",
              "\t<tr><th scope=row>8569</th><td>1</td><td>85</td><td>156</td><td>16.8</td><td> 5.0</td><td>223</td><td>13.3</td><td>5.146</td><td>150.28</td><td> 7.050</td><td>179</td><td>5.15</td><td> 6.0</td></tr>\n",
              "\t<tr><th scope=row>36737</th><td>0</td><td>73</td><td>146</td><td>18.3</td><td> 8.1</td><td>270</td><td>14.1</td><td>5.482</td><td> 47.74</td><td> 4.390</td><td>160</td><td>5.43</td><td> 5.6</td></tr>\n",
              "\t<tr><th scope=row>22142</th><td>1</td><td>40</td><td>140</td><td>34.0</td><td> 5.0</td><td>232</td><td>13.4</td><td>6.000</td><td> 86.63</td><td> 5.550</td><td>161</td><td>6.03</td><td> 6.3</td></tr>\n",
              "\t<tr><th scope=row>36412</th><td>0</td><td>31</td><td>112</td><td>37.8</td><td> 9.4</td><td>219</td><td>13.4</td><td>3.362</td><td> 91.05</td><td> 4.500</td><td>120</td><td>3.31</td><td> 4.5</td></tr>\n",
              "\t<tr><th scope=row>24992</th><td>0</td><td>69</td><td>156</td><td>43.4</td><td> 6.6</td><td>158</td><td>12.4</td><td>3.853</td><td> 90.17</td><td> 7.550</td><td>142</td><td>3.93</td><td> 7.0</td></tr>\n",
              "\t<tr><th scope=row>29214</th><td>1</td><td>73</td><td>154</td><td>31.0</td><td>12.7</td><td>236</td><td>14.2</td><td>3.672</td><td>156.47</td><td> 5.720</td><td>116</td><td>3.72</td><td> 5.8</td></tr>\n",
              "\t<tr><th scope=row>35857</th><td>1</td><td>80</td><td>108</td><td>32.5</td><td>11.1</td><td>203</td><td>13.8</td><td>4.500</td><td> 89.28</td><td> 5.330</td><td>140</td><td>4.65</td><td> 6.0</td></tr>\n",
              "\t<tr><th scope=row>36108</th><td>0</td><td>62</td><td>162</td><td>29.2</td><td> 7.2</td><td>210</td><td>13.3</td><td>5.586</td><td> 56.58</td><td> 4.270</td><td> 94</td><td>5.51</td><td> 5.5</td></tr>\n",
              "\t<tr><th scope=row>25815</th><td>0</td><td>54</td><td>114</td><td>22.1</td><td> 5.0</td><td>345</td><td>15.9</td><td>4.344</td><td> 56.58</td><td> 5.550</td><td> 95</td><td>4.47</td><td> 6.6</td></tr>\n",
              "\t<tr><th scope=row>21783</th><td>0</td><td>62</td><td>110</td><td>46.3</td><td> 6.0</td><td>266</td><td>15.6</td><td>3.103</td><td> 83.98</td><td> 5.050</td><td>170</td><td>3.36</td><td> 5.9</td></tr>\n",
              "\t<tr><th scope=row>18855</th><td>0</td><td>62</td><td>116</td><td>40.3</td><td> 4.4</td><td>246</td><td>12.9</td><td>4.681</td><td> 81.33</td><td> 6.050</td><td>129</td><td>4.76</td><td> 5.8</td></tr>\n",
              "\t<tr><th scope=row>35489</th><td>1</td><td>68</td><td>124</td><td>15.4</td><td>10.5</td><td>231</td><td>13.9</td><td>3.026</td><td> 74.26</td><td> 5.940</td><td>123</td><td>3.03</td><td> 5.8</td></tr>\n",
              "\t<tr><th scope=row>23325</th><td>0</td><td>80</td><td>148</td><td>21.0</td><td> 9.1</td><td>235</td><td>12.5</td><td>3.543</td><td>105.20</td><td> 6.110</td><td>122</td><td>3.39</td><td> 5.5</td></tr>\n",
              "\t<tr><th scope=row>3081</th><td>1</td><td>54</td><td>104</td><td>29.7</td><td> 7.5</td><td>277</td><td>11.4</td><td>4.840</td><td> 44.20</td><td> 5.218</td><td>125</td><td>4.78</td><td> 5.2</td></tr>\n",
              "\t<tr><th scope=row>30676</th><td>1</td><td>72</td><td>104</td><td>34.0</td><td>10.1</td><td>193</td><td>13.4</td><td>3.931</td><td>123.76</td><td> 5.440</td><td>119</td><td>4.01</td><td> 5.6</td></tr>\n",
              "\t<tr><th scope=row>10040</th><td>1</td><td>58</td><td>159</td><td>37.0</td><td> 8.7</td><td>207</td><td>13.6</td><td>7.732</td><td>114.92</td><td>15.760</td><td>189</td><td>7.99</td><td>12.9</td></tr>\n",
              "\t<tr><th scope=row>11959</th><td>0</td><td>41</td><td>116</td><td>23.5</td><td> 4.7</td><td>271</td><td>12.5</td><td>4.577</td><td> 97.24</td><td> 5.160</td><td>108</td><td>4.22</td><td> 5.0</td></tr>\n",
              "\t<tr><th scope=row>3940</th><td>0</td><td>55</td><td>118</td><td>40.9</td><td> 7.1</td><td>223</td><td>12.3</td><td>6.030</td><td> 70.72</td><td> 4.774</td><td>171</td><td>6.00</td><td> 5.9</td></tr>\n",
              "\t<tr><th scope=row>22011</th><td>1</td><td>61</td><td>116</td><td>25.3</td><td> 7.5</td><td>230</td><td>12.6</td><td>5.379</td><td> 68.95</td><td> 5.050</td><td>153</td><td>5.40</td><td> 6.1</td></tr>\n",
              "\t<tr><th scope=row>27463</th><td>1</td><td>80</td><td>134</td><td>17.0</td><td> 9.4</td><td>278</td><td>13.5</td><td>4.241</td><td> 96.36</td><td> 7.720</td><td>121</td><td>4.24</td><td> 6.3</td></tr>\n",
              "\t<tr><th scope=row>18653</th><td>1</td><td>68</td><td>176</td><td>30.4</td><td> 9.1</td><td>259</td><td>13.4</td><td>4.267</td><td> 76.02</td><td> 3.770</td><td>160</td><td>4.19</td><td> 6.5</td></tr>\n",
              "\t<tr><th scope=row>16800</th><td>1</td><td>74</td><td>154</td><td>21.1</td><td> 9.1</td><td>250</td><td>12.7</td><td>3.750</td><td> 72.49</td><td> 6.720</td><td>130</td><td>3.88</td><td> 5.7</td></tr>\n",
              "\t<tr><th scope=row>12260</th><td>1</td><td>81</td><td>128</td><td>35.3</td><td> 8.1</td><td>182</td><td>16.5</td><td>3.905</td><td>123.76</td><td> 5.160</td><td>189</td><td>4.06</td><td> 5.9</td></tr>\n",
              "\t<tr><th scope=row>5442</th><td>0</td><td>38</td><td>145</td><td>43.7</td><td> 9.5</td><td>221</td><td>12.5</td><td>3.850</td><td> 35.36</td><td> 3.941</td><td>117</td><td>3.93</td><td> 4.9</td></tr>\n",
              "\t<tr><th scope=row>26342</th><td>1</td><td>80</td><td> 98</td><td>27.8</td><td> 8.6</td><td>138</td><td>16.1</td><td>3.207</td><td> 90.17</td><td> 5.610</td><td>145</td><td>3.34</td><td> 6.1</td></tr>\n",
              "\t<tr><th scope=row>4381</th><td>1</td><td>70</td><td>110</td><td>26.0</td><td> 6.6</td><td>143</td><td>12.5</td><td>5.250</td><td> 70.72</td><td> 6.606</td><td>130</td><td>4.99</td><td> 5.8</td></tr>\n",
              "\t<tr><th scope=row>29750</th><td>0</td><td>60</td><td>126</td><td>51.8</td><td> 9.4</td><td>240</td><td>15.6</td><td>4.526</td><td>157.35</td><td> 5.770</td><td>175</td><td>4.37</td><td> 5.9</td></tr>\n",
              "</tbody>\n",
              "</table>\n"
            ],
            "text/latex": [
              "A data.frame: 2262 × 13\n",
              "\\begin{tabular}{r|lllllllllllll}\n",
              "  & CoronaryHeartDisease & Age & Systolic & Lymphocyte & Monocyte & Platelet.count & Red.Cell.Distribution.Width & Cholesterol & Creatinine & Glucose & LDH & Total.Cholesterol & Glycohemoglobin\\\\\n",
              "  & <fct> & <int> & <int> & <dbl> & <dbl> & <dbl> & <dbl> & <dbl> & <dbl> & <dbl> & <int> & <dbl> & <dbl>\\\\\n",
              "\\hline\n",
              "\t21535 & 1 & 79 & 110 & 69.9 &  3.3 & 137 & 14.0 & 2.405 &  90.17 &  7.110 & 172 & 2.56 &  5.5\\\\\n",
              "\t4518 & 1 & 52 & 104 & 32.8 & 12.3 & 190 & 12.0 & 3.900 &  97.24 &  5.384 &  88 & 3.93 &  5.5\\\\\n",
              "\t8204 & 0 & 64 & 124 & 29.4 &  8.5 & 228 & 12.3 & 5.431 &  70.72 &  4.660 & 136 & 4.99 &  4.7\\\\\n",
              "\t1853 & 0 & 65 & 199 & 24.3 &  5.8 & 267 & 12.6 & 5.250 & 132.60 & 10.991 & 155 & 5.20 &  8.5\\\\\n",
              "\t30521 & 1 & 73 & 130 & 30.0 &  7.5 & 217 & 13.1 & 5.043 &  69.84 &  4.880 & 102 & 4.16 & 10.1\\\\\n",
              "\t22929 & 1 & 78 & 124 & 20.8 &  6.9 & 174 & 12.9 & 4.551 &  91.94 &  5.000 & 128 & 4.60 &  5.6\\\\\n",
              "\t7090 & 0 & 73 & 117 & 36.8 & 15.5 & 342 & 30.5 & 4.160 &  88.40 &  5.773 & 129 & 3.98 &  4.9\\\\\n",
              "\t29067 & 0 & 32 & 120 & 21.7 &  8.2 & 252 & 12.5 & 4.655 &  79.56 &  4.940 & 110 & 4.78 &  5.0\\\\\n",
              "\t29278 & 0 & 34 & 102 & 31.3 &  5.6 & 160 & 11.9 & 6.491 &  51.27 &  4.720 &  91 & 6.36 &  4.9\\\\\n",
              "\t21504 & 1 & 64 & 116 & 29.0 &  9.5 & 209 & 12.7 & 3.620 &  84.86 &  7.880 & 125 & 3.78 &  5.6\\\\\n",
              "\t30612 & 1 & 80 & 140 & 19.3 & 15.6 & 238 & 12.3 & 3.750 & 117.57 &  6.940 & 145 & 3.88 &  6.0\\\\\n",
              "\t34509 & 1 & 52 & 122 & 38.0 & 10.2 & 239 & 12.9 & 3.724 &  68.07 &  4.830 & 133 & 3.57 &  5.2\\\\\n",
              "\t27412 & 0 & 51 & 144 & 30.3 &  6.0 & 191 & 12.2 & 7.137 &  33.59 & 10.880 & 112 & 6.83 & 11.1\\\\\n",
              "\t34258 & 0 & 29 & 126 & 30.2 &  5.4 & 223 & 14.7 & 4.319 &  84.86 &  5.270 & 132 & 4.14 &  5.5\\\\\n",
              "\t24436 & 0 & 61 & 120 & 27.6 &  9.1 & 241 & 13.9 & 5.120 &  51.27 &  4.610 & 161 & 5.22 &  5.4\\\\\n",
              "\t34519 & 1 & 37 & 124 & 44.0 &  7.5 & 249 & 13.4 & 4.060 &  76.91 &  4.500 & 131 & 3.98 &  5.5\\\\\n",
              "\t8350 & 1 & 59 & 115 & 23.8 &  6.1 & 322 & 12.5 & 6.258 &  61.88 &  7.270 &  89 & 6.39 &  7.1\\\\\n",
              "\t31096 & 0 & 35 & 114 & 31.3 &  5.1 & 198 & 12.5 & 5.637 &  80.44 &  5.550 & 129 & 5.77 &  5.1\\\\\n",
              "\t13366 & 1 & 77 & 138 & 24.8 &  7.6 & 186 & 14.9 & 3.569 & 114.92 &  7.880 & 211 & 3.52 &  6.6\\\\\n",
              "\t217 & 0 & 62 & 131 & 48.8 &  7.3 & 220 & 12.6 & 3.930 &  44.20 &  4.385 & 168 & 4.01 &  7.3\\\\\n",
              "\t2738 & 1 & 65 & 135 & 35.0 &  9.1 & 313 & 12.3 & 7.370 &  44.20 &  5.662 & 180 & 7.68 &  5.3\\\\\n",
              "\t35178 & 0 & 30 & 116 & 29.3 & 10.5 & 276 & 13.1 & 3.543 &  72.49 &  5.270 & 119 & 3.49 &  5.5\\\\\n",
              "\t4992 & 1 & 80 & 159 & 20.1 &  7.1 & 292 & 13.6 & 5.950 &  97.24 &  6.495 & 110 & 6.15 &  6.4\\\\\n",
              "\t32929 & 1 & 60 & 114 & 36.0 &  8.9 & 162 & 13.6 & 4.655 &  69.84 &  5.830 & 113 & 4.81 &  5.2\\\\\n",
              "\t20123 & 0 & 80 & 122 & 26.9 &  7.6 & 171 & 11.9 & 6.827 &  83.98 &  6.330 & 121 & 6.96 &  5.7\\\\\n",
              "\t14762 & 1 & 85 & 138 & 17.7 &  9.1 & 263 & 13.4 & 5.637 & 203.32 &  5.770 & 137 & 5.35 &  5.6\\\\\n",
              "\t13824 & 0 & 47 & 128 & 20.8 & 10.1 & 271 & 12.9 & 5.844 &  79.56 &  5.770 & 115 & 5.56 &  5.7\\\\\n",
              "\t21953 & 1 & 74 &  80 & 44.7 &  6.8 & 173 & 13.2 & 4.034 &  84.86 &  6.050 & 124 & 4.19 &  6.7\\\\\n",
              "\t35616 & 0 & 54 & 136 & 27.5 &  7.2 & 272 & 14.4 & 4.526 &  57.46 &  7.720 & 118 & 4.60 &  7.4\\\\\n",
              "\t19373 & 0 & 48 & 116 & 27.8 &  7.6 & 214 & 12.0 & 5.482 &  96.36 &  4.830 & 138 & 5.51 &  5.4\\\\\n",
              "\t⋮ & ⋮ & ⋮ & ⋮ & ⋮ & ⋮ & ⋮ & ⋮ & ⋮ & ⋮ & ⋮ & ⋮ & ⋮ & ⋮\\\\\n",
              "\t21599 & 0 & 42 & 130 & 29.9 &  5.4 & 249 & 11.9 & 5.793 & 102.54 &  4.940 & 134 & 5.69 &  5.5\\\\\n",
              "\t27660 & 1 & 80 & 134 & 55.6 &  4.7 & 131 & 12.7 & 3.827 & 141.44 &  4.770 & 122 & 3.90 &  5.9\\\\\n",
              "\t22525 & 1 & 51 & 128 & 30.1 &  5.6 & 178 & 13.8 & 4.655 &  65.42 &  4.330 & 104 & 4.76 &  5.4\\\\\n",
              "\t8569 & 1 & 85 & 156 & 16.8 &  5.0 & 223 & 13.3 & 5.146 & 150.28 &  7.050 & 179 & 5.15 &  6.0\\\\\n",
              "\t36737 & 0 & 73 & 146 & 18.3 &  8.1 & 270 & 14.1 & 5.482 &  47.74 &  4.390 & 160 & 5.43 &  5.6\\\\\n",
              "\t22142 & 1 & 40 & 140 & 34.0 &  5.0 & 232 & 13.4 & 6.000 &  86.63 &  5.550 & 161 & 6.03 &  6.3\\\\\n",
              "\t36412 & 0 & 31 & 112 & 37.8 &  9.4 & 219 & 13.4 & 3.362 &  91.05 &  4.500 & 120 & 3.31 &  4.5\\\\\n",
              "\t24992 & 0 & 69 & 156 & 43.4 &  6.6 & 158 & 12.4 & 3.853 &  90.17 &  7.550 & 142 & 3.93 &  7.0\\\\\n",
              "\t29214 & 1 & 73 & 154 & 31.0 & 12.7 & 236 & 14.2 & 3.672 & 156.47 &  5.720 & 116 & 3.72 &  5.8\\\\\n",
              "\t35857 & 1 & 80 & 108 & 32.5 & 11.1 & 203 & 13.8 & 4.500 &  89.28 &  5.330 & 140 & 4.65 &  6.0\\\\\n",
              "\t36108 & 0 & 62 & 162 & 29.2 &  7.2 & 210 & 13.3 & 5.586 &  56.58 &  4.270 &  94 & 5.51 &  5.5\\\\\n",
              "\t25815 & 0 & 54 & 114 & 22.1 &  5.0 & 345 & 15.9 & 4.344 &  56.58 &  5.550 &  95 & 4.47 &  6.6\\\\\n",
              "\t21783 & 0 & 62 & 110 & 46.3 &  6.0 & 266 & 15.6 & 3.103 &  83.98 &  5.050 & 170 & 3.36 &  5.9\\\\\n",
              "\t18855 & 0 & 62 & 116 & 40.3 &  4.4 & 246 & 12.9 & 4.681 &  81.33 &  6.050 & 129 & 4.76 &  5.8\\\\\n",
              "\t35489 & 1 & 68 & 124 & 15.4 & 10.5 & 231 & 13.9 & 3.026 &  74.26 &  5.940 & 123 & 3.03 &  5.8\\\\\n",
              "\t23325 & 0 & 80 & 148 & 21.0 &  9.1 & 235 & 12.5 & 3.543 & 105.20 &  6.110 & 122 & 3.39 &  5.5\\\\\n",
              "\t3081 & 1 & 54 & 104 & 29.7 &  7.5 & 277 & 11.4 & 4.840 &  44.20 &  5.218 & 125 & 4.78 &  5.2\\\\\n",
              "\t30676 & 1 & 72 & 104 & 34.0 & 10.1 & 193 & 13.4 & 3.931 & 123.76 &  5.440 & 119 & 4.01 &  5.6\\\\\n",
              "\t10040 & 1 & 58 & 159 & 37.0 &  8.7 & 207 & 13.6 & 7.732 & 114.92 & 15.760 & 189 & 7.99 & 12.9\\\\\n",
              "\t11959 & 0 & 41 & 116 & 23.5 &  4.7 & 271 & 12.5 & 4.577 &  97.24 &  5.160 & 108 & 4.22 &  5.0\\\\\n",
              "\t3940 & 0 & 55 & 118 & 40.9 &  7.1 & 223 & 12.3 & 6.030 &  70.72 &  4.774 & 171 & 6.00 &  5.9\\\\\n",
              "\t22011 & 1 & 61 & 116 & 25.3 &  7.5 & 230 & 12.6 & 5.379 &  68.95 &  5.050 & 153 & 5.40 &  6.1\\\\\n",
              "\t27463 & 1 & 80 & 134 & 17.0 &  9.4 & 278 & 13.5 & 4.241 &  96.36 &  7.720 & 121 & 4.24 &  6.3\\\\\n",
              "\t18653 & 1 & 68 & 176 & 30.4 &  9.1 & 259 & 13.4 & 4.267 &  76.02 &  3.770 & 160 & 4.19 &  6.5\\\\\n",
              "\t16800 & 1 & 74 & 154 & 21.1 &  9.1 & 250 & 12.7 & 3.750 &  72.49 &  6.720 & 130 & 3.88 &  5.7\\\\\n",
              "\t12260 & 1 & 81 & 128 & 35.3 &  8.1 & 182 & 16.5 & 3.905 & 123.76 &  5.160 & 189 & 4.06 &  5.9\\\\\n",
              "\t5442 & 0 & 38 & 145 & 43.7 &  9.5 & 221 & 12.5 & 3.850 &  35.36 &  3.941 & 117 & 3.93 &  4.9\\\\\n",
              "\t26342 & 1 & 80 &  98 & 27.8 &  8.6 & 138 & 16.1 & 3.207 &  90.17 &  5.610 & 145 & 3.34 &  6.1\\\\\n",
              "\t4381 & 1 & 70 & 110 & 26.0 &  6.6 & 143 & 12.5 & 5.250 &  70.72 &  6.606 & 130 & 4.99 &  5.8\\\\\n",
              "\t29750 & 0 & 60 & 126 & 51.8 &  9.4 & 240 & 15.6 & 4.526 & 157.35 &  5.770 & 175 & 4.37 &  5.9\\\\\n",
              "\\end{tabular}\n"
            ],
            "text/markdown": [
              "\n",
              "A data.frame: 2262 × 13\n",
              "\n",
              "| <!--/--> | CoronaryHeartDisease &lt;fct&gt; | Age &lt;int&gt; | Systolic &lt;int&gt; | Lymphocyte &lt;dbl&gt; | Monocyte &lt;dbl&gt; | Platelet.count &lt;dbl&gt; | Red.Cell.Distribution.Width &lt;dbl&gt; | Cholesterol &lt;dbl&gt; | Creatinine &lt;dbl&gt; | Glucose &lt;dbl&gt; | LDH &lt;int&gt; | Total.Cholesterol &lt;dbl&gt; | Glycohemoglobin &lt;dbl&gt; |\n",
              "|---|---|---|---|---|---|---|---|---|---|---|---|---|---|\n",
              "| 21535 | 1 | 79 | 110 | 69.9 |  3.3 | 137 | 14.0 | 2.405 |  90.17 |  7.110 | 172 | 2.56 |  5.5 |\n",
              "| 4518 | 1 | 52 | 104 | 32.8 | 12.3 | 190 | 12.0 | 3.900 |  97.24 |  5.384 |  88 | 3.93 |  5.5 |\n",
              "| 8204 | 0 | 64 | 124 | 29.4 |  8.5 | 228 | 12.3 | 5.431 |  70.72 |  4.660 | 136 | 4.99 |  4.7 |\n",
              "| 1853 | 0 | 65 | 199 | 24.3 |  5.8 | 267 | 12.6 | 5.250 | 132.60 | 10.991 | 155 | 5.20 |  8.5 |\n",
              "| 30521 | 1 | 73 | 130 | 30.0 |  7.5 | 217 | 13.1 | 5.043 |  69.84 |  4.880 | 102 | 4.16 | 10.1 |\n",
              "| 22929 | 1 | 78 | 124 | 20.8 |  6.9 | 174 | 12.9 | 4.551 |  91.94 |  5.000 | 128 | 4.60 |  5.6 |\n",
              "| 7090 | 0 | 73 | 117 | 36.8 | 15.5 | 342 | 30.5 | 4.160 |  88.40 |  5.773 | 129 | 3.98 |  4.9 |\n",
              "| 29067 | 0 | 32 | 120 | 21.7 |  8.2 | 252 | 12.5 | 4.655 |  79.56 |  4.940 | 110 | 4.78 |  5.0 |\n",
              "| 29278 | 0 | 34 | 102 | 31.3 |  5.6 | 160 | 11.9 | 6.491 |  51.27 |  4.720 |  91 | 6.36 |  4.9 |\n",
              "| 21504 | 1 | 64 | 116 | 29.0 |  9.5 | 209 | 12.7 | 3.620 |  84.86 |  7.880 | 125 | 3.78 |  5.6 |\n",
              "| 30612 | 1 | 80 | 140 | 19.3 | 15.6 | 238 | 12.3 | 3.750 | 117.57 |  6.940 | 145 | 3.88 |  6.0 |\n",
              "| 34509 | 1 | 52 | 122 | 38.0 | 10.2 | 239 | 12.9 | 3.724 |  68.07 |  4.830 | 133 | 3.57 |  5.2 |\n",
              "| 27412 | 0 | 51 | 144 | 30.3 |  6.0 | 191 | 12.2 | 7.137 |  33.59 | 10.880 | 112 | 6.83 | 11.1 |\n",
              "| 34258 | 0 | 29 | 126 | 30.2 |  5.4 | 223 | 14.7 | 4.319 |  84.86 |  5.270 | 132 | 4.14 |  5.5 |\n",
              "| 24436 | 0 | 61 | 120 | 27.6 |  9.1 | 241 | 13.9 | 5.120 |  51.27 |  4.610 | 161 | 5.22 |  5.4 |\n",
              "| 34519 | 1 | 37 | 124 | 44.0 |  7.5 | 249 | 13.4 | 4.060 |  76.91 |  4.500 | 131 | 3.98 |  5.5 |\n",
              "| 8350 | 1 | 59 | 115 | 23.8 |  6.1 | 322 | 12.5 | 6.258 |  61.88 |  7.270 |  89 | 6.39 |  7.1 |\n",
              "| 31096 | 0 | 35 | 114 | 31.3 |  5.1 | 198 | 12.5 | 5.637 |  80.44 |  5.550 | 129 | 5.77 |  5.1 |\n",
              "| 13366 | 1 | 77 | 138 | 24.8 |  7.6 | 186 | 14.9 | 3.569 | 114.92 |  7.880 | 211 | 3.52 |  6.6 |\n",
              "| 217 | 0 | 62 | 131 | 48.8 |  7.3 | 220 | 12.6 | 3.930 |  44.20 |  4.385 | 168 | 4.01 |  7.3 |\n",
              "| 2738 | 1 | 65 | 135 | 35.0 |  9.1 | 313 | 12.3 | 7.370 |  44.20 |  5.662 | 180 | 7.68 |  5.3 |\n",
              "| 35178 | 0 | 30 | 116 | 29.3 | 10.5 | 276 | 13.1 | 3.543 |  72.49 |  5.270 | 119 | 3.49 |  5.5 |\n",
              "| 4992 | 1 | 80 | 159 | 20.1 |  7.1 | 292 | 13.6 | 5.950 |  97.24 |  6.495 | 110 | 6.15 |  6.4 |\n",
              "| 32929 | 1 | 60 | 114 | 36.0 |  8.9 | 162 | 13.6 | 4.655 |  69.84 |  5.830 | 113 | 4.81 |  5.2 |\n",
              "| 20123 | 0 | 80 | 122 | 26.9 |  7.6 | 171 | 11.9 | 6.827 |  83.98 |  6.330 | 121 | 6.96 |  5.7 |\n",
              "| 14762 | 1 | 85 | 138 | 17.7 |  9.1 | 263 | 13.4 | 5.637 | 203.32 |  5.770 | 137 | 5.35 |  5.6 |\n",
              "| 13824 | 0 | 47 | 128 | 20.8 | 10.1 | 271 | 12.9 | 5.844 |  79.56 |  5.770 | 115 | 5.56 |  5.7 |\n",
              "| 21953 | 1 | 74 |  80 | 44.7 |  6.8 | 173 | 13.2 | 4.034 |  84.86 |  6.050 | 124 | 4.19 |  6.7 |\n",
              "| 35616 | 0 | 54 | 136 | 27.5 |  7.2 | 272 | 14.4 | 4.526 |  57.46 |  7.720 | 118 | 4.60 |  7.4 |\n",
              "| 19373 | 0 | 48 | 116 | 27.8 |  7.6 | 214 | 12.0 | 5.482 |  96.36 |  4.830 | 138 | 5.51 |  5.4 |\n",
              "| ⋮ | ⋮ | ⋮ | ⋮ | ⋮ | ⋮ | ⋮ | ⋮ | ⋮ | ⋮ | ⋮ | ⋮ | ⋮ | ⋮ |\n",
              "| 21599 | 0 | 42 | 130 | 29.9 |  5.4 | 249 | 11.9 | 5.793 | 102.54 |  4.940 | 134 | 5.69 |  5.5 |\n",
              "| 27660 | 1 | 80 | 134 | 55.6 |  4.7 | 131 | 12.7 | 3.827 | 141.44 |  4.770 | 122 | 3.90 |  5.9 |\n",
              "| 22525 | 1 | 51 | 128 | 30.1 |  5.6 | 178 | 13.8 | 4.655 |  65.42 |  4.330 | 104 | 4.76 |  5.4 |\n",
              "| 8569 | 1 | 85 | 156 | 16.8 |  5.0 | 223 | 13.3 | 5.146 | 150.28 |  7.050 | 179 | 5.15 |  6.0 |\n",
              "| 36737 | 0 | 73 | 146 | 18.3 |  8.1 | 270 | 14.1 | 5.482 |  47.74 |  4.390 | 160 | 5.43 |  5.6 |\n",
              "| 22142 | 1 | 40 | 140 | 34.0 |  5.0 | 232 | 13.4 | 6.000 |  86.63 |  5.550 | 161 | 6.03 |  6.3 |\n",
              "| 36412 | 0 | 31 | 112 | 37.8 |  9.4 | 219 | 13.4 | 3.362 |  91.05 |  4.500 | 120 | 3.31 |  4.5 |\n",
              "| 24992 | 0 | 69 | 156 | 43.4 |  6.6 | 158 | 12.4 | 3.853 |  90.17 |  7.550 | 142 | 3.93 |  7.0 |\n",
              "| 29214 | 1 | 73 | 154 | 31.0 | 12.7 | 236 | 14.2 | 3.672 | 156.47 |  5.720 | 116 | 3.72 |  5.8 |\n",
              "| 35857 | 1 | 80 | 108 | 32.5 | 11.1 | 203 | 13.8 | 4.500 |  89.28 |  5.330 | 140 | 4.65 |  6.0 |\n",
              "| 36108 | 0 | 62 | 162 | 29.2 |  7.2 | 210 | 13.3 | 5.586 |  56.58 |  4.270 |  94 | 5.51 |  5.5 |\n",
              "| 25815 | 0 | 54 | 114 | 22.1 |  5.0 | 345 | 15.9 | 4.344 |  56.58 |  5.550 |  95 | 4.47 |  6.6 |\n",
              "| 21783 | 0 | 62 | 110 | 46.3 |  6.0 | 266 | 15.6 | 3.103 |  83.98 |  5.050 | 170 | 3.36 |  5.9 |\n",
              "| 18855 | 0 | 62 | 116 | 40.3 |  4.4 | 246 | 12.9 | 4.681 |  81.33 |  6.050 | 129 | 4.76 |  5.8 |\n",
              "| 35489 | 1 | 68 | 124 | 15.4 | 10.5 | 231 | 13.9 | 3.026 |  74.26 |  5.940 | 123 | 3.03 |  5.8 |\n",
              "| 23325 | 0 | 80 | 148 | 21.0 |  9.1 | 235 | 12.5 | 3.543 | 105.20 |  6.110 | 122 | 3.39 |  5.5 |\n",
              "| 3081 | 1 | 54 | 104 | 29.7 |  7.5 | 277 | 11.4 | 4.840 |  44.20 |  5.218 | 125 | 4.78 |  5.2 |\n",
              "| 30676 | 1 | 72 | 104 | 34.0 | 10.1 | 193 | 13.4 | 3.931 | 123.76 |  5.440 | 119 | 4.01 |  5.6 |\n",
              "| 10040 | 1 | 58 | 159 | 37.0 |  8.7 | 207 | 13.6 | 7.732 | 114.92 | 15.760 | 189 | 7.99 | 12.9 |\n",
              "| 11959 | 0 | 41 | 116 | 23.5 |  4.7 | 271 | 12.5 | 4.577 |  97.24 |  5.160 | 108 | 4.22 |  5.0 |\n",
              "| 3940 | 0 | 55 | 118 | 40.9 |  7.1 | 223 | 12.3 | 6.030 |  70.72 |  4.774 | 171 | 6.00 |  5.9 |\n",
              "| 22011 | 1 | 61 | 116 | 25.3 |  7.5 | 230 | 12.6 | 5.379 |  68.95 |  5.050 | 153 | 5.40 |  6.1 |\n",
              "| 27463 | 1 | 80 | 134 | 17.0 |  9.4 | 278 | 13.5 | 4.241 |  96.36 |  7.720 | 121 | 4.24 |  6.3 |\n",
              "| 18653 | 1 | 68 | 176 | 30.4 |  9.1 | 259 | 13.4 | 4.267 |  76.02 |  3.770 | 160 | 4.19 |  6.5 |\n",
              "| 16800 | 1 | 74 | 154 | 21.1 |  9.1 | 250 | 12.7 | 3.750 |  72.49 |  6.720 | 130 | 3.88 |  5.7 |\n",
              "| 12260 | 1 | 81 | 128 | 35.3 |  8.1 | 182 | 16.5 | 3.905 | 123.76 |  5.160 | 189 | 4.06 |  5.9 |\n",
              "| 5442 | 0 | 38 | 145 | 43.7 |  9.5 | 221 | 12.5 | 3.850 |  35.36 |  3.941 | 117 | 3.93 |  4.9 |\n",
              "| 26342 | 1 | 80 |  98 | 27.8 |  8.6 | 138 | 16.1 | 3.207 |  90.17 |  5.610 | 145 | 3.34 |  6.1 |\n",
              "| 4381 | 1 | 70 | 110 | 26.0 |  6.6 | 143 | 12.5 | 5.250 |  70.72 |  6.606 | 130 | 4.99 |  5.8 |\n",
              "| 29750 | 0 | 60 | 126 | 51.8 |  9.4 | 240 | 15.6 | 4.526 | 157.35 |  5.770 | 175 | 4.37 |  5.9 |\n",
              "\n"
            ],
            "text/plain": [
              "      CoronaryHeartDisease Age Systolic Lymphocyte Monocyte Platelet.count\n",
              "21535 1                    79  110      69.9        3.3     137           \n",
              "4518  1                    52  104      32.8       12.3     190           \n",
              "8204  0                    64  124      29.4        8.5     228           \n",
              "1853  0                    65  199      24.3        5.8     267           \n",
              "30521 1                    73  130      30.0        7.5     217           \n",
              "22929 1                    78  124      20.8        6.9     174           \n",
              "7090  0                    73  117      36.8       15.5     342           \n",
              "29067 0                    32  120      21.7        8.2     252           \n",
              "29278 0                    34  102      31.3        5.6     160           \n",
              "21504 1                    64  116      29.0        9.5     209           \n",
              "30612 1                    80  140      19.3       15.6     238           \n",
              "34509 1                    52  122      38.0       10.2     239           \n",
              "27412 0                    51  144      30.3        6.0     191           \n",
              "34258 0                    29  126      30.2        5.4     223           \n",
              "24436 0                    61  120      27.6        9.1     241           \n",
              "34519 1                    37  124      44.0        7.5     249           \n",
              "8350  1                    59  115      23.8        6.1     322           \n",
              "31096 0                    35  114      31.3        5.1     198           \n",
              "13366 1                    77  138      24.8        7.6     186           \n",
              "217   0                    62  131      48.8        7.3     220           \n",
              "2738  1                    65  135      35.0        9.1     313           \n",
              "35178 0                    30  116      29.3       10.5     276           \n",
              "4992  1                    80  159      20.1        7.1     292           \n",
              "32929 1                    60  114      36.0        8.9     162           \n",
              "20123 0                    80  122      26.9        7.6     171           \n",
              "14762 1                    85  138      17.7        9.1     263           \n",
              "13824 0                    47  128      20.8       10.1     271           \n",
              "21953 1                    74   80      44.7        6.8     173           \n",
              "35616 0                    54  136      27.5        7.2     272           \n",
              "19373 0                    48  116      27.8        7.6     214           \n",
              "⋮     ⋮                    ⋮   ⋮        ⋮          ⋮        ⋮             \n",
              "21599 0                    42  130      29.9        5.4     249           \n",
              "27660 1                    80  134      55.6        4.7     131           \n",
              "22525 1                    51  128      30.1        5.6     178           \n",
              "8569  1                    85  156      16.8        5.0     223           \n",
              "36737 0                    73  146      18.3        8.1     270           \n",
              "22142 1                    40  140      34.0        5.0     232           \n",
              "36412 0                    31  112      37.8        9.4     219           \n",
              "24992 0                    69  156      43.4        6.6     158           \n",
              "29214 1                    73  154      31.0       12.7     236           \n",
              "35857 1                    80  108      32.5       11.1     203           \n",
              "36108 0                    62  162      29.2        7.2     210           \n",
              "25815 0                    54  114      22.1        5.0     345           \n",
              "21783 0                    62  110      46.3        6.0     266           \n",
              "18855 0                    62  116      40.3        4.4     246           \n",
              "35489 1                    68  124      15.4       10.5     231           \n",
              "23325 0                    80  148      21.0        9.1     235           \n",
              "3081  1                    54  104      29.7        7.5     277           \n",
              "30676 1                    72  104      34.0       10.1     193           \n",
              "10040 1                    58  159      37.0        8.7     207           \n",
              "11959 0                    41  116      23.5        4.7     271           \n",
              "3940  0                    55  118      40.9        7.1     223           \n",
              "22011 1                    61  116      25.3        7.5     230           \n",
              "27463 1                    80  134      17.0        9.4     278           \n",
              "18653 1                    68  176      30.4        9.1     259           \n",
              "16800 1                    74  154      21.1        9.1     250           \n",
              "12260 1                    81  128      35.3        8.1     182           \n",
              "5442  0                    38  145      43.7        9.5     221           \n",
              "26342 1                    80   98      27.8        8.6     138           \n",
              "4381  1                    70  110      26.0        6.6     143           \n",
              "29750 0                    60  126      51.8        9.4     240           \n",
              "      Red.Cell.Distribution.Width Cholesterol Creatinine Glucose LDH\n",
              "21535 14.0                        2.405        90.17      7.110  172\n",
              "4518  12.0                        3.900        97.24      5.384   88\n",
              "8204  12.3                        5.431        70.72      4.660  136\n",
              "1853  12.6                        5.250       132.60     10.991  155\n",
              "30521 13.1                        5.043        69.84      4.880  102\n",
              "22929 12.9                        4.551        91.94      5.000  128\n",
              "7090  30.5                        4.160        88.40      5.773  129\n",
              "29067 12.5                        4.655        79.56      4.940  110\n",
              "29278 11.9                        6.491        51.27      4.720   91\n",
              "21504 12.7                        3.620        84.86      7.880  125\n",
              "30612 12.3                        3.750       117.57      6.940  145\n",
              "34509 12.9                        3.724        68.07      4.830  133\n",
              "27412 12.2                        7.137        33.59     10.880  112\n",
              "34258 14.7                        4.319        84.86      5.270  132\n",
              "24436 13.9                        5.120        51.27      4.610  161\n",
              "34519 13.4                        4.060        76.91      4.500  131\n",
              "8350  12.5                        6.258        61.88      7.270   89\n",
              "31096 12.5                        5.637        80.44      5.550  129\n",
              "13366 14.9                        3.569       114.92      7.880  211\n",
              "217   12.6                        3.930        44.20      4.385  168\n",
              "2738  12.3                        7.370        44.20      5.662  180\n",
              "35178 13.1                        3.543        72.49      5.270  119\n",
              "4992  13.6                        5.950        97.24      6.495  110\n",
              "32929 13.6                        4.655        69.84      5.830  113\n",
              "20123 11.9                        6.827        83.98      6.330  121\n",
              "14762 13.4                        5.637       203.32      5.770  137\n",
              "13824 12.9                        5.844        79.56      5.770  115\n",
              "21953 13.2                        4.034        84.86      6.050  124\n",
              "35616 14.4                        4.526        57.46      7.720  118\n",
              "19373 12.0                        5.482        96.36      4.830  138\n",
              "⋮     ⋮                           ⋮           ⋮          ⋮       ⋮  \n",
              "21599 11.9                        5.793       102.54      4.940  134\n",
              "27660 12.7                        3.827       141.44      4.770  122\n",
              "22525 13.8                        4.655        65.42      4.330  104\n",
              "8569  13.3                        5.146       150.28      7.050  179\n",
              "36737 14.1                        5.482        47.74      4.390  160\n",
              "22142 13.4                        6.000        86.63      5.550  161\n",
              "36412 13.4                        3.362        91.05      4.500  120\n",
              "24992 12.4                        3.853        90.17      7.550  142\n",
              "29214 14.2                        3.672       156.47      5.720  116\n",
              "35857 13.8                        4.500        89.28      5.330  140\n",
              "36108 13.3                        5.586        56.58      4.270   94\n",
              "25815 15.9                        4.344        56.58      5.550   95\n",
              "21783 15.6                        3.103        83.98      5.050  170\n",
              "18855 12.9                        4.681        81.33      6.050  129\n",
              "35489 13.9                        3.026        74.26      5.940  123\n",
              "23325 12.5                        3.543       105.20      6.110  122\n",
              "3081  11.4                        4.840        44.20      5.218  125\n",
              "30676 13.4                        3.931       123.76      5.440  119\n",
              "10040 13.6                        7.732       114.92     15.760  189\n",
              "11959 12.5                        4.577        97.24      5.160  108\n",
              "3940  12.3                        6.030        70.72      4.774  171\n",
              "22011 12.6                        5.379        68.95      5.050  153\n",
              "27463 13.5                        4.241        96.36      7.720  121\n",
              "18653 13.4                        4.267        76.02      3.770  160\n",
              "16800 12.7                        3.750        72.49      6.720  130\n",
              "12260 16.5                        3.905       123.76      5.160  189\n",
              "5442  12.5                        3.850        35.36      3.941  117\n",
              "26342 16.1                        3.207        90.17      5.610  145\n",
              "4381  12.5                        5.250        70.72      6.606  130\n",
              "29750 15.6                        4.526       157.35      5.770  175\n",
              "      Total.Cholesterol Glycohemoglobin\n",
              "21535 2.56               5.5           \n",
              "4518  3.93               5.5           \n",
              "8204  4.99               4.7           \n",
              "1853  5.20               8.5           \n",
              "30521 4.16              10.1           \n",
              "22929 4.60               5.6           \n",
              "7090  3.98               4.9           \n",
              "29067 4.78               5.0           \n",
              "29278 6.36               4.9           \n",
              "21504 3.78               5.6           \n",
              "30612 3.88               6.0           \n",
              "34509 3.57               5.2           \n",
              "27412 6.83              11.1           \n",
              "34258 4.14               5.5           \n",
              "24436 5.22               5.4           \n",
              "34519 3.98               5.5           \n",
              "8350  6.39               7.1           \n",
              "31096 5.77               5.1           \n",
              "13366 3.52               6.6           \n",
              "217   4.01               7.3           \n",
              "2738  7.68               5.3           \n",
              "35178 3.49               5.5           \n",
              "4992  6.15               6.4           \n",
              "32929 4.81               5.2           \n",
              "20123 6.96               5.7           \n",
              "14762 5.35               5.6           \n",
              "13824 5.56               5.7           \n",
              "21953 4.19               6.7           \n",
              "35616 4.60               7.4           \n",
              "19373 5.51               5.4           \n",
              "⋮     ⋮                 ⋮              \n",
              "21599 5.69               5.5           \n",
              "27660 3.90               5.9           \n",
              "22525 4.76               5.4           \n",
              "8569  5.15               6.0           \n",
              "36737 5.43               5.6           \n",
              "22142 6.03               6.3           \n",
              "36412 3.31               4.5           \n",
              "24992 3.93               7.0           \n",
              "29214 3.72               5.8           \n",
              "35857 4.65               6.0           \n",
              "36108 5.51               5.5           \n",
              "25815 4.47               6.6           \n",
              "21783 3.36               5.9           \n",
              "18855 4.76               5.8           \n",
              "35489 3.03               5.8           \n",
              "23325 3.39               5.5           \n",
              "3081  4.78               5.2           \n",
              "30676 4.01               5.6           \n",
              "10040 7.99              12.9           \n",
              "11959 4.22               5.0           \n",
              "3940  6.00               5.9           \n",
              "22011 5.40               6.1           \n",
              "27463 4.24               6.3           \n",
              "18653 4.19               6.5           \n",
              "16800 3.88               5.7           \n",
              "12260 4.06               5.9           \n",
              "5442  3.93               4.9           \n",
              "26342 3.34               6.1           \n",
              "4381  4.99               5.8           \n",
              "29750 4.37               5.9           "
            ]
          },
          "metadata": {},
          "output_type": "display_data"
        }
      ],
      "source": [
        "variable_importance <- importance(rf_model)\n",
        "\n",
        "variable_importance_df <- as.data.frame(variable_importance)\n",
        "\n",
        "important_vars <- rownames(variable_importance_df[variable_importance_df$MeanDecreaseGini > 25, , drop = FALSE])\n",
        "important_vars <- important_vars[!important_vars %in% \"SEQN\"]\n",
        "\n",
        "train_data_rf <- train_data[, c(\"CoronaryHeartDisease\", important_vars)]\n",
        "test_data_rf <- test_data[, c(\"CoronaryHeartDisease\", important_vars)]\n",
        "\n",
        "train_data_rf"
      ]
    },
    {
      "cell_type": "markdown",
      "metadata": {
        "id": "GDUlw9rUnDiL"
      },
      "source": [
        "## Re-Training the models"
      ]
    },
    {
      "cell_type": "code",
      "execution_count": 14,
      "metadata": {
        "id": "Gfs9AZrpnl6P",
        "vscode": {
          "languageId": "r"
        }
      },
      "outputs": [],
      "source": [
        "train_data_rf$CoronaryHeartDisease = as.factor(train_data_rf$CoronaryHeartDisease)\n",
        "test_data_rf$CoronaryHeartDisease = as.factor(test_data_rf$CoronaryHeartDisease)"
      ]
    },
    {
      "cell_type": "markdown",
      "metadata": {
        "id": "6VZEeFV1nHw-"
      },
      "source": [
        "### Logistic Regression"
      ]
    },
    {
      "cell_type": "code",
      "execution_count": 15,
      "metadata": {
        "id": "IOttFllgl__Z",
        "vscode": {
          "languageId": "r"
        }
      },
      "outputs": [],
      "source": [
        "model <- train(CoronaryHeartDisease ~ ., data = train_data_rf, method = \"glm\", trControl = ctrl, metric = \"Accuracy\")"
      ]
    },
    {
      "cell_type": "code",
      "execution_count": 16,
      "metadata": {
        "colab": {
          "base_uri": "https://localhost:8080/",
          "height": 485
        },
        "id": "1ma6iJD-oWnJ",
        "outputId": "bc9e9e4d-f40c-47cd-c8cd-d62fe330d435",
        "vscode": {
          "languageId": "r"
        }
      },
      "outputs": [
        {
          "data": {
            "text/plain": [
              "Confusion Matrix and Statistics\n",
              "\n",
              "          Reference\n",
              "Prediction   0   1\n",
              "         0 263  76\n",
              "         1 114 301\n",
              "                                          \n",
              "               Accuracy : 0.748           \n",
              "                 95% CI : (0.7154, 0.7786)\n",
              "    No Information Rate : 0.5             \n",
              "    P-Value [Acc > NIR] : < 2.2e-16       \n",
              "                                          \n",
              "                  Kappa : 0.496           \n",
              "                                          \n",
              " Mcnemar's Test P-Value : 0.007269        \n",
              "                                          \n",
              "            Sensitivity : 0.6976          \n",
              "            Specificity : 0.7984          \n",
              "         Pos Pred Value : 0.7758          \n",
              "         Neg Pred Value : 0.7253          \n",
              "             Prevalence : 0.5000          \n",
              "         Detection Rate : 0.3488          \n",
              "   Detection Prevalence : 0.4496          \n",
              "      Balanced Accuracy : 0.7480          \n",
              "                                          \n",
              "       'Positive' Class : 0               \n",
              "                                          "
            ]
          },
          "metadata": {},
          "output_type": "display_data"
        }
      ],
      "source": [
        "predictions <- predict(model, newdata = test_data_rf)\n",
        "conf_matrix <- confusionMatrix(predictions, test_data_rf$CoronaryHeartDisease)\n",
        "conf_matrix"
      ]
    },
    {
      "cell_type": "markdown",
      "metadata": {
        "id": "FsXENj4looZb"
      },
      "source": [
        "### SVM"
      ]
    },
    {
      "cell_type": "code",
      "execution_count": 17,
      "metadata": {
        "id": "_pzZv8VLonCu",
        "vscode": {
          "languageId": "r"
        }
      },
      "outputs": [],
      "source": [
        "model <- train(CoronaryHeartDisease ~ ., data = train_data_rf, method = \"svmRadial\", trControl = ctrl, metric = \"Accuracy\")"
      ]
    },
    {
      "cell_type": "code",
      "execution_count": 18,
      "metadata": {
        "colab": {
          "base_uri": "https://localhost:8080/",
          "height": 485
        },
        "id": "Fj97AvgypQbT",
        "outputId": "2a06b5a7-7283-4cdd-cfa3-881dea20881d",
        "vscode": {
          "languageId": "r"
        }
      },
      "outputs": [
        {
          "data": {
            "text/plain": [
              "Confusion Matrix and Statistics\n",
              "\n",
              "          Reference\n",
              "Prediction   0   1\n",
              "         0 249  53\n",
              "         1 128 324\n",
              "                                        \n",
              "               Accuracy : 0.7599        \n",
              "                 95% CI : (0.7278, 0.79)\n",
              "    No Information Rate : 0.5           \n",
              "    P-Value [Acc > NIR] : < 2.2e-16     \n",
              "                                        \n",
              "                  Kappa : 0.5199        \n",
              "                                        \n",
              " Mcnemar's Test P-Value : 3.79e-08      \n",
              "                                        \n",
              "            Sensitivity : 0.6605        \n",
              "            Specificity : 0.8594        \n",
              "         Pos Pred Value : 0.8245        \n",
              "         Neg Pred Value : 0.7168        \n",
              "             Prevalence : 0.5000        \n",
              "         Detection Rate : 0.3302        \n",
              "   Detection Prevalence : 0.4005        \n",
              "      Balanced Accuracy : 0.7599        \n",
              "                                        \n",
              "       'Positive' Class : 0             \n",
              "                                        "
            ]
          },
          "metadata": {},
          "output_type": "display_data"
        }
      ],
      "source": [
        "predictions <- predict(model, newdata = test_data_rf)\n",
        "conf_matrix <- confusionMatrix(predictions, test_data_rf$CoronaryHeartDisease)\n",
        "conf_matrix"
      ]
    },
    {
      "cell_type": "code",
      "execution_count": null,
      "metadata": {
        "vscode": {
          "languageId": "r"
        }
      },
      "outputs": [],
      "source": [
        "file_path <- \"model.rds\"\n",
        "saveRDS(model, file=file_path)"
      ]
    },
    {
      "cell_type": "markdown",
      "metadata": {
        "id": "M7QL-Y6Gpf9X"
      },
      "source": [
        "### Random Forest"
      ]
    },
    {
      "cell_type": "code",
      "execution_count": null,
      "metadata": {
        "id": "9lx3PcYipiWA",
        "vscode": {
          "languageId": "r"
        }
      },
      "outputs": [],
      "source": [
        "model <- train(CoronaryHeartDisease ~ ., data = train_data_rf, method = \"rf\", trControl = ctrl, metric = \"Accuracy\")"
      ]
    },
    {
      "cell_type": "code",
      "execution_count": null,
      "metadata": {
        "colab": {
          "base_uri": "https://localhost:8080/",
          "height": 485
        },
        "id": "Xn4OGlJGp5xM",
        "outputId": "9d5b5744-c3e5-422b-8598-0b1103641803",
        "vscode": {
          "languageId": "r"
        }
      },
      "outputs": [
        {
          "data": {
            "text/plain": [
              "Confusion Matrix and Statistics\n",
              "\n",
              "          Reference\n",
              "Prediction   0   1\n",
              "         0 276  68\n",
              "         1 101 309\n",
              "                                          \n",
              "               Accuracy : 0.7759          \n",
              "                 95% CI : (0.7444, 0.8052)\n",
              "    No Information Rate : 0.5             \n",
              "    P-Value [Acc > NIR] : < 2e-16         \n",
              "                                          \n",
              "                  Kappa : 0.5517          \n",
              "                                          \n",
              " Mcnemar's Test P-Value : 0.01383         \n",
              "                                          \n",
              "            Sensitivity : 0.7321          \n",
              "            Specificity : 0.8196          \n",
              "         Pos Pred Value : 0.8023          \n",
              "         Neg Pred Value : 0.7537          \n",
              "             Prevalence : 0.5000          \n",
              "         Detection Rate : 0.3660          \n",
              "   Detection Prevalence : 0.4562          \n",
              "      Balanced Accuracy : 0.7759          \n",
              "                                          \n",
              "       'Positive' Class : 0               \n",
              "                                          "
            ]
          },
          "metadata": {},
          "output_type": "display_data"
        }
      ],
      "source": [
        "predictions <- predict(model, newdata = test_data_rf)\n",
        "conf_matrix <- confusionMatrix(predictions, test_data_rf$CoronaryHeartDisease)\n",
        "conf_matrix"
      ]
    },
    {
      "cell_type": "markdown",
      "metadata": {
        "id": "GlYuN9IEqTsB"
      },
      "source": [
        "## Selecting more variables"
      ]
    },
    {
      "cell_type": "code",
      "execution_count": null,
      "metadata": {
        "id": "NvGTe_-hqY__",
        "vscode": {
          "languageId": "r"
        }
      },
      "outputs": [],
      "source": [
        "variable_importance <- importance(rf_model)\n",
        "\n",
        "variable_importance_df <- as.data.frame(variable_importance)\n",
        "\n",
        "important_vars <- rownames(variable_importance_df[variable_importance_df$MeanDecreaseGini > 20, , drop = FALSE])\n",
        "important_vars <- important_vars[!important_vars %in% \"SEQN\"]\n",
        "\n",
        "train_data_rf <- train_data[, c(\"CoronaryHeartDisease\", important_vars)]\n",
        "test_data_rf <- test_data[, c(\"CoronaryHeartDisease\", important_vars)]\n",
        "\n",
        "# train_data_rf"
      ]
    },
    {
      "cell_type": "markdown",
      "metadata": {
        "id": "Cz6e1Qp2qkDp"
      },
      "source": [
        "### Logistic Regression"
      ]
    },
    {
      "cell_type": "code",
      "execution_count": null,
      "metadata": {
        "colab": {
          "base_uri": "https://localhost:8080/",
          "height": 485
        },
        "id": "MNvPPG5wqmfo",
        "outputId": "90558222-880d-432c-8ee2-a7c230753de3",
        "vscode": {
          "languageId": "r"
        }
      },
      "outputs": [
        {
          "data": {
            "text/plain": [
              "Confusion Matrix and Statistics\n",
              "\n",
              "          Reference\n",
              "Prediction   0   1\n",
              "         0 275  70\n",
              "         1 102 307\n",
              "                                          \n",
              "               Accuracy : 0.7719          \n",
              "                 95% CI : (0.7402, 0.8014)\n",
              "    No Information Rate : 0.5             \n",
              "    P-Value [Acc > NIR] : < 2e-16         \n",
              "                                          \n",
              "                  Kappa : 0.5438          \n",
              "                                          \n",
              " Mcnemar's Test P-Value : 0.01809         \n",
              "                                          \n",
              "            Sensitivity : 0.7294          \n",
              "            Specificity : 0.8143          \n",
              "         Pos Pred Value : 0.7971          \n",
              "         Neg Pred Value : 0.7506          \n",
              "             Prevalence : 0.5000          \n",
              "         Detection Rate : 0.3647          \n",
              "   Detection Prevalence : 0.4576          \n",
              "      Balanced Accuracy : 0.7719          \n",
              "                                          \n",
              "       'Positive' Class : 0               \n",
              "                                          "
            ]
          },
          "metadata": {},
          "output_type": "display_data"
        }
      ],
      "source": [
        "model <- train(CoronaryHeartDisease ~ ., data = train_data_rf, method = \"glm\", trControl = ctrl, metric = \"Accuracy\")\n",
        "\n",
        "predictions <- predict(model, newdata = test_data_rf)\n",
        "conf_matrix <- confusionMatrix(predictions, test_data_rf$CoronaryHeartDisease)\n",
        "conf_matrix"
      ]
    },
    {
      "cell_type": "markdown",
      "metadata": {
        "id": "ITlq8gVpq9bL"
      },
      "source": [
        "### SVM"
      ]
    },
    {
      "cell_type": "code",
      "execution_count": null,
      "metadata": {
        "colab": {
          "base_uri": "https://localhost:8080/",
          "height": 485
        },
        "id": "DG9GKOdoq_Yw",
        "outputId": "75258bcd-85c0-430b-95c8-a13c3c7e76a6",
        "vscode": {
          "languageId": "r"
        }
      },
      "outputs": [
        {
          "data": {
            "text/plain": [
              "Confusion Matrix and Statistics\n",
              "\n",
              "          Reference\n",
              "Prediction   0   1\n",
              "         0 263  68\n",
              "         1 114 309\n",
              "                                          \n",
              "               Accuracy : 0.7586          \n",
              "                 95% CI : (0.7264, 0.7888)\n",
              "    No Information Rate : 0.5             \n",
              "    P-Value [Acc > NIR] : < 2.2e-16       \n",
              "                                          \n",
              "                  Kappa : 0.5172          \n",
              "                                          \n",
              " Mcnemar's Test P-Value : 0.0008511       \n",
              "                                          \n",
              "            Sensitivity : 0.6976          \n",
              "            Specificity : 0.8196          \n",
              "         Pos Pred Value : 0.7946          \n",
              "         Neg Pred Value : 0.7305          \n",
              "             Prevalence : 0.5000          \n",
              "         Detection Rate : 0.3488          \n",
              "   Detection Prevalence : 0.4390          \n",
              "      Balanced Accuracy : 0.7586          \n",
              "                                          \n",
              "       'Positive' Class : 0               \n",
              "                                          "
            ]
          },
          "metadata": {},
          "output_type": "display_data"
        }
      ],
      "source": [
        "model <- train(CoronaryHeartDisease ~ ., data = train_data_rf, method = \"svmRadial\", trControl = ctrl, metric = \"Accuracy\")\n",
        "\n",
        "predictions <- predict(model, newdata = test_data_rf)\n",
        "conf_matrix <- confusionMatrix(predictions, test_data_rf$CoronaryHeartDisease)\n",
        "conf_matrix"
      ]
    },
    {
      "cell_type": "markdown",
      "metadata": {
        "id": "3uuf6iw4rk5l"
      },
      "source": [
        "## Selecting almost all the variables"
      ]
    },
    {
      "cell_type": "code",
      "execution_count": null,
      "metadata": {
        "id": "yeoVyVthraR7",
        "vscode": {
          "languageId": "r"
        }
      },
      "outputs": [],
      "source": [
        "variable_importance <- importance(rf_model)\n",
        "\n",
        "variable_importance_df <- as.data.frame(variable_importance)\n",
        "\n",
        "important_vars <- rownames(variable_importance_df[variable_importance_df$MeanDecreaseGini > 15, , drop = FALSE])\n",
        "important_vars <- important_vars[!important_vars %in% \"SEQN\"]\n",
        "\n",
        "train_data_rf <- train_data[, c(\"CoronaryHeartDisease\", important_vars)]\n",
        "test_data_rf <- test_data[, c(\"CoronaryHeartDisease\", important_vars)]\n",
        "\n",
        "# train_data_rf"
      ]
    },
    {
      "cell_type": "markdown",
      "metadata": {
        "id": "-z5frDzGrprD"
      },
      "source": [
        "### SVM"
      ]
    },
    {
      "cell_type": "code",
      "execution_count": null,
      "metadata": {
        "colab": {
          "base_uri": "https://localhost:8080/",
          "height": 485
        },
        "id": "RI6SJFwlrrcj",
        "outputId": "2c8f8ccb-b469-48b9-b24b-fa146c6861fe",
        "vscode": {
          "languageId": "r"
        }
      },
      "outputs": [
        {
          "data": {
            "text/plain": [
              "Confusion Matrix and Statistics\n",
              "\n",
              "          Reference\n",
              "Prediction   0   1\n",
              "         0 263  58\n",
              "         1 114 319\n",
              "                                          \n",
              "               Accuracy : 0.7719          \n",
              "                 95% CI : (0.7402, 0.8014)\n",
              "    No Information Rate : 0.5             \n",
              "    P-Value [Acc > NIR] : < 2.2e-16       \n",
              "                                          \n",
              "                  Kappa : 0.5438          \n",
              "                                          \n",
              " Mcnemar's Test P-Value : 2.744e-05       \n",
              "                                          \n",
              "            Sensitivity : 0.6976          \n",
              "            Specificity : 0.8462          \n",
              "         Pos Pred Value : 0.8193          \n",
              "         Neg Pred Value : 0.7367          \n",
              "             Prevalence : 0.5000          \n",
              "         Detection Rate : 0.3488          \n",
              "   Detection Prevalence : 0.4257          \n",
              "      Balanced Accuracy : 0.7719          \n",
              "                                          \n",
              "       'Positive' Class : 0               \n",
              "                                          "
            ]
          },
          "metadata": {},
          "output_type": "display_data"
        }
      ],
      "source": [
        "model <- train(CoronaryHeartDisease ~ ., data = train_data_rf, method = \"svmRadial\", trControl = ctrl, metric = \"Accuracy\")\n",
        "\n",
        "predictions <- predict(model, newdata = test_data_rf)\n",
        "conf_matrix <- confusionMatrix(predictions, test_data_rf$CoronaryHeartDisease)\n",
        "conf_matrix"
      ]
    },
    {
      "cell_type": "markdown",
      "metadata": {
        "id": "atOEfh4MsDLf"
      },
      "source": [
        "### LR"
      ]
    },
    {
      "cell_type": "code",
      "execution_count": null,
      "metadata": {
        "colab": {
          "base_uri": "https://localhost:8080/",
          "height": 485
        },
        "id": "VbXSdhu9sCp7",
        "outputId": "cf110ab6-f43e-45e1-fa82-795d78cdeb67",
        "vscode": {
          "languageId": "r"
        }
      },
      "outputs": [
        {
          "data": {
            "text/plain": [
              "Confusion Matrix and Statistics\n",
              "\n",
              "          Reference\n",
              "Prediction   0   1\n",
              "         0 276  73\n",
              "         1 101 304\n",
              "                                          \n",
              "               Accuracy : 0.7692          \n",
              "                 95% CI : (0.7375, 0.7989)\n",
              "    No Information Rate : 0.5             \n",
              "    P-Value [Acc > NIR] : < 2e-16         \n",
              "                                          \n",
              "                  Kappa : 0.5385          \n",
              "                                          \n",
              " Mcnemar's Test P-Value : 0.04067         \n",
              "                                          \n",
              "            Sensitivity : 0.7321          \n",
              "            Specificity : 0.8064          \n",
              "         Pos Pred Value : 0.7908          \n",
              "         Neg Pred Value : 0.7506          \n",
              "             Prevalence : 0.5000          \n",
              "         Detection Rate : 0.3660          \n",
              "   Detection Prevalence : 0.4629          \n",
              "      Balanced Accuracy : 0.7692          \n",
              "                                          \n",
              "       'Positive' Class : 0               \n",
              "                                          "
            ]
          },
          "metadata": {},
          "output_type": "display_data"
        }
      ],
      "source": [
        "model <- train(CoronaryHeartDisease ~ ., data = train_data_rf, method = \"glm\", trControl = ctrl, metric = \"Accuracy\")\n",
        "\n",
        "predictions <- predict(model, newdata = test_data_rf)\n",
        "conf_matrix <- confusionMatrix(predictions, test_data_rf$CoronaryHeartDisease)\n",
        "conf_matrix"
      ]
    },
    {
      "cell_type": "markdown",
      "metadata": {
        "id": "Bs-ygdMRsiea"
      },
      "source": [
        "## Feature Selection (Lasso Regression)"
      ]
    },
    {
      "cell_type": "code",
      "execution_count": 6,
      "metadata": {
        "colab": {
          "base_uri": "https://localhost:8080/"
        },
        "id": "tyRNvIJjs-7n",
        "outputId": "d602c101-4e90-4538-a830-1da01f5ca11a",
        "vscode": {
          "languageId": "r"
        }
      },
      "outputs": [
        {
          "name": "stderr",
          "output_type": "stream",
          "text": [
            "Installing package into 'C:/Users/sruja/AppData/Local/R/win-library/4.3'\n",
            "(as 'lib' is unspecified)\n",
            "\n"
          ]
        },
        {
          "name": "stdout",
          "output_type": "stream",
          "text": [
            "package 'glmnet' successfully unpacked and MD5 sums checked\n",
            "\n",
            "The downloaded binary packages are in\n",
            "\tC:\\Users\\sruja\\AppData\\Local\\Temp\\RtmpoD2e6r\\downloaded_packages\n"
          ]
        },
        {
          "name": "stderr",
          "output_type": "stream",
          "text": [
            "Warning message:\n",
            "\"package 'glmnet' was built under R version 4.3.3\"\n",
            "Loading required package: Matrix\n",
            "\n",
            "Loaded glmnet 4.1-8\n",
            "\n"
          ]
        }
      ],
      "source": [
        "install.packages('glmnet')\n",
        "library('glmnet')"
      ]
    },
    {
      "cell_type": "code",
      "execution_count": 7,
      "metadata": {
        "id": "TWv3Iqfosmpp",
        "vscode": {
          "languageId": "r"
        }
      },
      "outputs": [],
      "source": [
        "train_data_y_numeric = as.numeric(train_data$CoronaryHeartDisease)\n",
        "\n",
        "x <- model.matrix(train_data$CoronaryHeartDisease ~ ., data = train_data)\n",
        "\n",
        "lasso_model <- cv.glmnet(x, train_data_y_numeric, alpha = 1)"
      ]
    },
    {
      "cell_type": "code",
      "execution_count": 10,
      "metadata": {
        "id": "YZkyAdICteRT",
        "vscode": {
          "languageId": "r"
        }
      },
      "outputs": [
        {
          "data": {
            "text/html": [
              "<table class=\"dataframe\">\n",
              "<caption>A data.frame: 754 × 31</caption>\n",
              "<thead>\n",
              "\t<tr><th></th><th scope=col>Gender</th><th scope=col>Age</th><th scope=col>Annual.Family.Income</th><th scope=col>Ratio.Family.Income.Poverty</th><th scope=col>Systolic</th><th scope=col>Weight</th><th scope=col>Height</th><th scope=col>Lymphocyte</th><th scope=col>Monocyte</th><th scope=col>Eosinophils</th><th scope=col>⋯</th><th scope=col>Uric.Acid</th><th scope=col>Triglycerides</th><th scope=col>Total.Cholesterol</th><th scope=col>Glycohemoglobin</th><th scope=col>Vigorous.work</th><th scope=col>Moderate.work</th><th scope=col>Health.Insurance</th><th scope=col>Diabetes</th><th scope=col>Blood.Rel.Diabetes</th><th scope=col>CoronaryHeartDisease</th></tr>\n",
              "\t<tr><th></th><th scope=col>&lt;int&gt;</th><th scope=col>&lt;int&gt;</th><th scope=col>&lt;int&gt;</th><th scope=col>&lt;dbl&gt;</th><th scope=col>&lt;int&gt;</th><th scope=col>&lt;dbl&gt;</th><th scope=col>&lt;dbl&gt;</th><th scope=col>&lt;dbl&gt;</th><th scope=col>&lt;dbl&gt;</th><th scope=col>&lt;dbl&gt;</th><th scope=col>⋯</th><th scope=col>&lt;dbl&gt;</th><th scope=col>&lt;dbl&gt;</th><th scope=col>&lt;dbl&gt;</th><th scope=col>&lt;dbl&gt;</th><th scope=col>&lt;int&gt;</th><th scope=col>&lt;int&gt;</th><th scope=col>&lt;int&gt;</th><th scope=col>&lt;int&gt;</th><th scope=col>&lt;int&gt;</th><th scope=col>&lt;fct&gt;</th></tr>\n",
              "</thead>\n",
              "<tbody>\n",
              "\t<tr><th scope=row>6768</th><td>2</td><td>47</td><td> 8</td><td>2.83</td><td>101</td><td> 48.5</td><td>151.5</td><td>20.2</td><td>11.5</td><td> 4.7</td><td>⋯</td><td>166.5</td><td>1.660</td><td>5.12</td><td>4.8</td><td>2</td><td>1</td><td>1</td><td>2</td><td>2</td><td>0</td></tr>\n",
              "\t<tr><th scope=row>4697</th><td>1</td><td>69</td><td>10</td><td>4.44</td><td>144</td><td> 90.7</td><td>174.4</td><td>33.6</td><td>10.8</td><td> 2.5</td><td>⋯</td><td>321.2</td><td>0.723</td><td>4.09</td><td>5.5</td><td>1</td><td>1</td><td>1</td><td>2</td><td>1</td><td>1</td></tr>\n",
              "\t<tr><th scope=row>23285</th><td>1</td><td>67</td><td> 4</td><td>1.34</td><td>130</td><td>106.9</td><td>176.2</td><td>28.4</td><td> 9.0</td><td> 5.9</td><td>⋯</td><td>350.9</td><td>1.535</td><td>4.55</td><td>6.2</td><td>2</td><td>2</td><td>1</td><td>2</td><td>2</td><td>0</td></tr>\n",
              "\t<tr><th scope=row>33361</th><td>2</td><td>70</td><td> 6</td><td>1.24</td><td>122</td><td> 94.1</td><td>154.5</td><td>25.6</td><td> 4.1</td><td> 2.9</td><td>⋯</td><td>333.1</td><td>4.200</td><td>5.04</td><td>8.1</td><td>2</td><td>2</td><td>1</td><td>1</td><td>1</td><td>1</td></tr>\n",
              "\t<tr><th scope=row>2774</th><td>1</td><td>59</td><td> 7</td><td>3.29</td><td>140</td><td>112.4</td><td>176.0</td><td>27.1</td><td> 6.6</td><td> 2.3</td><td>⋯</td><td>481.8</td><td>1.705</td><td>5.12</td><td>5.6</td><td>2</td><td>1</td><td>2</td><td>1</td><td>1</td><td>0</td></tr>\n",
              "\t<tr><th scope=row>10198</th><td>1</td><td>74</td><td>10</td><td>5.00</td><td>168</td><td> 62.2</td><td>170.2</td><td>17.8</td><td> 6.9</td><td> 4.1</td><td>⋯</td><td>356.9</td><td>1.095</td><td>3.49</td><td>5.4</td><td>2</td><td>2</td><td>1</td><td>2</td><td>2</td><td>1</td></tr>\n",
              "\t<tr><th scope=row>25139</th><td>1</td><td>69</td><td>10</td><td>2.33</td><td>116</td><td> 74.9</td><td>167.9</td><td>32.8</td><td>12.9</td><td> 2.3</td><td>⋯</td><td>493.7</td><td>1.535</td><td>3.67</td><td>7.6</td><td>2</td><td>2</td><td>1</td><td>1</td><td>2</td><td>1</td></tr>\n",
              "\t<tr><th scope=row>2518</th><td>1</td><td>56</td><td> 3</td><td>1.32</td><td>189</td><td> 96.6</td><td>181.6</td><td>27.0</td><td>14.1</td><td> 1.0</td><td>⋯</td><td>368.8</td><td>0.937</td><td>4.81</td><td>5.7</td><td>2</td><td>2</td><td>2</td><td>2</td><td>2</td><td>0</td></tr>\n",
              "\t<tr><th scope=row>8762</th><td>2</td><td>79</td><td> 5</td><td>2.23</td><td>160</td><td> 73.1</td><td>164.8</td><td>15.0</td><td> 8.0</td><td> 2.1</td><td>⋯</td><td>249.8</td><td>1.716</td><td>4.73</td><td>5.5</td><td>2</td><td>2</td><td>1</td><td>2</td><td>2</td><td>1</td></tr>\n",
              "\t<tr><th scope=row>31841</th><td>1</td><td>64</td><td> 3</td><td>1.04</td><td>100</td><td>101.6</td><td>179.5</td><td>19.7</td><td> 7.1</td><td> 2.6</td><td>⋯</td><td>297.4</td><td>1.524</td><td>3.62</td><td>6.2</td><td>1</td><td>2</td><td>2</td><td>1</td><td>1</td><td>1</td></tr>\n",
              "\t<tr><th scope=row>28533</th><td>1</td><td>40</td><td> 8</td><td>2.30</td><td>114</td><td> 68.4</td><td>161.7</td><td>36.5</td><td> 9.0</td><td> 2.0</td><td>⋯</td><td>303.3</td><td>4.313</td><td>4.86</td><td>5.7</td><td>1</td><td>2</td><td>2</td><td>2</td><td>2</td><td>0</td></tr>\n",
              "\t<tr><th scope=row>8244</th><td>1</td><td>76</td><td> 8</td><td>4.13</td><td>160</td><td>121.1</td><td>180.4</td><td>17.5</td><td> 7.3</td><td> 2.8</td><td>⋯</td><td>232.0</td><td>2.190</td><td>6.05</td><td>5.6</td><td>2</td><td>1</td><td>1</td><td>1</td><td>1</td><td>1</td></tr>\n",
              "\t<tr><th scope=row>23065</th><td>1</td><td>29</td><td> 2</td><td>0.72</td><td>110</td><td> 78.8</td><td>168.6</td><td>23.1</td><td> 7.6</td><td> 4.3</td><td>⋯</td><td>333.1</td><td>2.461</td><td>4.01</td><td>5.4</td><td>1</td><td>1</td><td>2</td><td>2</td><td>1</td><td>0</td></tr>\n",
              "\t<tr><th scope=row>37056</th><td>1</td><td>38</td><td> 9</td><td>2.47</td><td>112</td><td> 73.1</td><td>170.5</td><td>34.9</td><td>12.7</td><td>11.7</td><td>⋯</td><td>261.7</td><td>0.926</td><td>3.98</td><td>4.7</td><td>2</td><td>1</td><td>1</td><td>2</td><td>1</td><td>0</td></tr>\n",
              "\t<tr><th scope=row>412</th><td>2</td><td>79</td><td>11</td><td>5.00</td><td> 80</td><td> 38.9</td><td>149.4</td><td>36.3</td><td> 5.5</td><td> 0.9</td><td>⋯</td><td>267.7</td><td>1.389</td><td>7.06</td><td>4.5</td><td>1</td><td>1</td><td>1</td><td>1</td><td>2</td><td>1</td></tr>\n",
              "\t<tr><th scope=row>3335</th><td>2</td><td>75</td><td>11</td><td>5.00</td><td>147</td><td> 62.9</td><td>172.7</td><td>15.8</td><td> 5.8</td><td> 1.5</td><td>⋯</td><td>172.5</td><td>0.655</td><td>4.65</td><td>5.2</td><td>2</td><td>2</td><td>1</td><td>2</td><td>2</td><td>0</td></tr>\n",
              "\t<tr><th scope=row>20989</th><td>1</td><td>75</td><td> 5</td><td>1.37</td><td>156</td><td> 69.4</td><td>170.6</td><td>24.8</td><td>10.2</td><td> 2.8</td><td>⋯</td><td>273.6</td><td>0.677</td><td>3.67</td><td>6.1</td><td>2</td><td>2</td><td>1</td><td>1</td><td>1</td><td>1</td></tr>\n",
              "\t<tr><th scope=row>2532</th><td>2</td><td>36</td><td> 3</td><td>1.46</td><td>106</td><td> 65.8</td><td>167.9</td><td>20.0</td><td> 9.5</td><td> 2.5</td><td>⋯</td><td>279.6</td><td>0.485</td><td>3.85</td><td>5.1</td><td>2</td><td>2</td><td>2</td><td>2</td><td>1</td><td>0</td></tr>\n",
              "\t<tr><th scope=row>26996</th><td>1</td><td>66</td><td> 6</td><td>1.57</td><td>126</td><td> 95.1</td><td>174.5</td><td>46.0</td><td> 9.3</td><td> 3.8</td><td>⋯</td><td>368.8</td><td>1.411</td><td>5.04</td><td>5.3</td><td>1</td><td>1</td><td>1</td><td>2</td><td>2</td><td>0</td></tr>\n",
              "\t<tr><th scope=row>13028</th><td>1</td><td>59</td><td> 1</td><td>0.48</td><td>156</td><td> 85.9</td><td>181.6</td><td>48.6</td><td>11.9</td><td> 3.6</td><td>⋯</td><td>309.3</td><td>1.106</td><td>4.42</td><td>7.0</td><td>2</td><td>2</td><td>1</td><td>2</td><td>2</td><td>1</td></tr>\n",
              "\t<tr><th scope=row>17128</th><td>2</td><td>61</td><td> 3</td><td>1.01</td><td>128</td><td>101.9</td><td>170.2</td><td>30.2</td><td> 5.7</td><td> 2.2</td><td>⋯</td><td>416.4</td><td>1.445</td><td>5.79</td><td>6.2</td><td>2</td><td>2</td><td>1</td><td>2</td><td>1</td><td>0</td></tr>\n",
              "\t<tr><th scope=row>4873</th><td>2</td><td>68</td><td> 3</td><td>0.90</td><td>161</td><td> 58.1</td><td>158.8</td><td>31.7</td><td> 9.4</td><td> 1.2</td><td>⋯</td><td>267.7</td><td>0.994</td><td>4.29</td><td>6.8</td><td>2</td><td>1</td><td>1</td><td>1</td><td>1</td><td>0</td></tr>\n",
              "\t<tr><th scope=row>18808</th><td>1</td><td>67</td><td> 2</td><td>0.44</td><td>120</td><td>131.9</td><td>183.1</td><td>42.2</td><td> 9.5</td><td> 2.5</td><td>⋯</td><td>380.7</td><td>1.073</td><td>3.39</td><td>5.8</td><td>2</td><td>2</td><td>1</td><td>1</td><td>2</td><td>1</td></tr>\n",
              "\t<tr><th scope=row>17053</th><td>1</td><td>70</td><td> 6</td><td>1.70</td><td>132</td><td> 75.7</td><td>174.4</td><td>15.9</td><td>10.1</td><td> 2.9</td><td>⋯</td><td>380.7</td><td>2.664</td><td>4.16</td><td>6.6</td><td>2</td><td>2</td><td>1</td><td>1</td><td>1</td><td>1</td></tr>\n",
              "\t<tr><th scope=row>22276</th><td>1</td><td>74</td><td> 8</td><td>2.27</td><td>154</td><td> 82.5</td><td>172.7</td><td>31.9</td><td>10.0</td><td> 6.0</td><td>⋯</td><td>309.3</td><td>1.502</td><td>3.90</td><td>5.8</td><td>2</td><td>2</td><td>1</td><td>2</td><td>1</td><td>0</td></tr>\n",
              "\t<tr><th scope=row>12377</th><td>1</td><td>70</td><td> 7</td><td>3.97</td><td>158</td><td> 82.7</td><td>183.5</td><td>29.4</td><td> 6.9</td><td> 1.5</td><td>⋯</td><td>333.1</td><td>2.168</td><td>5.15</td><td>6.2</td><td>1</td><td>1</td><td>1</td><td>2</td><td>2</td><td>0</td></tr>\n",
              "\t<tr><th scope=row>19528</th><td>1</td><td>54</td><td>15</td><td>5.00</td><td>104</td><td> 85.6</td><td>176.8</td><td>30.7</td><td>12.3</td><td> 1.3</td><td>⋯</td><td>350.9</td><td>1.919</td><td>4.53</td><td>6.0</td><td>1</td><td>2</td><td>1</td><td>2</td><td>2</td><td>1</td></tr>\n",
              "\t<tr><th scope=row>31748</th><td>2</td><td>29</td><td> 6</td><td>1.11</td><td>106</td><td> 69.8</td><td>166.6</td><td>48.7</td><td> 7.1</td><td> 3.6</td><td>⋯</td><td>273.6</td><td>0.779</td><td>3.54</td><td>5.4</td><td>1</td><td>1</td><td>1</td><td>2</td><td>2</td><td>0</td></tr>\n",
              "\t<tr><th scope=row>10418</th><td>1</td><td>49</td><td> 6</td><td>3.34</td><td>115</td><td> 93.1</td><td>182.5</td><td>25.8</td><td> 5.2</td><td> 2.0</td><td>⋯</td><td>422.3</td><td>0.700</td><td>4.68</td><td>4.0</td><td>1</td><td>1</td><td>1</td><td>2</td><td>1</td><td>1</td></tr>\n",
              "\t<tr><th scope=row>10028</th><td>1</td><td>56</td><td> 3</td><td>0.65</td><td>119</td><td> 98.4</td><td>175.6</td><td>42.6</td><td> 4.4</td><td> 0.9</td><td>⋯</td><td>327.1</td><td>2.800</td><td>5.59</td><td>5.7</td><td>3</td><td>3</td><td>2</td><td>2</td><td>2</td><td>1</td></tr>\n",
              "\t<tr><th scope=row>⋮</th><td>⋮</td><td>⋮</td><td>⋮</td><td>⋮</td><td>⋮</td><td>⋮</td><td>⋮</td><td>⋮</td><td>⋮</td><td>⋮</td><td>⋱</td><td>⋮</td><td>⋮</td><td>⋮</td><td>⋮</td><td>⋮</td><td>⋮</td><td>⋮</td><td>⋮</td><td>⋮</td><td>⋮</td></tr>\n",
              "\t<tr><th scope=row>1272</th><td>2</td><td>76</td><td> 2</td><td>1.08</td><td>123</td><td> 75.1</td><td>159.5</td><td>23.3</td><td>11.0</td><td>4.7</td><td>⋯</td><td>618.6</td><td>4.505</td><td>4.50</td><td>5.3</td><td>2</td><td>2</td><td>1</td><td>2</td><td>1</td><td>1</td></tr>\n",
              "\t<tr><th scope=row>2183</th><td>1</td><td>72</td><td> 4</td><td>1.82</td><td>153</td><td> 61.8</td><td>166.0</td><td>12.3</td><td> 6.5</td><td>0.4</td><td>⋯</td><td>493.7</td><td>0.644</td><td>3.34</td><td>5.5</td><td>2</td><td>1</td><td>1</td><td>1</td><td>2</td><td>1</td></tr>\n",
              "\t<tr><th scope=row>12235</th><td>1</td><td>50</td><td> 6</td><td>2.57</td><td>130</td><td> 85.8</td><td>171.5</td><td>36.8</td><td> 7.6</td><td>1.3</td><td>⋯</td><td>469.9</td><td>2.473</td><td>8.56</td><td>7.7</td><td>1</td><td>1</td><td>1</td><td>3</td><td>1</td><td>0</td></tr>\n",
              "\t<tr><th scope=row>31138</th><td>1</td><td>72</td><td> 7</td><td>2.67</td><td>134</td><td>103.8</td><td>177.2</td><td>39.3</td><td> 8.6</td><td>2.2</td><td>⋯</td><td>279.6</td><td>1.084</td><td>3.41</td><td>5.7</td><td>2</td><td>2</td><td>1</td><td>3</td><td>1</td><td>1</td></tr>\n",
              "\t<tr><th scope=row>7452</th><td>1</td><td>74</td><td> 7</td><td>2.23</td><td>132</td><td> 95.2</td><td>176.3</td><td>30.9</td><td>10.0</td><td>2.8</td><td>⋯</td><td>547.2</td><td>2.326</td><td>4.40</td><td>6.3</td><td>2</td><td>2</td><td>1</td><td>1</td><td>1</td><td>1</td></tr>\n",
              "\t<tr><th scope=row>30108</th><td>2</td><td>62</td><td> 4</td><td>1.53</td><td>150</td><td> 73.3</td><td>152.4</td><td>22.3</td><td> 6.4</td><td>2.3</td><td>⋯</td><td>345.0</td><td>1.152</td><td>3.83</td><td>6.1</td><td>2</td><td>1</td><td>1</td><td>2</td><td>1</td><td>1</td></tr>\n",
              "\t<tr><th scope=row>9182</th><td>2</td><td>20</td><td> 1</td><td>0.32</td><td>108</td><td> 52.7</td><td>164.2</td><td>31.1</td><td> 4.4</td><td>1.0</td><td>⋯</td><td>243.9</td><td>2.427</td><td>4.97</td><td>4.9</td><td>1</td><td>1</td><td>1</td><td>2</td><td>1</td><td>0</td></tr>\n",
              "\t<tr><th scope=row>36806</th><td>1</td><td>74</td><td> 4</td><td>1.49</td><td>138</td><td> 58.6</td><td>168.5</td><td>17.7</td><td>11.6</td><td>3.6</td><td>⋯</td><td>285.5</td><td>0.802</td><td>4.01</td><td>5.5</td><td>2</td><td>2</td><td>1</td><td>2</td><td>2</td><td>1</td></tr>\n",
              "\t<tr><th scope=row>29359</th><td>2</td><td>74</td><td> 9</td><td>5.00</td><td>128</td><td> 57.6</td><td>161.4</td><td>21.7</td><td> 6.1</td><td>4.4</td><td>⋯</td><td>517.5</td><td>7.688</td><td>5.51</td><td>9.7</td><td>2</td><td>2</td><td>1</td><td>1</td><td>2</td><td>1</td></tr>\n",
              "\t<tr><th scope=row>28279</th><td>1</td><td>57</td><td>15</td><td>5.00</td><td>124</td><td>140.6</td><td>182.3</td><td>23.8</td><td> 8.1</td><td>1.0</td><td>⋯</td><td>737.6</td><td>0.835</td><td>2.33</td><td>8.9</td><td>2</td><td>2</td><td>1</td><td>1</td><td>1</td><td>1</td></tr>\n",
              "\t<tr><th scope=row>5951</th><td>1</td><td>81</td><td> 5</td><td>1.33</td><td>151</td><td> 76.1</td><td>164.1</td><td>27.8</td><td>11.4</td><td>4.5</td><td>⋯</td><td>273.6</td><td>1.208</td><td>5.09</td><td>5.4</td><td>2</td><td>1</td><td>1</td><td>2</td><td>2</td><td>0</td></tr>\n",
              "\t<tr><th scope=row>14366</th><td>2</td><td>33</td><td>11</td><td>4.20</td><td>108</td><td> 78.9</td><td>185.2</td><td>26.9</td><td> 4.8</td><td>1.6</td><td>⋯</td><td>160.6</td><td>4.064</td><td>6.90</td><td>4.5</td><td>2</td><td>1</td><td>1</td><td>2</td><td>2</td><td>0</td></tr>\n",
              "\t<tr><th scope=row>8508</th><td>2</td><td>30</td><td> 3</td><td>0.94</td><td>112</td><td> 75.5</td><td>161.5</td><td>34.3</td><td> 7.3</td><td>1.9</td><td>⋯</td><td>196.3</td><td>0.824</td><td>4.53</td><td>5.5</td><td>2</td><td>1</td><td>1</td><td>2</td><td>1</td><td>0</td></tr>\n",
              "\t<tr><th scope=row>11769</th><td>2</td><td>65</td><td> 2</td><td>1.00</td><td>108</td><td> 44.8</td><td>162.7</td><td>27.0</td><td> 5.9</td><td>0.9</td><td>⋯</td><td>249.8</td><td>1.592</td><td>5.69</td><td>5.2</td><td>2</td><td>1</td><td>1</td><td>2</td><td>2</td><td>0</td></tr>\n",
              "\t<tr><th scope=row>31082</th><td>2</td><td>34</td><td> 2</td><td>0.45</td><td>102</td><td> 50.7</td><td>160.4</td><td>16.6</td><td> 3.9</td><td>1.0</td><td>⋯</td><td>202.2</td><td>1.795</td><td>3.67</td><td>5.3</td><td>2</td><td>2</td><td>1</td><td>2</td><td>2</td><td>1</td></tr>\n",
              "\t<tr><th scope=row>35407</th><td>1</td><td>63</td><td>14</td><td>5.00</td><td>136</td><td>115.4</td><td>184.4</td><td>56.0</td><td> 6.0</td><td>0.4</td><td>⋯</td><td>327.1</td><td>0.756</td><td>3.78</td><td>5.8</td><td>2</td><td>1</td><td>1</td><td>1</td><td>2</td><td>0</td></tr>\n",
              "\t<tr><th scope=row>13940</th><td>1</td><td>80</td><td> 7</td><td>2.65</td><td>124</td><td> 82.3</td><td>170.3</td><td>28.5</td><td> 5.4</td><td>2.5</td><td>⋯</td><td>285.5</td><td>1.581</td><td>3.34</td><td>5.4</td><td>3</td><td>3</td><td>1</td><td>2</td><td>1</td><td>1</td></tr>\n",
              "\t<tr><th scope=row>30646</th><td>2</td><td>80</td><td>15</td><td>5.00</td><td>158</td><td> 53.8</td><td>152.3</td><td>21.4</td><td> 8.7</td><td>1.2</td><td>⋯</td><td>475.8</td><td>0.847</td><td>5.40</td><td>5.9</td><td>2</td><td>2</td><td>1</td><td>2</td><td>2</td><td>0</td></tr>\n",
              "\t<tr><th scope=row>8062</th><td>1</td><td>80</td><td> 2</td><td>0.38</td><td>134</td><td> 65.9</td><td>163.6</td><td>24.4</td><td> 7.8</td><td>1.9</td><td>⋯</td><td>398.5</td><td>2.958</td><td>5.79</td><td>6.3</td><td>1</td><td>2</td><td>1</td><td>1</td><td>2</td><td>1</td></tr>\n",
              "\t<tr><th scope=row>15452</th><td>1</td><td>58</td><td>14</td><td>5.00</td><td>114</td><td> 75.1</td><td>177.0</td><td>34.2</td><td> 7.3</td><td>1.5</td><td>⋯</td><td>321.2</td><td>1.524</td><td>4.86</td><td>5.4</td><td>1</td><td>1</td><td>1</td><td>2</td><td>2</td><td>0</td></tr>\n",
              "\t<tr><th scope=row>5600</th><td>2</td><td>82</td><td> 3</td><td>1.24</td><td>184</td><td> 62.7</td><td>151.9</td><td>22.7</td><td>10.8</td><td>6.4</td><td>⋯</td><td>356.9</td><td>1.660</td><td>5.30</td><td>5.4</td><td>2</td><td>1</td><td>1</td><td>2</td><td>1</td><td>0</td></tr>\n",
              "\t<tr><th scope=row>12974</th><td>2</td><td>26</td><td> 3</td><td>0.86</td><td>118</td><td>101.4</td><td>172.1</td><td>32.5</td><td>11.0</td><td>6.4</td><td>⋯</td><td>321.2</td><td>4.889</td><td>5.35</td><td>5.2</td><td>2</td><td>1</td><td>1</td><td>2</td><td>1</td><td>0</td></tr>\n",
              "\t<tr><th scope=row>11344</th><td>2</td><td>80</td><td> 2</td><td>0.47</td><td>192</td><td> 77.7</td><td>155.3</td><td>40.1</td><td> 7.7</td><td>4.7</td><td>⋯</td><td>255.8</td><td>1.942</td><td>6.21</td><td>5.8</td><td>2</td><td>2</td><td>1</td><td>2</td><td>1</td><td>0</td></tr>\n",
              "\t<tr><th scope=row>6533</th><td>1</td><td>81</td><td>10</td><td>5.00</td><td>122</td><td> 76.7</td><td>179.5</td><td>23.6</td><td> 8.1</td><td>4.5</td><td>⋯</td><td>398.5</td><td>1.140</td><td>5.87</td><td>6.2</td><td>1</td><td>1</td><td>1</td><td>2</td><td>2</td><td>1</td></tr>\n",
              "\t<tr><th scope=row>18736</th><td>1</td><td>80</td><td> 3</td><td>1.23</td><td>154</td><td> 65.7</td><td>162.3</td><td>28.5</td><td>14.2</td><td>3.8</td><td>⋯</td><td>321.2</td><td>1.061</td><td>4.45</td><td>6.4</td><td>2</td><td>2</td><td>2</td><td>2</td><td>2</td><td>1</td></tr>\n",
              "\t<tr><th scope=row>8158</th><td>1</td><td>61</td><td> 9</td><td>4.95</td><td>176</td><td> 93.3</td><td>186.7</td><td>30.4</td><td> 8.4</td><td>6.8</td><td>⋯</td><td>374.7</td><td>1.750</td><td>5.46</td><td>5.2</td><td>1</td><td>1</td><td>1</td><td>2</td><td>2</td><td>0</td></tr>\n",
              "\t<tr><th scope=row>25035</th><td>2</td><td>34</td><td> 9</td><td>3.14</td><td>108</td><td> 63.0</td><td>165.5</td><td>28.9</td><td> 6.4</td><td>3.4</td><td>⋯</td><td>148.7</td><td>1.242</td><td>4.63</td><td>5.3</td><td>2</td><td>2</td><td>1</td><td>2</td><td>2</td><td>0</td></tr>\n",
              "\t<tr><th scope=row>731</th><td>1</td><td>38</td><td> 8</td><td>2.31</td><td>127</td><td> 97.2</td><td>183.4</td><td>19.5</td><td> 7.9</td><td>1.6</td><td>⋯</td><td>303.3</td><td>0.734</td><td>3.72</td><td>5.5</td><td>1</td><td>1</td><td>1</td><td>2</td><td>2</td><td>0</td></tr>\n",
              "\t<tr><th scope=row>34641</th><td>1</td><td>64</td><td> 2</td><td>0.67</td><td>118</td><td> 79.3</td><td>180.8</td><td>13.1</td><td> 8.6</td><td>1.8</td><td>⋯</td><td>368.8</td><td>1.558</td><td>5.90</td><td>5.3</td><td>2</td><td>2</td><td>1</td><td>2</td><td>1</td><td>1</td></tr>\n",
              "\t<tr><th scope=row>19346</th><td>1</td><td>80</td><td>10</td><td>4.94</td><td>146</td><td> 82.8</td><td>168.0</td><td>24.8</td><td> 8.9</td><td>2.5</td><td>⋯</td><td>463.9</td><td>1.355</td><td>4.09</td><td>6.7</td><td>2</td><td>2</td><td>1</td><td>1</td><td>1</td><td>1</td></tr>\n",
              "</tbody>\n",
              "</table>\n"
            ],
            "text/latex": [
              "A data.frame: 754 × 31\n",
              "\\begin{tabular}{r|lllllllllllllllllllll}\n",
              "  & Gender & Age & Annual.Family.Income & Ratio.Family.Income.Poverty & Systolic & Weight & Height & Lymphocyte & Monocyte & Eosinophils & ⋯ & Uric.Acid & Triglycerides & Total.Cholesterol & Glycohemoglobin & Vigorous.work & Moderate.work & Health.Insurance & Diabetes & Blood.Rel.Diabetes & CoronaryHeartDisease\\\\\n",
              "  & <int> & <int> & <int> & <dbl> & <int> & <dbl> & <dbl> & <dbl> & <dbl> & <dbl> & ⋯ & <dbl> & <dbl> & <dbl> & <dbl> & <int> & <int> & <int> & <int> & <int> & <fct>\\\\\n",
              "\\hline\n",
              "\t6768 & 2 & 47 &  8 & 2.83 & 101 &  48.5 & 151.5 & 20.2 & 11.5 &  4.7 & ⋯ & 166.5 & 1.660 & 5.12 & 4.8 & 2 & 1 & 1 & 2 & 2 & 0\\\\\n",
              "\t4697 & 1 & 69 & 10 & 4.44 & 144 &  90.7 & 174.4 & 33.6 & 10.8 &  2.5 & ⋯ & 321.2 & 0.723 & 4.09 & 5.5 & 1 & 1 & 1 & 2 & 1 & 1\\\\\n",
              "\t23285 & 1 & 67 &  4 & 1.34 & 130 & 106.9 & 176.2 & 28.4 &  9.0 &  5.9 & ⋯ & 350.9 & 1.535 & 4.55 & 6.2 & 2 & 2 & 1 & 2 & 2 & 0\\\\\n",
              "\t33361 & 2 & 70 &  6 & 1.24 & 122 &  94.1 & 154.5 & 25.6 &  4.1 &  2.9 & ⋯ & 333.1 & 4.200 & 5.04 & 8.1 & 2 & 2 & 1 & 1 & 1 & 1\\\\\n",
              "\t2774 & 1 & 59 &  7 & 3.29 & 140 & 112.4 & 176.0 & 27.1 &  6.6 &  2.3 & ⋯ & 481.8 & 1.705 & 5.12 & 5.6 & 2 & 1 & 2 & 1 & 1 & 0\\\\\n",
              "\t10198 & 1 & 74 & 10 & 5.00 & 168 &  62.2 & 170.2 & 17.8 &  6.9 &  4.1 & ⋯ & 356.9 & 1.095 & 3.49 & 5.4 & 2 & 2 & 1 & 2 & 2 & 1\\\\\n",
              "\t25139 & 1 & 69 & 10 & 2.33 & 116 &  74.9 & 167.9 & 32.8 & 12.9 &  2.3 & ⋯ & 493.7 & 1.535 & 3.67 & 7.6 & 2 & 2 & 1 & 1 & 2 & 1\\\\\n",
              "\t2518 & 1 & 56 &  3 & 1.32 & 189 &  96.6 & 181.6 & 27.0 & 14.1 &  1.0 & ⋯ & 368.8 & 0.937 & 4.81 & 5.7 & 2 & 2 & 2 & 2 & 2 & 0\\\\\n",
              "\t8762 & 2 & 79 &  5 & 2.23 & 160 &  73.1 & 164.8 & 15.0 &  8.0 &  2.1 & ⋯ & 249.8 & 1.716 & 4.73 & 5.5 & 2 & 2 & 1 & 2 & 2 & 1\\\\\n",
              "\t31841 & 1 & 64 &  3 & 1.04 & 100 & 101.6 & 179.5 & 19.7 &  7.1 &  2.6 & ⋯ & 297.4 & 1.524 & 3.62 & 6.2 & 1 & 2 & 2 & 1 & 1 & 1\\\\\n",
              "\t28533 & 1 & 40 &  8 & 2.30 & 114 &  68.4 & 161.7 & 36.5 &  9.0 &  2.0 & ⋯ & 303.3 & 4.313 & 4.86 & 5.7 & 1 & 2 & 2 & 2 & 2 & 0\\\\\n",
              "\t8244 & 1 & 76 &  8 & 4.13 & 160 & 121.1 & 180.4 & 17.5 &  7.3 &  2.8 & ⋯ & 232.0 & 2.190 & 6.05 & 5.6 & 2 & 1 & 1 & 1 & 1 & 1\\\\\n",
              "\t23065 & 1 & 29 &  2 & 0.72 & 110 &  78.8 & 168.6 & 23.1 &  7.6 &  4.3 & ⋯ & 333.1 & 2.461 & 4.01 & 5.4 & 1 & 1 & 2 & 2 & 1 & 0\\\\\n",
              "\t37056 & 1 & 38 &  9 & 2.47 & 112 &  73.1 & 170.5 & 34.9 & 12.7 & 11.7 & ⋯ & 261.7 & 0.926 & 3.98 & 4.7 & 2 & 1 & 1 & 2 & 1 & 0\\\\\n",
              "\t412 & 2 & 79 & 11 & 5.00 &  80 &  38.9 & 149.4 & 36.3 &  5.5 &  0.9 & ⋯ & 267.7 & 1.389 & 7.06 & 4.5 & 1 & 1 & 1 & 1 & 2 & 1\\\\\n",
              "\t3335 & 2 & 75 & 11 & 5.00 & 147 &  62.9 & 172.7 & 15.8 &  5.8 &  1.5 & ⋯ & 172.5 & 0.655 & 4.65 & 5.2 & 2 & 2 & 1 & 2 & 2 & 0\\\\\n",
              "\t20989 & 1 & 75 &  5 & 1.37 & 156 &  69.4 & 170.6 & 24.8 & 10.2 &  2.8 & ⋯ & 273.6 & 0.677 & 3.67 & 6.1 & 2 & 2 & 1 & 1 & 1 & 1\\\\\n",
              "\t2532 & 2 & 36 &  3 & 1.46 & 106 &  65.8 & 167.9 & 20.0 &  9.5 &  2.5 & ⋯ & 279.6 & 0.485 & 3.85 & 5.1 & 2 & 2 & 2 & 2 & 1 & 0\\\\\n",
              "\t26996 & 1 & 66 &  6 & 1.57 & 126 &  95.1 & 174.5 & 46.0 &  9.3 &  3.8 & ⋯ & 368.8 & 1.411 & 5.04 & 5.3 & 1 & 1 & 1 & 2 & 2 & 0\\\\\n",
              "\t13028 & 1 & 59 &  1 & 0.48 & 156 &  85.9 & 181.6 & 48.6 & 11.9 &  3.6 & ⋯ & 309.3 & 1.106 & 4.42 & 7.0 & 2 & 2 & 1 & 2 & 2 & 1\\\\\n",
              "\t17128 & 2 & 61 &  3 & 1.01 & 128 & 101.9 & 170.2 & 30.2 &  5.7 &  2.2 & ⋯ & 416.4 & 1.445 & 5.79 & 6.2 & 2 & 2 & 1 & 2 & 1 & 0\\\\\n",
              "\t4873 & 2 & 68 &  3 & 0.90 & 161 &  58.1 & 158.8 & 31.7 &  9.4 &  1.2 & ⋯ & 267.7 & 0.994 & 4.29 & 6.8 & 2 & 1 & 1 & 1 & 1 & 0\\\\\n",
              "\t18808 & 1 & 67 &  2 & 0.44 & 120 & 131.9 & 183.1 & 42.2 &  9.5 &  2.5 & ⋯ & 380.7 & 1.073 & 3.39 & 5.8 & 2 & 2 & 1 & 1 & 2 & 1\\\\\n",
              "\t17053 & 1 & 70 &  6 & 1.70 & 132 &  75.7 & 174.4 & 15.9 & 10.1 &  2.9 & ⋯ & 380.7 & 2.664 & 4.16 & 6.6 & 2 & 2 & 1 & 1 & 1 & 1\\\\\n",
              "\t22276 & 1 & 74 &  8 & 2.27 & 154 &  82.5 & 172.7 & 31.9 & 10.0 &  6.0 & ⋯ & 309.3 & 1.502 & 3.90 & 5.8 & 2 & 2 & 1 & 2 & 1 & 0\\\\\n",
              "\t12377 & 1 & 70 &  7 & 3.97 & 158 &  82.7 & 183.5 & 29.4 &  6.9 &  1.5 & ⋯ & 333.1 & 2.168 & 5.15 & 6.2 & 1 & 1 & 1 & 2 & 2 & 0\\\\\n",
              "\t19528 & 1 & 54 & 15 & 5.00 & 104 &  85.6 & 176.8 & 30.7 & 12.3 &  1.3 & ⋯ & 350.9 & 1.919 & 4.53 & 6.0 & 1 & 2 & 1 & 2 & 2 & 1\\\\\n",
              "\t31748 & 2 & 29 &  6 & 1.11 & 106 &  69.8 & 166.6 & 48.7 &  7.1 &  3.6 & ⋯ & 273.6 & 0.779 & 3.54 & 5.4 & 1 & 1 & 1 & 2 & 2 & 0\\\\\n",
              "\t10418 & 1 & 49 &  6 & 3.34 & 115 &  93.1 & 182.5 & 25.8 &  5.2 &  2.0 & ⋯ & 422.3 & 0.700 & 4.68 & 4.0 & 1 & 1 & 1 & 2 & 1 & 1\\\\\n",
              "\t10028 & 1 & 56 &  3 & 0.65 & 119 &  98.4 & 175.6 & 42.6 &  4.4 &  0.9 & ⋯ & 327.1 & 2.800 & 5.59 & 5.7 & 3 & 3 & 2 & 2 & 2 & 1\\\\\n",
              "\t⋮ & ⋮ & ⋮ & ⋮ & ⋮ & ⋮ & ⋮ & ⋮ & ⋮ & ⋮ & ⋮ & ⋱ & ⋮ & ⋮ & ⋮ & ⋮ & ⋮ & ⋮ & ⋮ & ⋮ & ⋮ & ⋮\\\\\n",
              "\t1272 & 2 & 76 &  2 & 1.08 & 123 &  75.1 & 159.5 & 23.3 & 11.0 & 4.7 & ⋯ & 618.6 & 4.505 & 4.50 & 5.3 & 2 & 2 & 1 & 2 & 1 & 1\\\\\n",
              "\t2183 & 1 & 72 &  4 & 1.82 & 153 &  61.8 & 166.0 & 12.3 &  6.5 & 0.4 & ⋯ & 493.7 & 0.644 & 3.34 & 5.5 & 2 & 1 & 1 & 1 & 2 & 1\\\\\n",
              "\t12235 & 1 & 50 &  6 & 2.57 & 130 &  85.8 & 171.5 & 36.8 &  7.6 & 1.3 & ⋯ & 469.9 & 2.473 & 8.56 & 7.7 & 1 & 1 & 1 & 3 & 1 & 0\\\\\n",
              "\t31138 & 1 & 72 &  7 & 2.67 & 134 & 103.8 & 177.2 & 39.3 &  8.6 & 2.2 & ⋯ & 279.6 & 1.084 & 3.41 & 5.7 & 2 & 2 & 1 & 3 & 1 & 1\\\\\n",
              "\t7452 & 1 & 74 &  7 & 2.23 & 132 &  95.2 & 176.3 & 30.9 & 10.0 & 2.8 & ⋯ & 547.2 & 2.326 & 4.40 & 6.3 & 2 & 2 & 1 & 1 & 1 & 1\\\\\n",
              "\t30108 & 2 & 62 &  4 & 1.53 & 150 &  73.3 & 152.4 & 22.3 &  6.4 & 2.3 & ⋯ & 345.0 & 1.152 & 3.83 & 6.1 & 2 & 1 & 1 & 2 & 1 & 1\\\\\n",
              "\t9182 & 2 & 20 &  1 & 0.32 & 108 &  52.7 & 164.2 & 31.1 &  4.4 & 1.0 & ⋯ & 243.9 & 2.427 & 4.97 & 4.9 & 1 & 1 & 1 & 2 & 1 & 0\\\\\n",
              "\t36806 & 1 & 74 &  4 & 1.49 & 138 &  58.6 & 168.5 & 17.7 & 11.6 & 3.6 & ⋯ & 285.5 & 0.802 & 4.01 & 5.5 & 2 & 2 & 1 & 2 & 2 & 1\\\\\n",
              "\t29359 & 2 & 74 &  9 & 5.00 & 128 &  57.6 & 161.4 & 21.7 &  6.1 & 4.4 & ⋯ & 517.5 & 7.688 & 5.51 & 9.7 & 2 & 2 & 1 & 1 & 2 & 1\\\\\n",
              "\t28279 & 1 & 57 & 15 & 5.00 & 124 & 140.6 & 182.3 & 23.8 &  8.1 & 1.0 & ⋯ & 737.6 & 0.835 & 2.33 & 8.9 & 2 & 2 & 1 & 1 & 1 & 1\\\\\n",
              "\t5951 & 1 & 81 &  5 & 1.33 & 151 &  76.1 & 164.1 & 27.8 & 11.4 & 4.5 & ⋯ & 273.6 & 1.208 & 5.09 & 5.4 & 2 & 1 & 1 & 2 & 2 & 0\\\\\n",
              "\t14366 & 2 & 33 & 11 & 4.20 & 108 &  78.9 & 185.2 & 26.9 &  4.8 & 1.6 & ⋯ & 160.6 & 4.064 & 6.90 & 4.5 & 2 & 1 & 1 & 2 & 2 & 0\\\\\n",
              "\t8508 & 2 & 30 &  3 & 0.94 & 112 &  75.5 & 161.5 & 34.3 &  7.3 & 1.9 & ⋯ & 196.3 & 0.824 & 4.53 & 5.5 & 2 & 1 & 1 & 2 & 1 & 0\\\\\n",
              "\t11769 & 2 & 65 &  2 & 1.00 & 108 &  44.8 & 162.7 & 27.0 &  5.9 & 0.9 & ⋯ & 249.8 & 1.592 & 5.69 & 5.2 & 2 & 1 & 1 & 2 & 2 & 0\\\\\n",
              "\t31082 & 2 & 34 &  2 & 0.45 & 102 &  50.7 & 160.4 & 16.6 &  3.9 & 1.0 & ⋯ & 202.2 & 1.795 & 3.67 & 5.3 & 2 & 2 & 1 & 2 & 2 & 1\\\\\n",
              "\t35407 & 1 & 63 & 14 & 5.00 & 136 & 115.4 & 184.4 & 56.0 &  6.0 & 0.4 & ⋯ & 327.1 & 0.756 & 3.78 & 5.8 & 2 & 1 & 1 & 1 & 2 & 0\\\\\n",
              "\t13940 & 1 & 80 &  7 & 2.65 & 124 &  82.3 & 170.3 & 28.5 &  5.4 & 2.5 & ⋯ & 285.5 & 1.581 & 3.34 & 5.4 & 3 & 3 & 1 & 2 & 1 & 1\\\\\n",
              "\t30646 & 2 & 80 & 15 & 5.00 & 158 &  53.8 & 152.3 & 21.4 &  8.7 & 1.2 & ⋯ & 475.8 & 0.847 & 5.40 & 5.9 & 2 & 2 & 1 & 2 & 2 & 0\\\\\n",
              "\t8062 & 1 & 80 &  2 & 0.38 & 134 &  65.9 & 163.6 & 24.4 &  7.8 & 1.9 & ⋯ & 398.5 & 2.958 & 5.79 & 6.3 & 1 & 2 & 1 & 1 & 2 & 1\\\\\n",
              "\t15452 & 1 & 58 & 14 & 5.00 & 114 &  75.1 & 177.0 & 34.2 &  7.3 & 1.5 & ⋯ & 321.2 & 1.524 & 4.86 & 5.4 & 1 & 1 & 1 & 2 & 2 & 0\\\\\n",
              "\t5600 & 2 & 82 &  3 & 1.24 & 184 &  62.7 & 151.9 & 22.7 & 10.8 & 6.4 & ⋯ & 356.9 & 1.660 & 5.30 & 5.4 & 2 & 1 & 1 & 2 & 1 & 0\\\\\n",
              "\t12974 & 2 & 26 &  3 & 0.86 & 118 & 101.4 & 172.1 & 32.5 & 11.0 & 6.4 & ⋯ & 321.2 & 4.889 & 5.35 & 5.2 & 2 & 1 & 1 & 2 & 1 & 0\\\\\n",
              "\t11344 & 2 & 80 &  2 & 0.47 & 192 &  77.7 & 155.3 & 40.1 &  7.7 & 4.7 & ⋯ & 255.8 & 1.942 & 6.21 & 5.8 & 2 & 2 & 1 & 2 & 1 & 0\\\\\n",
              "\t6533 & 1 & 81 & 10 & 5.00 & 122 &  76.7 & 179.5 & 23.6 &  8.1 & 4.5 & ⋯ & 398.5 & 1.140 & 5.87 & 6.2 & 1 & 1 & 1 & 2 & 2 & 1\\\\\n",
              "\t18736 & 1 & 80 &  3 & 1.23 & 154 &  65.7 & 162.3 & 28.5 & 14.2 & 3.8 & ⋯ & 321.2 & 1.061 & 4.45 & 6.4 & 2 & 2 & 2 & 2 & 2 & 1\\\\\n",
              "\t8158 & 1 & 61 &  9 & 4.95 & 176 &  93.3 & 186.7 & 30.4 &  8.4 & 6.8 & ⋯ & 374.7 & 1.750 & 5.46 & 5.2 & 1 & 1 & 1 & 2 & 2 & 0\\\\\n",
              "\t25035 & 2 & 34 &  9 & 3.14 & 108 &  63.0 & 165.5 & 28.9 &  6.4 & 3.4 & ⋯ & 148.7 & 1.242 & 4.63 & 5.3 & 2 & 2 & 1 & 2 & 2 & 0\\\\\n",
              "\t731 & 1 & 38 &  8 & 2.31 & 127 &  97.2 & 183.4 & 19.5 &  7.9 & 1.6 & ⋯ & 303.3 & 0.734 & 3.72 & 5.5 & 1 & 1 & 1 & 2 & 2 & 0\\\\\n",
              "\t34641 & 1 & 64 &  2 & 0.67 & 118 &  79.3 & 180.8 & 13.1 &  8.6 & 1.8 & ⋯ & 368.8 & 1.558 & 5.90 & 5.3 & 2 & 2 & 1 & 2 & 1 & 1\\\\\n",
              "\t19346 & 1 & 80 & 10 & 4.94 & 146 &  82.8 & 168.0 & 24.8 &  8.9 & 2.5 & ⋯ & 463.9 & 1.355 & 4.09 & 6.7 & 2 & 2 & 1 & 1 & 1 & 1\\\\\n",
              "\\end{tabular}\n"
            ],
            "text/markdown": [
              "\n",
              "A data.frame: 754 × 31\n",
              "\n",
              "| <!--/--> | Gender &lt;int&gt; | Age &lt;int&gt; | Annual.Family.Income &lt;int&gt; | Ratio.Family.Income.Poverty &lt;dbl&gt; | Systolic &lt;int&gt; | Weight &lt;dbl&gt; | Height &lt;dbl&gt; | Lymphocyte &lt;dbl&gt; | Monocyte &lt;dbl&gt; | Eosinophils &lt;dbl&gt; | ⋯ ⋯ | Uric.Acid &lt;dbl&gt; | Triglycerides &lt;dbl&gt; | Total.Cholesterol &lt;dbl&gt; | Glycohemoglobin &lt;dbl&gt; | Vigorous.work &lt;int&gt; | Moderate.work &lt;int&gt; | Health.Insurance &lt;int&gt; | Diabetes &lt;int&gt; | Blood.Rel.Diabetes &lt;int&gt; | CoronaryHeartDisease &lt;fct&gt; |\n",
              "|---|---|---|---|---|---|---|---|---|---|---|---|---|---|---|---|---|---|---|---|---|---|\n",
              "| 6768 | 2 | 47 |  8 | 2.83 | 101 |  48.5 | 151.5 | 20.2 | 11.5 |  4.7 | ⋯ | 166.5 | 1.660 | 5.12 | 4.8 | 2 | 1 | 1 | 2 | 2 | 0 |\n",
              "| 4697 | 1 | 69 | 10 | 4.44 | 144 |  90.7 | 174.4 | 33.6 | 10.8 |  2.5 | ⋯ | 321.2 | 0.723 | 4.09 | 5.5 | 1 | 1 | 1 | 2 | 1 | 1 |\n",
              "| 23285 | 1 | 67 |  4 | 1.34 | 130 | 106.9 | 176.2 | 28.4 |  9.0 |  5.9 | ⋯ | 350.9 | 1.535 | 4.55 | 6.2 | 2 | 2 | 1 | 2 | 2 | 0 |\n",
              "| 33361 | 2 | 70 |  6 | 1.24 | 122 |  94.1 | 154.5 | 25.6 |  4.1 |  2.9 | ⋯ | 333.1 | 4.200 | 5.04 | 8.1 | 2 | 2 | 1 | 1 | 1 | 1 |\n",
              "| 2774 | 1 | 59 |  7 | 3.29 | 140 | 112.4 | 176.0 | 27.1 |  6.6 |  2.3 | ⋯ | 481.8 | 1.705 | 5.12 | 5.6 | 2 | 1 | 2 | 1 | 1 | 0 |\n",
              "| 10198 | 1 | 74 | 10 | 5.00 | 168 |  62.2 | 170.2 | 17.8 |  6.9 |  4.1 | ⋯ | 356.9 | 1.095 | 3.49 | 5.4 | 2 | 2 | 1 | 2 | 2 | 1 |\n",
              "| 25139 | 1 | 69 | 10 | 2.33 | 116 |  74.9 | 167.9 | 32.8 | 12.9 |  2.3 | ⋯ | 493.7 | 1.535 | 3.67 | 7.6 | 2 | 2 | 1 | 1 | 2 | 1 |\n",
              "| 2518 | 1 | 56 |  3 | 1.32 | 189 |  96.6 | 181.6 | 27.0 | 14.1 |  1.0 | ⋯ | 368.8 | 0.937 | 4.81 | 5.7 | 2 | 2 | 2 | 2 | 2 | 0 |\n",
              "| 8762 | 2 | 79 |  5 | 2.23 | 160 |  73.1 | 164.8 | 15.0 |  8.0 |  2.1 | ⋯ | 249.8 | 1.716 | 4.73 | 5.5 | 2 | 2 | 1 | 2 | 2 | 1 |\n",
              "| 31841 | 1 | 64 |  3 | 1.04 | 100 | 101.6 | 179.5 | 19.7 |  7.1 |  2.6 | ⋯ | 297.4 | 1.524 | 3.62 | 6.2 | 1 | 2 | 2 | 1 | 1 | 1 |\n",
              "| 28533 | 1 | 40 |  8 | 2.30 | 114 |  68.4 | 161.7 | 36.5 |  9.0 |  2.0 | ⋯ | 303.3 | 4.313 | 4.86 | 5.7 | 1 | 2 | 2 | 2 | 2 | 0 |\n",
              "| 8244 | 1 | 76 |  8 | 4.13 | 160 | 121.1 | 180.4 | 17.5 |  7.3 |  2.8 | ⋯ | 232.0 | 2.190 | 6.05 | 5.6 | 2 | 1 | 1 | 1 | 1 | 1 |\n",
              "| 23065 | 1 | 29 |  2 | 0.72 | 110 |  78.8 | 168.6 | 23.1 |  7.6 |  4.3 | ⋯ | 333.1 | 2.461 | 4.01 | 5.4 | 1 | 1 | 2 | 2 | 1 | 0 |\n",
              "| 37056 | 1 | 38 |  9 | 2.47 | 112 |  73.1 | 170.5 | 34.9 | 12.7 | 11.7 | ⋯ | 261.7 | 0.926 | 3.98 | 4.7 | 2 | 1 | 1 | 2 | 1 | 0 |\n",
              "| 412 | 2 | 79 | 11 | 5.00 |  80 |  38.9 | 149.4 | 36.3 |  5.5 |  0.9 | ⋯ | 267.7 | 1.389 | 7.06 | 4.5 | 1 | 1 | 1 | 1 | 2 | 1 |\n",
              "| 3335 | 2 | 75 | 11 | 5.00 | 147 |  62.9 | 172.7 | 15.8 |  5.8 |  1.5 | ⋯ | 172.5 | 0.655 | 4.65 | 5.2 | 2 | 2 | 1 | 2 | 2 | 0 |\n",
              "| 20989 | 1 | 75 |  5 | 1.37 | 156 |  69.4 | 170.6 | 24.8 | 10.2 |  2.8 | ⋯ | 273.6 | 0.677 | 3.67 | 6.1 | 2 | 2 | 1 | 1 | 1 | 1 |\n",
              "| 2532 | 2 | 36 |  3 | 1.46 | 106 |  65.8 | 167.9 | 20.0 |  9.5 |  2.5 | ⋯ | 279.6 | 0.485 | 3.85 | 5.1 | 2 | 2 | 2 | 2 | 1 | 0 |\n",
              "| 26996 | 1 | 66 |  6 | 1.57 | 126 |  95.1 | 174.5 | 46.0 |  9.3 |  3.8 | ⋯ | 368.8 | 1.411 | 5.04 | 5.3 | 1 | 1 | 1 | 2 | 2 | 0 |\n",
              "| 13028 | 1 | 59 |  1 | 0.48 | 156 |  85.9 | 181.6 | 48.6 | 11.9 |  3.6 | ⋯ | 309.3 | 1.106 | 4.42 | 7.0 | 2 | 2 | 1 | 2 | 2 | 1 |\n",
              "| 17128 | 2 | 61 |  3 | 1.01 | 128 | 101.9 | 170.2 | 30.2 |  5.7 |  2.2 | ⋯ | 416.4 | 1.445 | 5.79 | 6.2 | 2 | 2 | 1 | 2 | 1 | 0 |\n",
              "| 4873 | 2 | 68 |  3 | 0.90 | 161 |  58.1 | 158.8 | 31.7 |  9.4 |  1.2 | ⋯ | 267.7 | 0.994 | 4.29 | 6.8 | 2 | 1 | 1 | 1 | 1 | 0 |\n",
              "| 18808 | 1 | 67 |  2 | 0.44 | 120 | 131.9 | 183.1 | 42.2 |  9.5 |  2.5 | ⋯ | 380.7 | 1.073 | 3.39 | 5.8 | 2 | 2 | 1 | 1 | 2 | 1 |\n",
              "| 17053 | 1 | 70 |  6 | 1.70 | 132 |  75.7 | 174.4 | 15.9 | 10.1 |  2.9 | ⋯ | 380.7 | 2.664 | 4.16 | 6.6 | 2 | 2 | 1 | 1 | 1 | 1 |\n",
              "| 22276 | 1 | 74 |  8 | 2.27 | 154 |  82.5 | 172.7 | 31.9 | 10.0 |  6.0 | ⋯ | 309.3 | 1.502 | 3.90 | 5.8 | 2 | 2 | 1 | 2 | 1 | 0 |\n",
              "| 12377 | 1 | 70 |  7 | 3.97 | 158 |  82.7 | 183.5 | 29.4 |  6.9 |  1.5 | ⋯ | 333.1 | 2.168 | 5.15 | 6.2 | 1 | 1 | 1 | 2 | 2 | 0 |\n",
              "| 19528 | 1 | 54 | 15 | 5.00 | 104 |  85.6 | 176.8 | 30.7 | 12.3 |  1.3 | ⋯ | 350.9 | 1.919 | 4.53 | 6.0 | 1 | 2 | 1 | 2 | 2 | 1 |\n",
              "| 31748 | 2 | 29 |  6 | 1.11 | 106 |  69.8 | 166.6 | 48.7 |  7.1 |  3.6 | ⋯ | 273.6 | 0.779 | 3.54 | 5.4 | 1 | 1 | 1 | 2 | 2 | 0 |\n",
              "| 10418 | 1 | 49 |  6 | 3.34 | 115 |  93.1 | 182.5 | 25.8 |  5.2 |  2.0 | ⋯ | 422.3 | 0.700 | 4.68 | 4.0 | 1 | 1 | 1 | 2 | 1 | 1 |\n",
              "| 10028 | 1 | 56 |  3 | 0.65 | 119 |  98.4 | 175.6 | 42.6 |  4.4 |  0.9 | ⋯ | 327.1 | 2.800 | 5.59 | 5.7 | 3 | 3 | 2 | 2 | 2 | 1 |\n",
              "| ⋮ | ⋮ | ⋮ | ⋮ | ⋮ | ⋮ | ⋮ | ⋮ | ⋮ | ⋮ | ⋮ | ⋱ | ⋮ | ⋮ | ⋮ | ⋮ | ⋮ | ⋮ | ⋮ | ⋮ | ⋮ | ⋮ |\n",
              "| 1272 | 2 | 76 |  2 | 1.08 | 123 |  75.1 | 159.5 | 23.3 | 11.0 | 4.7 | ⋯ | 618.6 | 4.505 | 4.50 | 5.3 | 2 | 2 | 1 | 2 | 1 | 1 |\n",
              "| 2183 | 1 | 72 |  4 | 1.82 | 153 |  61.8 | 166.0 | 12.3 |  6.5 | 0.4 | ⋯ | 493.7 | 0.644 | 3.34 | 5.5 | 2 | 1 | 1 | 1 | 2 | 1 |\n",
              "| 12235 | 1 | 50 |  6 | 2.57 | 130 |  85.8 | 171.5 | 36.8 |  7.6 | 1.3 | ⋯ | 469.9 | 2.473 | 8.56 | 7.7 | 1 | 1 | 1 | 3 | 1 | 0 |\n",
              "| 31138 | 1 | 72 |  7 | 2.67 | 134 | 103.8 | 177.2 | 39.3 |  8.6 | 2.2 | ⋯ | 279.6 | 1.084 | 3.41 | 5.7 | 2 | 2 | 1 | 3 | 1 | 1 |\n",
              "| 7452 | 1 | 74 |  7 | 2.23 | 132 |  95.2 | 176.3 | 30.9 | 10.0 | 2.8 | ⋯ | 547.2 | 2.326 | 4.40 | 6.3 | 2 | 2 | 1 | 1 | 1 | 1 |\n",
              "| 30108 | 2 | 62 |  4 | 1.53 | 150 |  73.3 | 152.4 | 22.3 |  6.4 | 2.3 | ⋯ | 345.0 | 1.152 | 3.83 | 6.1 | 2 | 1 | 1 | 2 | 1 | 1 |\n",
              "| 9182 | 2 | 20 |  1 | 0.32 | 108 |  52.7 | 164.2 | 31.1 |  4.4 | 1.0 | ⋯ | 243.9 | 2.427 | 4.97 | 4.9 | 1 | 1 | 1 | 2 | 1 | 0 |\n",
              "| 36806 | 1 | 74 |  4 | 1.49 | 138 |  58.6 | 168.5 | 17.7 | 11.6 | 3.6 | ⋯ | 285.5 | 0.802 | 4.01 | 5.5 | 2 | 2 | 1 | 2 | 2 | 1 |\n",
              "| 29359 | 2 | 74 |  9 | 5.00 | 128 |  57.6 | 161.4 | 21.7 |  6.1 | 4.4 | ⋯ | 517.5 | 7.688 | 5.51 | 9.7 | 2 | 2 | 1 | 1 | 2 | 1 |\n",
              "| 28279 | 1 | 57 | 15 | 5.00 | 124 | 140.6 | 182.3 | 23.8 |  8.1 | 1.0 | ⋯ | 737.6 | 0.835 | 2.33 | 8.9 | 2 | 2 | 1 | 1 | 1 | 1 |\n",
              "| 5951 | 1 | 81 |  5 | 1.33 | 151 |  76.1 | 164.1 | 27.8 | 11.4 | 4.5 | ⋯ | 273.6 | 1.208 | 5.09 | 5.4 | 2 | 1 | 1 | 2 | 2 | 0 |\n",
              "| 14366 | 2 | 33 | 11 | 4.20 | 108 |  78.9 | 185.2 | 26.9 |  4.8 | 1.6 | ⋯ | 160.6 | 4.064 | 6.90 | 4.5 | 2 | 1 | 1 | 2 | 2 | 0 |\n",
              "| 8508 | 2 | 30 |  3 | 0.94 | 112 |  75.5 | 161.5 | 34.3 |  7.3 | 1.9 | ⋯ | 196.3 | 0.824 | 4.53 | 5.5 | 2 | 1 | 1 | 2 | 1 | 0 |\n",
              "| 11769 | 2 | 65 |  2 | 1.00 | 108 |  44.8 | 162.7 | 27.0 |  5.9 | 0.9 | ⋯ | 249.8 | 1.592 | 5.69 | 5.2 | 2 | 1 | 1 | 2 | 2 | 0 |\n",
              "| 31082 | 2 | 34 |  2 | 0.45 | 102 |  50.7 | 160.4 | 16.6 |  3.9 | 1.0 | ⋯ | 202.2 | 1.795 | 3.67 | 5.3 | 2 | 2 | 1 | 2 | 2 | 1 |\n",
              "| 35407 | 1 | 63 | 14 | 5.00 | 136 | 115.4 | 184.4 | 56.0 |  6.0 | 0.4 | ⋯ | 327.1 | 0.756 | 3.78 | 5.8 | 2 | 1 | 1 | 1 | 2 | 0 |\n",
              "| 13940 | 1 | 80 |  7 | 2.65 | 124 |  82.3 | 170.3 | 28.5 |  5.4 | 2.5 | ⋯ | 285.5 | 1.581 | 3.34 | 5.4 | 3 | 3 | 1 | 2 | 1 | 1 |\n",
              "| 30646 | 2 | 80 | 15 | 5.00 | 158 |  53.8 | 152.3 | 21.4 |  8.7 | 1.2 | ⋯ | 475.8 | 0.847 | 5.40 | 5.9 | 2 | 2 | 1 | 2 | 2 | 0 |\n",
              "| 8062 | 1 | 80 |  2 | 0.38 | 134 |  65.9 | 163.6 | 24.4 |  7.8 | 1.9 | ⋯ | 398.5 | 2.958 | 5.79 | 6.3 | 1 | 2 | 1 | 1 | 2 | 1 |\n",
              "| 15452 | 1 | 58 | 14 | 5.00 | 114 |  75.1 | 177.0 | 34.2 |  7.3 | 1.5 | ⋯ | 321.2 | 1.524 | 4.86 | 5.4 | 1 | 1 | 1 | 2 | 2 | 0 |\n",
              "| 5600 | 2 | 82 |  3 | 1.24 | 184 |  62.7 | 151.9 | 22.7 | 10.8 | 6.4 | ⋯ | 356.9 | 1.660 | 5.30 | 5.4 | 2 | 1 | 1 | 2 | 1 | 0 |\n",
              "| 12974 | 2 | 26 |  3 | 0.86 | 118 | 101.4 | 172.1 | 32.5 | 11.0 | 6.4 | ⋯ | 321.2 | 4.889 | 5.35 | 5.2 | 2 | 1 | 1 | 2 | 1 | 0 |\n",
              "| 11344 | 2 | 80 |  2 | 0.47 | 192 |  77.7 | 155.3 | 40.1 |  7.7 | 4.7 | ⋯ | 255.8 | 1.942 | 6.21 | 5.8 | 2 | 2 | 1 | 2 | 1 | 0 |\n",
              "| 6533 | 1 | 81 | 10 | 5.00 | 122 |  76.7 | 179.5 | 23.6 |  8.1 | 4.5 | ⋯ | 398.5 | 1.140 | 5.87 | 6.2 | 1 | 1 | 1 | 2 | 2 | 1 |\n",
              "| 18736 | 1 | 80 |  3 | 1.23 | 154 |  65.7 | 162.3 | 28.5 | 14.2 | 3.8 | ⋯ | 321.2 | 1.061 | 4.45 | 6.4 | 2 | 2 | 2 | 2 | 2 | 1 |\n",
              "| 8158 | 1 | 61 |  9 | 4.95 | 176 |  93.3 | 186.7 | 30.4 |  8.4 | 6.8 | ⋯ | 374.7 | 1.750 | 5.46 | 5.2 | 1 | 1 | 1 | 2 | 2 | 0 |\n",
              "| 25035 | 2 | 34 |  9 | 3.14 | 108 |  63.0 | 165.5 | 28.9 |  6.4 | 3.4 | ⋯ | 148.7 | 1.242 | 4.63 | 5.3 | 2 | 2 | 1 | 2 | 2 | 0 |\n",
              "| 731 | 1 | 38 |  8 | 2.31 | 127 |  97.2 | 183.4 | 19.5 |  7.9 | 1.6 | ⋯ | 303.3 | 0.734 | 3.72 | 5.5 | 1 | 1 | 1 | 2 | 2 | 0 |\n",
              "| 34641 | 1 | 64 |  2 | 0.67 | 118 |  79.3 | 180.8 | 13.1 |  8.6 | 1.8 | ⋯ | 368.8 | 1.558 | 5.90 | 5.3 | 2 | 2 | 1 | 2 | 1 | 1 |\n",
              "| 19346 | 1 | 80 | 10 | 4.94 | 146 |  82.8 | 168.0 | 24.8 |  8.9 | 2.5 | ⋯ | 463.9 | 1.355 | 4.09 | 6.7 | 2 | 2 | 1 | 1 | 1 | 1 |\n",
              "\n"
            ],
            "text/plain": [
              "      Gender Age Annual.Family.Income Ratio.Family.Income.Poverty Systolic\n",
              "6768  2      47   8                   2.83                        101     \n",
              "4697  1      69  10                   4.44                        144     \n",
              "23285 1      67   4                   1.34                        130     \n",
              "33361 2      70   6                   1.24                        122     \n",
              "2774  1      59   7                   3.29                        140     \n",
              "10198 1      74  10                   5.00                        168     \n",
              "25139 1      69  10                   2.33                        116     \n",
              "2518  1      56   3                   1.32                        189     \n",
              "8762  2      79   5                   2.23                        160     \n",
              "31841 1      64   3                   1.04                        100     \n",
              "28533 1      40   8                   2.30                        114     \n",
              "8244  1      76   8                   4.13                        160     \n",
              "23065 1      29   2                   0.72                        110     \n",
              "37056 1      38   9                   2.47                        112     \n",
              "412   2      79  11                   5.00                         80     \n",
              "3335  2      75  11                   5.00                        147     \n",
              "20989 1      75   5                   1.37                        156     \n",
              "2532  2      36   3                   1.46                        106     \n",
              "26996 1      66   6                   1.57                        126     \n",
              "13028 1      59   1                   0.48                        156     \n",
              "17128 2      61   3                   1.01                        128     \n",
              "4873  2      68   3                   0.90                        161     \n",
              "18808 1      67   2                   0.44                        120     \n",
              "17053 1      70   6                   1.70                        132     \n",
              "22276 1      74   8                   2.27                        154     \n",
              "12377 1      70   7                   3.97                        158     \n",
              "19528 1      54  15                   5.00                        104     \n",
              "31748 2      29   6                   1.11                        106     \n",
              "10418 1      49   6                   3.34                        115     \n",
              "10028 1      56   3                   0.65                        119     \n",
              "⋮     ⋮      ⋮   ⋮                    ⋮                           ⋮       \n",
              "1272  2      76   2                   1.08                        123     \n",
              "2183  1      72   4                   1.82                        153     \n",
              "12235 1      50   6                   2.57                        130     \n",
              "31138 1      72   7                   2.67                        134     \n",
              "7452  1      74   7                   2.23                        132     \n",
              "30108 2      62   4                   1.53                        150     \n",
              "9182  2      20   1                   0.32                        108     \n",
              "36806 1      74   4                   1.49                        138     \n",
              "29359 2      74   9                   5.00                        128     \n",
              "28279 1      57  15                   5.00                        124     \n",
              "5951  1      81   5                   1.33                        151     \n",
              "14366 2      33  11                   4.20                        108     \n",
              "8508  2      30   3                   0.94                        112     \n",
              "11769 2      65   2                   1.00                        108     \n",
              "31082 2      34   2                   0.45                        102     \n",
              "35407 1      63  14                   5.00                        136     \n",
              "13940 1      80   7                   2.65                        124     \n",
              "30646 2      80  15                   5.00                        158     \n",
              "8062  1      80   2                   0.38                        134     \n",
              "15452 1      58  14                   5.00                        114     \n",
              "5600  2      82   3                   1.24                        184     \n",
              "12974 2      26   3                   0.86                        118     \n",
              "11344 2      80   2                   0.47                        192     \n",
              "6533  1      81  10                   5.00                        122     \n",
              "18736 1      80   3                   1.23                        154     \n",
              "8158  1      61   9                   4.95                        176     \n",
              "25035 2      34   9                   3.14                        108     \n",
              "731   1      38   8                   2.31                        127     \n",
              "34641 1      64   2                   0.67                        118     \n",
              "19346 1      80  10                   4.94                        146     \n",
              "      Weight Height Lymphocyte Monocyte Eosinophils ⋯ Uric.Acid Triglycerides\n",
              "6768   48.5  151.5  20.2       11.5      4.7        ⋯ 166.5     1.660        \n",
              "4697   90.7  174.4  33.6       10.8      2.5        ⋯ 321.2     0.723        \n",
              "23285 106.9  176.2  28.4        9.0      5.9        ⋯ 350.9     1.535        \n",
              "33361  94.1  154.5  25.6        4.1      2.9        ⋯ 333.1     4.200        \n",
              "2774  112.4  176.0  27.1        6.6      2.3        ⋯ 481.8     1.705        \n",
              "10198  62.2  170.2  17.8        6.9      4.1        ⋯ 356.9     1.095        \n",
              "25139  74.9  167.9  32.8       12.9      2.3        ⋯ 493.7     1.535        \n",
              "2518   96.6  181.6  27.0       14.1      1.0        ⋯ 368.8     0.937        \n",
              "8762   73.1  164.8  15.0        8.0      2.1        ⋯ 249.8     1.716        \n",
              "31841 101.6  179.5  19.7        7.1      2.6        ⋯ 297.4     1.524        \n",
              "28533  68.4  161.7  36.5        9.0      2.0        ⋯ 303.3     4.313        \n",
              "8244  121.1  180.4  17.5        7.3      2.8        ⋯ 232.0     2.190        \n",
              "23065  78.8  168.6  23.1        7.6      4.3        ⋯ 333.1     2.461        \n",
              "37056  73.1  170.5  34.9       12.7     11.7        ⋯ 261.7     0.926        \n",
              "412    38.9  149.4  36.3        5.5      0.9        ⋯ 267.7     1.389        \n",
              "3335   62.9  172.7  15.8        5.8      1.5        ⋯ 172.5     0.655        \n",
              "20989  69.4  170.6  24.8       10.2      2.8        ⋯ 273.6     0.677        \n",
              "2532   65.8  167.9  20.0        9.5      2.5        ⋯ 279.6     0.485        \n",
              "26996  95.1  174.5  46.0        9.3      3.8        ⋯ 368.8     1.411        \n",
              "13028  85.9  181.6  48.6       11.9      3.6        ⋯ 309.3     1.106        \n",
              "17128 101.9  170.2  30.2        5.7      2.2        ⋯ 416.4     1.445        \n",
              "4873   58.1  158.8  31.7        9.4      1.2        ⋯ 267.7     0.994        \n",
              "18808 131.9  183.1  42.2        9.5      2.5        ⋯ 380.7     1.073        \n",
              "17053  75.7  174.4  15.9       10.1      2.9        ⋯ 380.7     2.664        \n",
              "22276  82.5  172.7  31.9       10.0      6.0        ⋯ 309.3     1.502        \n",
              "12377  82.7  183.5  29.4        6.9      1.5        ⋯ 333.1     2.168        \n",
              "19528  85.6  176.8  30.7       12.3      1.3        ⋯ 350.9     1.919        \n",
              "31748  69.8  166.6  48.7        7.1      3.6        ⋯ 273.6     0.779        \n",
              "10418  93.1  182.5  25.8        5.2      2.0        ⋯ 422.3     0.700        \n",
              "10028  98.4  175.6  42.6        4.4      0.9        ⋯ 327.1     2.800        \n",
              "⋮     ⋮      ⋮      ⋮          ⋮        ⋮           ⋱ ⋮         ⋮            \n",
              "1272   75.1  159.5  23.3       11.0     4.7         ⋯ 618.6     4.505        \n",
              "2183   61.8  166.0  12.3        6.5     0.4         ⋯ 493.7     0.644        \n",
              "12235  85.8  171.5  36.8        7.6     1.3         ⋯ 469.9     2.473        \n",
              "31138 103.8  177.2  39.3        8.6     2.2         ⋯ 279.6     1.084        \n",
              "7452   95.2  176.3  30.9       10.0     2.8         ⋯ 547.2     2.326        \n",
              "30108  73.3  152.4  22.3        6.4     2.3         ⋯ 345.0     1.152        \n",
              "9182   52.7  164.2  31.1        4.4     1.0         ⋯ 243.9     2.427        \n",
              "36806  58.6  168.5  17.7       11.6     3.6         ⋯ 285.5     0.802        \n",
              "29359  57.6  161.4  21.7        6.1     4.4         ⋯ 517.5     7.688        \n",
              "28279 140.6  182.3  23.8        8.1     1.0         ⋯ 737.6     0.835        \n",
              "5951   76.1  164.1  27.8       11.4     4.5         ⋯ 273.6     1.208        \n",
              "14366  78.9  185.2  26.9        4.8     1.6         ⋯ 160.6     4.064        \n",
              "8508   75.5  161.5  34.3        7.3     1.9         ⋯ 196.3     0.824        \n",
              "11769  44.8  162.7  27.0        5.9     0.9         ⋯ 249.8     1.592        \n",
              "31082  50.7  160.4  16.6        3.9     1.0         ⋯ 202.2     1.795        \n",
              "35407 115.4  184.4  56.0        6.0     0.4         ⋯ 327.1     0.756        \n",
              "13940  82.3  170.3  28.5        5.4     2.5         ⋯ 285.5     1.581        \n",
              "30646  53.8  152.3  21.4        8.7     1.2         ⋯ 475.8     0.847        \n",
              "8062   65.9  163.6  24.4        7.8     1.9         ⋯ 398.5     2.958        \n",
              "15452  75.1  177.0  34.2        7.3     1.5         ⋯ 321.2     1.524        \n",
              "5600   62.7  151.9  22.7       10.8     6.4         ⋯ 356.9     1.660        \n",
              "12974 101.4  172.1  32.5       11.0     6.4         ⋯ 321.2     4.889        \n",
              "11344  77.7  155.3  40.1        7.7     4.7         ⋯ 255.8     1.942        \n",
              "6533   76.7  179.5  23.6        8.1     4.5         ⋯ 398.5     1.140        \n",
              "18736  65.7  162.3  28.5       14.2     3.8         ⋯ 321.2     1.061        \n",
              "8158   93.3  186.7  30.4        8.4     6.8         ⋯ 374.7     1.750        \n",
              "25035  63.0  165.5  28.9        6.4     3.4         ⋯ 148.7     1.242        \n",
              "731    97.2  183.4  19.5        7.9     1.6         ⋯ 303.3     0.734        \n",
              "34641  79.3  180.8  13.1        8.6     1.8         ⋯ 368.8     1.558        \n",
              "19346  82.8  168.0  24.8        8.9     2.5         ⋯ 463.9     1.355        \n",
              "      Total.Cholesterol Glycohemoglobin Vigorous.work Moderate.work\n",
              "6768  5.12              4.8             2             1            \n",
              "4697  4.09              5.5             1             1            \n",
              "23285 4.55              6.2             2             2            \n",
              "33361 5.04              8.1             2             2            \n",
              "2774  5.12              5.6             2             1            \n",
              "10198 3.49              5.4             2             2            \n",
              "25139 3.67              7.6             2             2            \n",
              "2518  4.81              5.7             2             2            \n",
              "8762  4.73              5.5             2             2            \n",
              "31841 3.62              6.2             1             2            \n",
              "28533 4.86              5.7             1             2            \n",
              "8244  6.05              5.6             2             1            \n",
              "23065 4.01              5.4             1             1            \n",
              "37056 3.98              4.7             2             1            \n",
              "412   7.06              4.5             1             1            \n",
              "3335  4.65              5.2             2             2            \n",
              "20989 3.67              6.1             2             2            \n",
              "2532  3.85              5.1             2             2            \n",
              "26996 5.04              5.3             1             1            \n",
              "13028 4.42              7.0             2             2            \n",
              "17128 5.79              6.2             2             2            \n",
              "4873  4.29              6.8             2             1            \n",
              "18808 3.39              5.8             2             2            \n",
              "17053 4.16              6.6             2             2            \n",
              "22276 3.90              5.8             2             2            \n",
              "12377 5.15              6.2             1             1            \n",
              "19528 4.53              6.0             1             2            \n",
              "31748 3.54              5.4             1             1            \n",
              "10418 4.68              4.0             1             1            \n",
              "10028 5.59              5.7             3             3            \n",
              "⋮     ⋮                 ⋮               ⋮             ⋮            \n",
              "1272  4.50              5.3             2             2            \n",
              "2183  3.34              5.5             2             1            \n",
              "12235 8.56              7.7             1             1            \n",
              "31138 3.41              5.7             2             2            \n",
              "7452  4.40              6.3             2             2            \n",
              "30108 3.83              6.1             2             1            \n",
              "9182  4.97              4.9             1             1            \n",
              "36806 4.01              5.5             2             2            \n",
              "29359 5.51              9.7             2             2            \n",
              "28279 2.33              8.9             2             2            \n",
              "5951  5.09              5.4             2             1            \n",
              "14366 6.90              4.5             2             1            \n",
              "8508  4.53              5.5             2             1            \n",
              "11769 5.69              5.2             2             1            \n",
              "31082 3.67              5.3             2             2            \n",
              "35407 3.78              5.8             2             1            \n",
              "13940 3.34              5.4             3             3            \n",
              "30646 5.40              5.9             2             2            \n",
              "8062  5.79              6.3             1             2            \n",
              "15452 4.86              5.4             1             1            \n",
              "5600  5.30              5.4             2             1            \n",
              "12974 5.35              5.2             2             1            \n",
              "11344 6.21              5.8             2             2            \n",
              "6533  5.87              6.2             1             1            \n",
              "18736 4.45              6.4             2             2            \n",
              "8158  5.46              5.2             1             1            \n",
              "25035 4.63              5.3             2             2            \n",
              "731   3.72              5.5             1             1            \n",
              "34641 5.90              5.3             2             2            \n",
              "19346 4.09              6.7             2             2            \n",
              "      Health.Insurance Diabetes Blood.Rel.Diabetes CoronaryHeartDisease\n",
              "6768  1                2        2                  0                   \n",
              "4697  1                2        1                  1                   \n",
              "23285 1                2        2                  0                   \n",
              "33361 1                1        1                  1                   \n",
              "2774  2                1        1                  0                   \n",
              "10198 1                2        2                  1                   \n",
              "25139 1                1        2                  1                   \n",
              "2518  2                2        2                  0                   \n",
              "8762  1                2        2                  1                   \n",
              "31841 2                1        1                  1                   \n",
              "28533 2                2        2                  0                   \n",
              "8244  1                1        1                  1                   \n",
              "23065 2                2        1                  0                   \n",
              "37056 1                2        1                  0                   \n",
              "412   1                1        2                  1                   \n",
              "3335  1                2        2                  0                   \n",
              "20989 1                1        1                  1                   \n",
              "2532  2                2        1                  0                   \n",
              "26996 1                2        2                  0                   \n",
              "13028 1                2        2                  1                   \n",
              "17128 1                2        1                  0                   \n",
              "4873  1                1        1                  0                   \n",
              "18808 1                1        2                  1                   \n",
              "17053 1                1        1                  1                   \n",
              "22276 1                2        1                  0                   \n",
              "12377 1                2        2                  0                   \n",
              "19528 1                2        2                  1                   \n",
              "31748 1                2        2                  0                   \n",
              "10418 1                2        1                  1                   \n",
              "10028 2                2        2                  1                   \n",
              "⋮     ⋮                ⋮        ⋮                  ⋮                   \n",
              "1272  1                2        1                  1                   \n",
              "2183  1                1        2                  1                   \n",
              "12235 1                3        1                  0                   \n",
              "31138 1                3        1                  1                   \n",
              "7452  1                1        1                  1                   \n",
              "30108 1                2        1                  1                   \n",
              "9182  1                2        1                  0                   \n",
              "36806 1                2        2                  1                   \n",
              "29359 1                1        2                  1                   \n",
              "28279 1                1        1                  1                   \n",
              "5951  1                2        2                  0                   \n",
              "14366 1                2        2                  0                   \n",
              "8508  1                2        1                  0                   \n",
              "11769 1                2        2                  0                   \n",
              "31082 1                2        2                  1                   \n",
              "35407 1                1        2                  0                   \n",
              "13940 1                2        1                  1                   \n",
              "30646 1                2        2                  0                   \n",
              "8062  1                1        2                  1                   \n",
              "15452 1                2        2                  0                   \n",
              "5600  1                2        1                  0                   \n",
              "12974 1                2        1                  0                   \n",
              "11344 1                2        1                  0                   \n",
              "6533  1                2        2                  1                   \n",
              "18736 2                2        2                  1                   \n",
              "8158  1                2        2                  0                   \n",
              "25035 1                2        2                  0                   \n",
              "731   1                2        2                  0                   \n",
              "34641 1                2        1                  1                   \n",
              "19346 1                1        1                  1                   "
            ]
          },
          "metadata": {},
          "output_type": "display_data"
        }
      ],
      "source": [
        "# Find the optimal lambda value\n",
        "best_lambda <- lasso_model$lambda.min\n",
        "\n",
        "# Extract selected features\n",
        "selected_features <- coef(lasso_model, s = best_lambda)\n",
        "\n",
        "# Reduce dimensionality\n",
        "reduced_train_data <- train_data[, which(selected_features[-1] != 0)]\n",
        "reduced_test_data <- test_data[, which(selected_features[-1] != 0)]\n",
        "reduced_test_data"
      ]
    },
    {
      "cell_type": "markdown",
      "metadata": {
        "id": "PK4-d6NRuWfL"
      },
      "source": [
        "## Re-Training the models"
      ]
    },
    {
      "cell_type": "markdown",
      "metadata": {
        "id": "zzRVweQ8ucCX"
      },
      "source": [
        "### LR"
      ]
    },
    {
      "cell_type": "code",
      "execution_count": 9,
      "metadata": {
        "colab": {
          "base_uri": "https://localhost:8080/",
          "height": 485
        },
        "id": "qIEia_t9uUzH",
        "outputId": "00bd990b-f4bf-4b58-bdae-0873ced30502",
        "vscode": {
          "languageId": "r"
        }
      },
      "outputs": [
        {
          "data": {
            "text/plain": [
              "Confusion Matrix and Statistics\n",
              "\n",
              "          Reference\n",
              "Prediction   0   1\n",
              "         0 262  75\n",
              "         1 115 302\n",
              "                                          \n",
              "               Accuracy : 0.748           \n",
              "                 95% CI : (0.7154, 0.7786)\n",
              "    No Information Rate : 0.5             \n",
              "    P-Value [Acc > NIR] : < 2.2e-16       \n",
              "                                          \n",
              "                  Kappa : 0.496           \n",
              "                                          \n",
              " Mcnemar's Test P-Value : 0.004664        \n",
              "                                          \n",
              "            Sensitivity : 0.6950          \n",
              "            Specificity : 0.8011          \n",
              "         Pos Pred Value : 0.7774          \n",
              "         Neg Pred Value : 0.7242          \n",
              "             Prevalence : 0.5000          \n",
              "         Detection Rate : 0.3475          \n",
              "   Detection Prevalence : 0.4469          \n",
              "      Balanced Accuracy : 0.7480          \n",
              "                                          \n",
              "       'Positive' Class : 0               \n",
              "                                          "
            ]
          },
          "metadata": {},
          "output_type": "display_data"
        }
      ],
      "source": [
        "model <- train(CoronaryHeartDisease ~ ., data = reduced_train_data, method = \"glm\", trControl = ctrl, metric = \"Accuracy\")\n",
        "\n",
        "predictions <- predict(model, newdata = reduced_test_data)\n",
        "conf_matrix <- confusionMatrix(predictions, reduced_test_data$CoronaryHeartDisease)\n",
        "conf_matrix"
      ]
    },
    {
      "cell_type": "markdown",
      "metadata": {
        "id": "r8fWq2O4u3kj"
      },
      "source": [
        "### SVM"
      ]
    },
    {
      "cell_type": "code",
      "execution_count": null,
      "metadata": {
        "colab": {
          "base_uri": "https://localhost:8080/",
          "height": 485
        },
        "id": "gtRs7M98u5M2",
        "outputId": "f9ea7bf8-9664-4472-a604-9d0a07fae0b1",
        "vscode": {
          "languageId": "r"
        }
      },
      "outputs": [
        {
          "data": {
            "text/plain": [
              "Confusion Matrix and Statistics\n",
              "\n",
              "          Reference\n",
              "Prediction   0   1\n",
              "         0 262  66\n",
              "         1 115 311\n",
              "                                        \n",
              "               Accuracy : 0.7599        \n",
              "                 95% CI : (0.7278, 0.79)\n",
              "    No Information Rate : 0.5           \n",
              "    P-Value [Acc > NIR] : < 2e-16       \n",
              "                                        \n",
              "                  Kappa : 0.5199        \n",
              "                                        \n",
              " Mcnemar's Test P-Value : 0.00036       \n",
              "                                        \n",
              "            Sensitivity : 0.6950        \n",
              "            Specificity : 0.8249        \n",
              "         Pos Pred Value : 0.7988        \n",
              "         Neg Pred Value : 0.7300        \n",
              "             Prevalence : 0.5000        \n",
              "         Detection Rate : 0.3475        \n",
              "   Detection Prevalence : 0.4350        \n",
              "      Balanced Accuracy : 0.7599        \n",
              "                                        \n",
              "       'Positive' Class : 0             \n",
              "                                        "
            ]
          },
          "metadata": {},
          "output_type": "display_data"
        }
      ],
      "source": [
        "model <- train(CoronaryHeartDisease ~ ., data = reduced_train_data, method = \"svmRadial\", trControl = ctrl, metric = \"Accuracy\")\n",
        "\n",
        "predictions <- predict(model, newdata = reduced_test_data)\n",
        "conf_matrix <- confusionMatrix(predictions, reduced_test_data$CoronaryHeartDisease)\n",
        "conf_matrix"
      ]
    }
  ],
  "metadata": {
    "colab": {
      "authorship_tag": "ABX9TyN3p8oQEjnVoh9uiZO7f9Il",
      "provenance": [],
      "toc_visible": true
    },
    "kernelspec": {
      "display_name": "R",
      "language": "R",
      "name": "ir"
    },
    "language_info": {
      "codemirror_mode": "r",
      "file_extension": ".r",
      "mimetype": "text/x-r-source",
      "name": "R",
      "pygments_lexer": "r",
      "version": "4.3.2"
    }
  },
  "nbformat": 4,
  "nbformat_minor": 0
}
